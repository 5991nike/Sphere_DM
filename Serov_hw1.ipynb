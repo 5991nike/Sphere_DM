{
 "cells": [
  {
   "cell_type": "markdown",
   "metadata": {},
   "source": [
    "# Алгоритмы интеллектуальной обработки больших объемов данных\n",
    "## Домашнее задание №1 - Метод k-средних, предобработка признаков\n"
   ]
  },
  {
   "cell_type": "markdown",
   "metadata": {},
   "source": [
    "# <hr\\>\n",
    "**Общая информация**\n",
    "\n",
    "**Срок сдачи:** до 7 октября 2017, 06:00   \n",
    "**Штраф за опоздание:** -2 балла после 06:00 7 октября, -4 балла после 06:00 14 октября, -6 баллов после 06:00 21 октября\n",
    "\n",
    "При отправлении ДЗ указывайте фамилию в названии файла   \n",
    "\n",
    "\n",
    "Присылать ДЗ необходимо в виде ссылки на свой github репозиторий в slack @alkhamush\n",
    "Необходимо в slack создать таск в приватный чат:   \n",
    "/todo Фамилия Имя *ссылка на гитхаб* @alkhamush   \n",
    "Пример:   \n",
    "/todo Ксения Стройкова https://github.com/stroykova/spheremailru/stroykova_hw1.ipynb @alkhamush   \n",
    "\n",
    "Используйте данный Ipython Notebook при оформлении домашнего задания.\n",
    "<hr\\>"
   ]
  },
  {
   "cell_type": "markdown",
   "metadata": {},
   "source": [
    "# Первое задание - указать фамилию в имени файла"
   ]
  },
  {
   "cell_type": "code",
   "execution_count": 2,
   "metadata": {
    "collapsed": true
   },
   "outputs": [],
   "source": [
    "import pandas as pd\n",
    "import numpy as np\n",
    "import matplotlib.pyplot as plt\n",
    "\n",
    "%matplotlib inline\n",
    "\n",
    "plt.style.use('ggplot')\n",
    "plt.rcParams['figure.figsize'] = (12,5)"
   ]
  },
  {
   "cell_type": "markdown",
   "metadata": {},
   "source": [
    "# Пролог: Модуль sklearn\n",
    "На наших практических занятиях мы будем использовать [sklearn](http://scikit-learn.org/stable/index.html) (scikit-learn) - наиболее популярный модуль для работы с методами машинного обучения и анализа данных.\n",
    "\n",
    "Этот модуль регулярно обновляется, расширяется и сопровождается примерами использования тех или иных методов. Помимо самих алгоритмов (например k-средних или линейной регрессии) в нем есть множество вспомогательных функций по работе с данными."
   ]
  },
  {
   "cell_type": "markdown",
   "metadata": {},
   "source": [
    "# Туториал: Работа с различными типами признаков"
   ]
  },
  {
   "cell_type": "markdown",
   "metadata": {},
   "source": [
    "Вспомним какие типы признаков могут встретится при описании объектов исследования и как их представить в доступной для обработки компьтером форме"
   ]
  },
  {
   "cell_type": "markdown",
   "metadata": {},
   "source": [
    "Типы признаков мы будем рассматривать на примере довольно популярного набора данных [titanic](https://www.kaggle.com/c/titanic/download/train.csv) - информации о выживаемости пассажиров после известной трагедии корабля Titanic."
   ]
  },
  {
   "cell_type": "raw",
   "metadata": {},
   "source": [
    "ARIABLE DESCRIPTIONS:\n",
    "survival        Survival\n",
    "                (0 = No; 1 = Yes)\n",
    "pclass          Passenger Class\n",
    "                (1 = 1st; 2 = 2nd; 3 = 3rd)\n",
    "name            Name\n",
    "sex             Sex\n",
    "age             Age\n",
    "sibsp           Number of Siblings/Spouses Aboard\n",
    "parch           Number of Parents/Children Aboard\n",
    "ticket          Ticket Number\n",
    "fare            Passenger Fare\n",
    "cabin           Cabin\n",
    "embarked        Port of Embarkation\n",
    "                (C = Cherbourg; Q = Queenstown; S = Southampton)"
   ]
  },
  {
   "cell_type": "code",
   "execution_count": 3,
   "metadata": {},
   "outputs": [
    {
     "data": {
      "text/html": [
       "<div>\n",
       "<style>\n",
       "    .dataframe thead tr:only-child th {\n",
       "        text-align: right;\n",
       "    }\n",
       "\n",
       "    .dataframe thead th {\n",
       "        text-align: left;\n",
       "    }\n",
       "\n",
       "    .dataframe tbody tr th {\n",
       "        vertical-align: top;\n",
       "    }\n",
       "</style>\n",
       "<table border=\"1\" class=\"dataframe\">\n",
       "  <thead>\n",
       "    <tr style=\"text-align: right;\">\n",
       "      <th></th>\n",
       "      <th>PassengerId</th>\n",
       "      <th>Survived</th>\n",
       "      <th>Pclass</th>\n",
       "      <th>Name</th>\n",
       "      <th>Sex</th>\n",
       "      <th>Age</th>\n",
       "      <th>SibSp</th>\n",
       "      <th>Parch</th>\n",
       "      <th>Ticket</th>\n",
       "      <th>Fare</th>\n",
       "      <th>Cabin</th>\n",
       "      <th>Embarked</th>\n",
       "    </tr>\n",
       "  </thead>\n",
       "  <tbody>\n",
       "    <tr>\n",
       "      <th>1</th>\n",
       "      <td>2</td>\n",
       "      <td>1</td>\n",
       "      <td>1</td>\n",
       "      <td>Cumings, Mrs. John Bradley (Florence Briggs Th...</td>\n",
       "      <td>female</td>\n",
       "      <td>38.0</td>\n",
       "      <td>1</td>\n",
       "      <td>0</td>\n",
       "      <td>PC 17599</td>\n",
       "      <td>71.2833</td>\n",
       "      <td>C85</td>\n",
       "      <td>C</td>\n",
       "    </tr>\n",
       "    <tr>\n",
       "      <th>3</th>\n",
       "      <td>4</td>\n",
       "      <td>1</td>\n",
       "      <td>1</td>\n",
       "      <td>Futrelle, Mrs. Jacques Heath (Lily May Peel)</td>\n",
       "      <td>female</td>\n",
       "      <td>35.0</td>\n",
       "      <td>1</td>\n",
       "      <td>0</td>\n",
       "      <td>113803</td>\n",
       "      <td>53.1000</td>\n",
       "      <td>C123</td>\n",
       "      <td>S</td>\n",
       "    </tr>\n",
       "    <tr>\n",
       "      <th>6</th>\n",
       "      <td>7</td>\n",
       "      <td>0</td>\n",
       "      <td>1</td>\n",
       "      <td>McCarthy, Mr. Timothy J</td>\n",
       "      <td>male</td>\n",
       "      <td>54.0</td>\n",
       "      <td>0</td>\n",
       "      <td>0</td>\n",
       "      <td>17463</td>\n",
       "      <td>51.8625</td>\n",
       "      <td>E46</td>\n",
       "      <td>S</td>\n",
       "    </tr>\n",
       "    <tr>\n",
       "      <th>10</th>\n",
       "      <td>11</td>\n",
       "      <td>1</td>\n",
       "      <td>3</td>\n",
       "      <td>Sandstrom, Miss. Marguerite Rut</td>\n",
       "      <td>female</td>\n",
       "      <td>4.0</td>\n",
       "      <td>1</td>\n",
       "      <td>1</td>\n",
       "      <td>PP 9549</td>\n",
       "      <td>16.7000</td>\n",
       "      <td>G6</td>\n",
       "      <td>S</td>\n",
       "    </tr>\n",
       "    <tr>\n",
       "      <th>11</th>\n",
       "      <td>12</td>\n",
       "      <td>1</td>\n",
       "      <td>1</td>\n",
       "      <td>Bonnell, Miss. Elizabeth</td>\n",
       "      <td>female</td>\n",
       "      <td>58.0</td>\n",
       "      <td>0</td>\n",
       "      <td>0</td>\n",
       "      <td>113783</td>\n",
       "      <td>26.5500</td>\n",
       "      <td>C103</td>\n",
       "      <td>S</td>\n",
       "    </tr>\n",
       "  </tbody>\n",
       "</table>\n",
       "</div>"
      ],
      "text/plain": [
       "    PassengerId  Survived  Pclass  \\\n",
       "1             2         1       1   \n",
       "3             4         1       1   \n",
       "6             7         0       1   \n",
       "10           11         1       3   \n",
       "11           12         1       1   \n",
       "\n",
       "                                                 Name     Sex   Age  SibSp  \\\n",
       "1   Cumings, Mrs. John Bradley (Florence Briggs Th...  female  38.0      1   \n",
       "3        Futrelle, Mrs. Jacques Heath (Lily May Peel)  female  35.0      1   \n",
       "6                             McCarthy, Mr. Timothy J    male  54.0      0   \n",
       "10                    Sandstrom, Miss. Marguerite Rut  female   4.0      1   \n",
       "11                           Bonnell, Miss. Elizabeth  female  58.0      0   \n",
       "\n",
       "    Parch    Ticket     Fare Cabin Embarked  \n",
       "1       0  PC 17599  71.2833   C85        C  \n",
       "3       0    113803  53.1000  C123        S  \n",
       "6       0     17463  51.8625   E46        S  \n",
       "10      1   PP 9549  16.7000    G6        S  \n",
       "11      0    113783  26.5500  C103        S  "
      ]
     },
     "execution_count": 3,
     "metadata": {},
     "output_type": "execute_result"
    }
   ],
   "source": [
    "df_titanic = pd.read_csv('train.csv', sep=',').dropna()\n",
    "df_titanic.head()"
   ]
  },
  {
   "cell_type": "markdown",
   "metadata": {},
   "source": [
    "## Бинарные признаки\n",
    "Это признаки с двумя возможными значениями\n",
    "* Пол (мужской, женский)\n",
    "* Выжил (да, нет)\n",
    "\n",
    "На вход в алгоритмы обычно подаются в виде значений `{0, 1}` (реже в виде `{-1, 1}`)"
   ]
  },
  {
   "cell_type": "code",
   "execution_count": 4,
   "metadata": {},
   "outputs": [
    {
     "data": {
      "text/plain": [
       "1    123\n",
       "0     60\n",
       "Name: Survived, dtype: int64"
      ]
     },
     "execution_count": 4,
     "metadata": {},
     "output_type": "execute_result"
    }
   ],
   "source": [
    "# Здесь все нормально\n",
    "df_titanic.Survived.value_counts()"
   ]
  },
  {
   "cell_type": "code",
   "execution_count": 5,
   "metadata": {},
   "outputs": [
    {
     "data": {
      "text/plain": [
       "male      95\n",
       "female    88\n",
       "Name: Sex, dtype: int64"
      ]
     },
     "execution_count": 5,
     "metadata": {},
     "output_type": "execute_result"
    }
   ],
   "source": [
    "# Тут стоит выполнить переобознаение\n",
    "df_titanic.Sex.value_counts()"
   ]
  },
  {
   "cell_type": "code",
   "execution_count": 6,
   "metadata": {},
   "outputs": [
    {
     "data": {
      "text/plain": [
       "0    95\n",
       "1    88\n",
       "Name: Sex, dtype: int64"
      ]
     },
     "execution_count": 6,
     "metadata": {},
     "output_type": "execute_result"
    }
   ],
   "source": [
    "# Например так\n",
    "df_titanic.Sex = df_titanic.Sex.replace({'male': 0, 'female': 1})\n",
    "df_titanic.Sex.value_counts()"
   ]
  },
  {
   "cell_type": "markdown",
   "metadata": {},
   "source": [
    "## Вещественные признаки\n",
    "\n",
    "* Возраст\n",
    "* Сумма, потраченная на билет\n",
    "* Количество родственников на борту\n",
    "\n",
    "Как правило остаются в том же виде или выполняется **нормализация** признаков, т.е. переход к одинаковой шкале, например:\n",
    "\n",
    "* $\\tilde{x} = \\frac{x - \\text{mean}(x)}{\\text{std}(x)}$\n",
    "* $\\tilde{x} = \\frac{x - \\text{min}(x)}{\\text{max}(x) - \\text{min}(x)}$"
   ]
  },
  {
   "cell_type": "markdown",
   "metadata": {},
   "source": [
    "## Категориальные признаки\n",
    "\n",
    "Принимают значения из *неупорядоченного* множества\n",
    "\n",
    "* Порт погрузки (C = Cherbourg; Q = Queenstown; S = Southampton)\n",
    "* Точка отправления (St Louis, MO; Montreal, PQ; .. }\n",
    "* Точка назначения (Chesterville, ON; Roseville, IL; .. }\n",
    "\n",
    "Обычно такие признаки кодируют с помощью так называемого One Hot Encoding: </br>\n",
    "для каждой категории создается бинарная маска-столбец, в которой стоит `1` если значение признака равно значению соответствующей категории категории.\n",
    "\n",
    "Например, для признака \"порт погрзки\" создается бинарная макска из трех стобцов для каждого из портов: С, Q, S<br/>\n",
    "Если пассажир заходил на кораблю в порту Southampton, то его признаковое описание будет соответственно: `[0, 0, 1]`"
   ]
  },
  {
   "cell_type": "code",
   "execution_count": 7,
   "metadata": {},
   "outputs": [
    {
     "data": {
      "text/plain": [
       "1     C\n",
       "3     S\n",
       "6     S\n",
       "10    S\n",
       "11    S\n",
       "Name: Embarked, dtype: object"
      ]
     },
     "execution_count": 7,
     "metadata": {},
     "output_type": "execute_result"
    }
   ],
   "source": [
    "df_titanic.Embarked.head()"
   ]
  },
  {
   "cell_type": "code",
   "execution_count": 8,
   "metadata": {},
   "outputs": [
    {
     "data": {
      "text/html": [
       "<div>\n",
       "<style>\n",
       "    .dataframe thead tr:only-child th {\n",
       "        text-align: right;\n",
       "    }\n",
       "\n",
       "    .dataframe thead th {\n",
       "        text-align: left;\n",
       "    }\n",
       "\n",
       "    .dataframe tbody tr th {\n",
       "        vertical-align: top;\n",
       "    }\n",
       "</style>\n",
       "<table border=\"1\" class=\"dataframe\">\n",
       "  <thead>\n",
       "    <tr style=\"text-align: right;\">\n",
       "      <th></th>\n",
       "      <th>Embarked=C</th>\n",
       "      <th>Embarked=Q</th>\n",
       "      <th>Embarked=S</th>\n",
       "    </tr>\n",
       "  </thead>\n",
       "  <tbody>\n",
       "    <tr>\n",
       "      <th>1</th>\n",
       "      <td>1</td>\n",
       "      <td>0</td>\n",
       "      <td>0</td>\n",
       "    </tr>\n",
       "    <tr>\n",
       "      <th>3</th>\n",
       "      <td>0</td>\n",
       "      <td>0</td>\n",
       "      <td>1</td>\n",
       "    </tr>\n",
       "    <tr>\n",
       "      <th>6</th>\n",
       "      <td>0</td>\n",
       "      <td>0</td>\n",
       "      <td>1</td>\n",
       "    </tr>\n",
       "    <tr>\n",
       "      <th>10</th>\n",
       "      <td>0</td>\n",
       "      <td>0</td>\n",
       "      <td>1</td>\n",
       "    </tr>\n",
       "    <tr>\n",
       "      <th>11</th>\n",
       "      <td>0</td>\n",
       "      <td>0</td>\n",
       "      <td>1</td>\n",
       "    </tr>\n",
       "  </tbody>\n",
       "</table>\n",
       "</div>"
      ],
      "text/plain": [
       "    Embarked=C  Embarked=Q  Embarked=S\n",
       "1            1           0           0\n",
       "3            0           0           1\n",
       "6            0           0           1\n",
       "10           0           0           1\n",
       "11           0           0           1"
      ]
     },
     "execution_count": 8,
     "metadata": {},
     "output_type": "execute_result"
    }
   ],
   "source": [
    "# Сделать в python это можно несколькими способами:\n",
    "\n",
    "# 1: Через pandas (не очень рекомендуется)\n",
    "emb = pd.get_dummies(df_titanic.Embarked, prefix='Embarked', prefix_sep='=')\n",
    "emb.head()"
   ]
  },
  {
   "cell_type": "code",
   "execution_count": 9,
   "metadata": {},
   "outputs": [
    {
     "data": {
      "text/plain": [
       "array([[ 1.,  0.,  0.],\n",
       "       [ 0.,  0.,  1.],\n",
       "       [ 0.,  0.,  1.],\n",
       "       [ 0.,  0.,  1.],\n",
       "       [ 0.,  0.,  1.]])"
      ]
     },
     "execution_count": 9,
     "metadata": {},
     "output_type": "execute_result"
    }
   ],
   "source": [
    "# 2: Функционал sklearn\n",
    "from sklearn.preprocessing import OneHotEncoder\n",
    "\n",
    "encoder = OneHotEncoder(sparse=False)\n",
    "\n",
    "emb = df_titanic.loc[:, ['Embarked']].replace({'C': 0, 'Q': 1, 'S': 2}).values\n",
    "emb_enc = encoder.fit_transform(emb)\n",
    "emb_enc[:5]"
   ]
  },
  {
   "cell_type": "markdown",
   "metadata": {},
   "source": [
    "Про другием способы работы с категориальными переменными можно прочитать вот [тут](https://alexanderdyakonov.wordpress.com/2016/08/03/python-%D0%BA%D0%B0%D1%82%D0%B5%D0%B3%D0%BE%D1%80%D0%B8%D0%B0%D0%BB%D1%8C%D0%BD%D1%8B%D0%B5-%D0%BF%D1%80%D0%B8%D0%B7%D0%BD%D0%B0%D0%BA%D0%B8/)"
   ]
  },
  {
   "cell_type": "markdown",
   "metadata": {},
   "source": [
    "## Порядковый признаки"
   ]
  },
  {
   "cell_type": "markdown",
   "metadata": {},
   "source": [
    "Принимают значения из *упорядоченного* множества\n",
    "\n",
    "* Класс каюты (1 > 2 > 3)\n",
    "\n",
    "В зависимости от метода остаются можно оставить в исходном виде или применить OneHotEncoding."
   ]
  },
  {
   "cell_type": "markdown",
   "metadata": {},
   "source": [
    "## Текстовые признаки - Bag of words"
   ]
  },
  {
   "cell_type": "markdown",
   "metadata": {},
   "source": [
    "Для демонстрации возьмем текст стихотворения Блока:\n",
    "\n",
    "Ночь, улица, фонарь, аптека,<br/>\n",
    "Бессмысленный и тусклый свет.<br/>\n",
    "Живи еще хоть четверть века -<br/>\n",
    "Все будет так. Исхода нет.<br/>\n",
    "\n",
    "Умрешь - начнешь опять сначала<br/>\n",
    "И повторится все, как встарь:<br/>\n",
    "Ночь, ледяная рябь канала,<br/>\n",
    "Аптека, улица, фонарь.<br/>\n",
    "\n",
    "Пусть каждая строчка - это будет условный документ. Переведем эти документы в числовое представление по методу мешка слов (Bag Of Words)"
   ]
  },
  {
   "cell_type": "code",
   "execution_count": 10,
   "metadata": {
    "collapsed": true
   },
   "outputs": [],
   "source": [
    "from sklearn.feature_extraction.text import CountVectorizer\n",
    "from sklearn.feature_extraction.text import TfidfVectorizer\n",
    "\n",
    "corpus = \\\n",
    "[u'Ночь, улица, фонарь, аптека,',\n",
    " u'Бессмысленный и тусклый свет.',\n",
    " u'Живи еще хоть четверть века -',\n",
    " u'Все будет так. Исхода нет.',\n",
    " u'Умрешь - начнешь опять сначала',\n",
    " u'И повторится все, как встарь:',\n",
    " u'Ночь, ледяная рябь канала,',\n",
    " u'Аптека, улица, фонарь.']"
   ]
  },
  {
   "cell_type": "code",
   "execution_count": 11,
   "metadata": {},
   "outputs": [
    {
     "data": {
      "text/plain": [
       "(8, 27)"
      ]
     },
     "execution_count": 11,
     "metadata": {},
     "output_type": "execute_result"
    }
   ],
   "source": [
    "vect = CountVectorizer()\n",
    "\n",
    "bow = vect.fit_transform(corpus)\n",
    "bow = bow.toarray()\n",
    "bow.shape"
   ]
  },
  {
   "cell_type": "markdown",
   "metadata": {},
   "source": [
    "Получили матрицу размера $8 \\times 27$, так как у нас 8 строчек и выделилось 27 униальных слов. Элемент матрицы показывает сколько раз слово встречалось в соответствующем документе."
   ]
  },
  {
   "cell_type": "code",
   "execution_count": 12,
   "metadata": {},
   "outputs": [
    {
     "data": {
      "text/plain": [
       "array([[1, 0, 0, 0, 0, 0, 0, 0, 0, 0, 0, 0, 0, 0, 1, 0, 0, 0, 0, 0, 0, 0,\n",
       "        1, 0, 1, 0, 0],\n",
       "       [0, 1, 0, 0, 0, 0, 0, 0, 0, 0, 0, 0, 0, 0, 0, 0, 0, 0, 1, 0, 0, 1,\n",
       "        0, 0, 0, 0, 0],\n",
       "       [0, 0, 0, 1, 0, 0, 1, 1, 0, 0, 0, 0, 0, 0, 0, 0, 0, 0, 0, 0, 0, 0,\n",
       "        0, 0, 0, 1, 1],\n",
       "       [0, 0, 1, 0, 1, 0, 0, 0, 1, 0, 0, 0, 0, 1, 0, 0, 0, 0, 0, 0, 1, 0,\n",
       "        0, 0, 0, 0, 0],\n",
       "       [0, 0, 0, 0, 0, 0, 0, 0, 0, 0, 0, 0, 1, 0, 0, 1, 0, 0, 0, 1, 0, 0,\n",
       "        0, 1, 0, 0, 0],\n",
       "       [0, 0, 0, 0, 1, 1, 0, 0, 0, 1, 0, 0, 0, 0, 0, 0, 1, 0, 0, 0, 0, 0,\n",
       "        0, 0, 0, 0, 0],\n",
       "       [0, 0, 0, 0, 0, 0, 0, 0, 0, 0, 1, 1, 0, 0, 1, 0, 0, 1, 0, 0, 0, 0,\n",
       "        0, 0, 0, 0, 0],\n",
       "       [1, 0, 0, 0, 0, 0, 0, 0, 0, 0, 0, 0, 0, 0, 0, 0, 0, 0, 0, 0, 0, 0,\n",
       "        1, 0, 1, 0, 0]])"
      ]
     },
     "execution_count": 12,
     "metadata": {},
     "output_type": "execute_result"
    }
   ],
   "source": [
    "bow"
   ]
  },
  {
   "cell_type": "code",
   "execution_count": 13,
   "metadata": {},
   "outputs": [
    {
     "name": "stdout",
     "output_type": "stream",
     "text": [
      "столбец 0: аптека\n",
      "столбец 1: бессмысленный\n",
      "столбец 2: будет\n",
      "столбец 3: века\n",
      "столбец 4: все\n",
      "столбец 5: встарь\n",
      "столбец 6: еще\n",
      "столбец 7: живи\n",
      "столбец 8: исхода\n",
      "столбец 9: как\n",
      "столбец 10: канала\n",
      "столбец 11: ледяная\n",
      "столбец 12: начнешь\n",
      "столбец 13: нет\n",
      "столбец 14: ночь\n",
      "столбец 15: опять\n",
      "столбец 16: повторится\n",
      "столбец 17: рябь\n",
      "столбец 18: свет\n",
      "столбец 19: сначала\n",
      "столбец 20: так\n",
      "столбец 21: тусклый\n",
      "столбец 22: улица\n",
      "столбец 23: умрешь\n",
      "столбец 24: фонарь\n",
      "столбец 25: хоть\n",
      "столбец 26: четверть\n"
     ]
    }
   ],
   "source": [
    "# Посмотрим какие слова стоят по столбцам\n",
    "for i, w in enumerate(vect.get_feature_names()):\n",
    "    print u'столбец %d: %s' % (i, w)"
   ]
  },
  {
   "cell_type": "markdown",
   "metadata": {},
   "source": [
    "# Туториал: Имплементация собственного метода"
   ]
  },
  {
   "cell_type": "markdown",
   "metadata": {},
   "source": [
    "Для решения задач вида \"имплементируйте метод X\" крайне желательно (но необязательно) реализовывать методы с помощью интерфейса sklearn. Ниже вы увидите пример очень простого **классификатора**. Используйте эти наработи для выполнения задания."
   ]
  },
  {
   "cell_type": "markdown",
   "metadata": {},
   "source": [
    "Загрузите [датасет](https://archive.ics.uci.edu/ml/machine-learning-databases/wine-quality/winequality-red.csv) с информацией о характеристиках вина и его качестве. (В метод `pd.read_csv()` можно подать веб-ссылку на данные и пандас их скачает и преобразует в `DataFrame`)."
   ]
  },
  {
   "cell_type": "code",
   "execution_count": 14,
   "metadata": {
    "collapsed": true
   },
   "outputs": [],
   "source": [
    "df_wine = pd.read_csv('https://archive.ics.uci.edu/ml/machine-learning-databases/wine-quality/winequality-red.csv', sep=';')"
   ]
  },
  {
   "cell_type": "code",
   "execution_count": 15,
   "metadata": {},
   "outputs": [
    {
     "data": {
      "text/html": [
       "<div>\n",
       "<style>\n",
       "    .dataframe thead tr:only-child th {\n",
       "        text-align: right;\n",
       "    }\n",
       "\n",
       "    .dataframe thead th {\n",
       "        text-align: left;\n",
       "    }\n",
       "\n",
       "    .dataframe tbody tr th {\n",
       "        vertical-align: top;\n",
       "    }\n",
       "</style>\n",
       "<table border=\"1\" class=\"dataframe\">\n",
       "  <thead>\n",
       "    <tr style=\"text-align: right;\">\n",
       "      <th></th>\n",
       "      <th>fixed acidity</th>\n",
       "      <th>volatile acidity</th>\n",
       "      <th>citric acid</th>\n",
       "      <th>residual sugar</th>\n",
       "      <th>chlorides</th>\n",
       "      <th>free sulfur dioxide</th>\n",
       "      <th>total sulfur dioxide</th>\n",
       "      <th>density</th>\n",
       "      <th>pH</th>\n",
       "      <th>sulphates</th>\n",
       "      <th>alcohol</th>\n",
       "      <th>quality</th>\n",
       "    </tr>\n",
       "  </thead>\n",
       "  <tbody>\n",
       "    <tr>\n",
       "      <th>0</th>\n",
       "      <td>7.4</td>\n",
       "      <td>0.70</td>\n",
       "      <td>0.00</td>\n",
       "      <td>1.9</td>\n",
       "      <td>0.076</td>\n",
       "      <td>11.0</td>\n",
       "      <td>34.0</td>\n",
       "      <td>0.9978</td>\n",
       "      <td>3.51</td>\n",
       "      <td>0.56</td>\n",
       "      <td>9.4</td>\n",
       "      <td>5</td>\n",
       "    </tr>\n",
       "    <tr>\n",
       "      <th>1</th>\n",
       "      <td>7.8</td>\n",
       "      <td>0.88</td>\n",
       "      <td>0.00</td>\n",
       "      <td>2.6</td>\n",
       "      <td>0.098</td>\n",
       "      <td>25.0</td>\n",
       "      <td>67.0</td>\n",
       "      <td>0.9968</td>\n",
       "      <td>3.20</td>\n",
       "      <td>0.68</td>\n",
       "      <td>9.8</td>\n",
       "      <td>5</td>\n",
       "    </tr>\n",
       "    <tr>\n",
       "      <th>2</th>\n",
       "      <td>7.8</td>\n",
       "      <td>0.76</td>\n",
       "      <td>0.04</td>\n",
       "      <td>2.3</td>\n",
       "      <td>0.092</td>\n",
       "      <td>15.0</td>\n",
       "      <td>54.0</td>\n",
       "      <td>0.9970</td>\n",
       "      <td>3.26</td>\n",
       "      <td>0.65</td>\n",
       "      <td>9.8</td>\n",
       "      <td>5</td>\n",
       "    </tr>\n",
       "    <tr>\n",
       "      <th>3</th>\n",
       "      <td>11.2</td>\n",
       "      <td>0.28</td>\n",
       "      <td>0.56</td>\n",
       "      <td>1.9</td>\n",
       "      <td>0.075</td>\n",
       "      <td>17.0</td>\n",
       "      <td>60.0</td>\n",
       "      <td>0.9980</td>\n",
       "      <td>3.16</td>\n",
       "      <td>0.58</td>\n",
       "      <td>9.8</td>\n",
       "      <td>6</td>\n",
       "    </tr>\n",
       "    <tr>\n",
       "      <th>4</th>\n",
       "      <td>7.4</td>\n",
       "      <td>0.70</td>\n",
       "      <td>0.00</td>\n",
       "      <td>1.9</td>\n",
       "      <td>0.076</td>\n",
       "      <td>11.0</td>\n",
       "      <td>34.0</td>\n",
       "      <td>0.9978</td>\n",
       "      <td>3.51</td>\n",
       "      <td>0.56</td>\n",
       "      <td>9.4</td>\n",
       "      <td>5</td>\n",
       "    </tr>\n",
       "  </tbody>\n",
       "</table>\n",
       "</div>"
      ],
      "text/plain": [
       "   fixed acidity  volatile acidity  citric acid  residual sugar  chlorides  \\\n",
       "0            7.4              0.70         0.00             1.9      0.076   \n",
       "1            7.8              0.88         0.00             2.6      0.098   \n",
       "2            7.8              0.76         0.04             2.3      0.092   \n",
       "3           11.2              0.28         0.56             1.9      0.075   \n",
       "4            7.4              0.70         0.00             1.9      0.076   \n",
       "\n",
       "   free sulfur dioxide  total sulfur dioxide  density    pH  sulphates  \\\n",
       "0                 11.0                  34.0   0.9978  3.51       0.56   \n",
       "1                 25.0                  67.0   0.9968  3.20       0.68   \n",
       "2                 15.0                  54.0   0.9970  3.26       0.65   \n",
       "3                 17.0                  60.0   0.9980  3.16       0.58   \n",
       "4                 11.0                  34.0   0.9978  3.51       0.56   \n",
       "\n",
       "   alcohol  quality  \n",
       "0      9.4        5  \n",
       "1      9.8        5  \n",
       "2      9.8        5  \n",
       "3      9.8        6  \n",
       "4      9.4        5  "
      ]
     },
     "execution_count": 15,
     "metadata": {},
     "output_type": "execute_result"
    }
   ],
   "source": [
    "df_wine.head()"
   ]
  },
  {
   "cell_type": "markdown",
   "metadata": {},
   "source": [
    "Наша задача состоит в предсказании целевого признака `quality` по остальным признакам. `quality` - это вещественная переменная (оценка качества от 0 до 10). Упростим себе задачу - создадим новый столбец `quality_cat` по следующим правилам:\n",
    "\n",
    "* `quality_cat = 1` если `quality > 5` \n",
    "* `quality_cat = 0` - иначе \n",
    "\n",
    "Таким образом, `quality_cat` характерует \"плохое\" и \"хорошее\" вино."
   ]
  },
  {
   "cell_type": "code",
   "execution_count": 16,
   "metadata": {
    "collapsed": true
   },
   "outputs": [],
   "source": [
    "def prepocess_wine(df):\n",
    "    df.loc[:, 'quality_cat'] = (df.loc[:, 'quality'] > 5).astype(int)\n",
    "    df = df.drop('quality', axis=1)\n",
    "    \n",
    "    return df"
   ]
  },
  {
   "cell_type": "code",
   "execution_count": 17,
   "metadata": {},
   "outputs": [
    {
     "data": {
      "text/html": [
       "<div>\n",
       "<style>\n",
       "    .dataframe thead tr:only-child th {\n",
       "        text-align: right;\n",
       "    }\n",
       "\n",
       "    .dataframe thead th {\n",
       "        text-align: left;\n",
       "    }\n",
       "\n",
       "    .dataframe tbody tr th {\n",
       "        vertical-align: top;\n",
       "    }\n",
       "</style>\n",
       "<table border=\"1\" class=\"dataframe\">\n",
       "  <thead>\n",
       "    <tr style=\"text-align: right;\">\n",
       "      <th></th>\n",
       "      <th>fixed acidity</th>\n",
       "      <th>volatile acidity</th>\n",
       "      <th>citric acid</th>\n",
       "      <th>residual sugar</th>\n",
       "      <th>chlorides</th>\n",
       "      <th>free sulfur dioxide</th>\n",
       "      <th>total sulfur dioxide</th>\n",
       "      <th>density</th>\n",
       "      <th>pH</th>\n",
       "      <th>sulphates</th>\n",
       "      <th>alcohol</th>\n",
       "      <th>quality_cat</th>\n",
       "    </tr>\n",
       "  </thead>\n",
       "  <tbody>\n",
       "    <tr>\n",
       "      <th>0</th>\n",
       "      <td>7.4</td>\n",
       "      <td>0.70</td>\n",
       "      <td>0.00</td>\n",
       "      <td>1.9</td>\n",
       "      <td>0.076</td>\n",
       "      <td>11.0</td>\n",
       "      <td>34.0</td>\n",
       "      <td>0.9978</td>\n",
       "      <td>3.51</td>\n",
       "      <td>0.56</td>\n",
       "      <td>9.4</td>\n",
       "      <td>0</td>\n",
       "    </tr>\n",
       "    <tr>\n",
       "      <th>1</th>\n",
       "      <td>7.8</td>\n",
       "      <td>0.88</td>\n",
       "      <td>0.00</td>\n",
       "      <td>2.6</td>\n",
       "      <td>0.098</td>\n",
       "      <td>25.0</td>\n",
       "      <td>67.0</td>\n",
       "      <td>0.9968</td>\n",
       "      <td>3.20</td>\n",
       "      <td>0.68</td>\n",
       "      <td>9.8</td>\n",
       "      <td>0</td>\n",
       "    </tr>\n",
       "    <tr>\n",
       "      <th>2</th>\n",
       "      <td>7.8</td>\n",
       "      <td>0.76</td>\n",
       "      <td>0.04</td>\n",
       "      <td>2.3</td>\n",
       "      <td>0.092</td>\n",
       "      <td>15.0</td>\n",
       "      <td>54.0</td>\n",
       "      <td>0.9970</td>\n",
       "      <td>3.26</td>\n",
       "      <td>0.65</td>\n",
       "      <td>9.8</td>\n",
       "      <td>0</td>\n",
       "    </tr>\n",
       "    <tr>\n",
       "      <th>3</th>\n",
       "      <td>11.2</td>\n",
       "      <td>0.28</td>\n",
       "      <td>0.56</td>\n",
       "      <td>1.9</td>\n",
       "      <td>0.075</td>\n",
       "      <td>17.0</td>\n",
       "      <td>60.0</td>\n",
       "      <td>0.9980</td>\n",
       "      <td>3.16</td>\n",
       "      <td>0.58</td>\n",
       "      <td>9.8</td>\n",
       "      <td>1</td>\n",
       "    </tr>\n",
       "    <tr>\n",
       "      <th>4</th>\n",
       "      <td>7.4</td>\n",
       "      <td>0.70</td>\n",
       "      <td>0.00</td>\n",
       "      <td>1.9</td>\n",
       "      <td>0.076</td>\n",
       "      <td>11.0</td>\n",
       "      <td>34.0</td>\n",
       "      <td>0.9978</td>\n",
       "      <td>3.51</td>\n",
       "      <td>0.56</td>\n",
       "      <td>9.4</td>\n",
       "      <td>0</td>\n",
       "    </tr>\n",
       "  </tbody>\n",
       "</table>\n",
       "</div>"
      ],
      "text/plain": [
       "   fixed acidity  volatile acidity  citric acid  residual sugar  chlorides  \\\n",
       "0            7.4              0.70         0.00             1.9      0.076   \n",
       "1            7.8              0.88         0.00             2.6      0.098   \n",
       "2            7.8              0.76         0.04             2.3      0.092   \n",
       "3           11.2              0.28         0.56             1.9      0.075   \n",
       "4            7.4              0.70         0.00             1.9      0.076   \n",
       "\n",
       "   free sulfur dioxide  total sulfur dioxide  density    pH  sulphates  \\\n",
       "0                 11.0                  34.0   0.9978  3.51       0.56   \n",
       "1                 25.0                  67.0   0.9968  3.20       0.68   \n",
       "2                 15.0                  54.0   0.9970  3.26       0.65   \n",
       "3                 17.0                  60.0   0.9980  3.16       0.58   \n",
       "4                 11.0                  34.0   0.9978  3.51       0.56   \n",
       "\n",
       "   alcohol  quality_cat  \n",
       "0      9.4            0  \n",
       "1      9.8            0  \n",
       "2      9.8            0  \n",
       "3      9.8            1  \n",
       "4      9.4            0  "
      ]
     },
     "execution_count": 17,
     "metadata": {},
     "output_type": "execute_result"
    }
   ],
   "source": [
    "df_wine = df_wine.pipe(prepocess_wine)\n",
    "df_wine.head()"
   ]
  },
  {
   "cell_type": "markdown",
   "metadata": {},
   "source": [
    "Нарисуем распределение хорошего и плохого вина по признаку `alcohol`."
   ]
  },
  {
   "cell_type": "code",
   "execution_count": 18,
   "metadata": {},
   "outputs": [
    {
     "data": {
      "text/plain": [
       "<matplotlib.legend.Legend at 0x7f2329326dd0>"
      ]
     },
     "execution_count": 18,
     "metadata": {},
     "output_type": "execute_result"
    },
    {
     "data": {
      "image/png": "[encoded data removed]",
      "text/plain": [
       "<matplotlib.figure.Figure at 0x7f2330fbbe50>"
      ]
     },
     "metadata": {},
     "output_type": "display_data"
    }
   ],
   "source": [
    "_, ax = plt.subplots(1,1)\n",
    "df_wine.query('quality_cat == 1').hist('alcohol', alpha=0.3, bins=20, label='good', ax=ax)\n",
    "df_wine.query('quality_cat == 0').hist('alcohol', alpha=0.3, bins=20, label='bad', ax=ax)\n",
    "ax.set_xlabel('alcohol')\n",
    "ax.set_ylabel('count')\n",
    "plt.legend()"
   ]
  },
  {
   "cell_type": "markdown",
   "metadata": {},
   "source": [
    "Визуально кажется, что можно найти некоторое пороговое значение признака `alcohol` $\\theta$, чтобы хорошо дискриминировать между плохими и хорошим вином:\n",
    "* Если `alcohol >` $\\theta$ - то предсказываем, что вино хорошее\n",
    "* Если `alcohol <=` $\\theta$ - то предсказываем, что вино плохое\n",
    "\n",
    "Обучаеть классификатор будем очень просто: перебирать значения признака alchol и считать **ошибку** классификации. То значение, где ошибка минимальна и будет оптимальным.\n",
    "\n",
    "Разделим целевой признак от остальных признаков"
   ]
  },
  {
   "cell_type": "code",
   "execution_count": 19,
   "metadata": {
    "collapsed": true
   },
   "outputs": [],
   "source": [
    "X, y = df_wine.iloc[:, :-1].values, df_wine.iloc[:, -1].values"
   ]
  },
  {
   "cell_type": "markdown",
   "metadata": {},
   "source": [
    "Далее вы увидете пример реализации этого простого классификатора."
   ]
  },
  {
   "cell_type": "code",
   "execution_count": 20,
   "metadata": {
    "collapsed": true
   },
   "outputs": [],
   "source": [
    "from sklearn.base import BaseEstimator, ClassifierMixin\n",
    "\n",
    "class SimpleClassifier(BaseEstimator, ClassifierMixin): \n",
    "    \n",
    "    def __init__(self):\n",
    "        \"\"\"\n",
    "        Инициализация метода\n",
    "        \"\"\"\n",
    "        \n",
    "        self.threshold = 0\n",
    "\n",
    "    def fit(self, X, y=None):\n",
    "        \"\"\"\n",
    "        Выполняет процедуру обучения классификатора. В данном случае - перебор занчения признака alcohol.\n",
    "        Договоримся, что признак alcohol будет в последнем столбце матрицы X\n",
    "        \"\"\"\n",
    "        \n",
    "        alcohol = X[:,-1]\n",
    "        n = float(y.shape[0])\n",
    "        \n",
    "        # Задаем пространство поиска\n",
    "        alco_range = np.arange(alcohol.min(), alcohol.max(), 0.1)\n",
    "        \n",
    "        min_error_rate = 1\n",
    "                \n",
    "        #  Начинаем поиск\n",
    "        for theta in alco_range:\n",
    "            prediction = alcohol > theta\n",
    "            \n",
    "            error_rate = sum(prediction != y)/n\n",
    "            \n",
    "            if error_rate < min_error_rate:\n",
    "                min_error_rate = error_rate\n",
    "                self.threshold = theta  \n",
    "        \n",
    "        return self\n",
    "\n",
    "    def predict(self, X, y=None):\n",
    "        \"\"\"\n",
    "        Процедура предсказания класса по обученному порогу\n",
    "        \"\"\"\n",
    "        \n",
    "        return (X[:,-1] > self.threshold).astype(int)"
   ]
  },
  {
   "cell_type": "markdown",
   "metadata": {},
   "source": [
    "Обучаем модель"
   ]
  },
  {
   "cell_type": "code",
   "execution_count": 21,
   "metadata": {},
   "outputs": [
    {
     "name": "stdout",
     "output_type": "stream",
     "text": [
      "Оптимальный порог: 10.000000\n"
     ]
    }
   ],
   "source": [
    "model = SimpleClassifier()\n",
    "model.fit(X, y)\n",
    "\n",
    "print 'Оптимальный порог: %f' % model.threshold"
   ]
  },
  {
   "cell_type": "markdown",
   "metadata": {},
   "source": [
    "Получаем предсказание модели (на обучающей выборке)"
   ]
  },
  {
   "cell_type": "code",
   "execution_count": 22,
   "metadata": {
    "collapsed": true
   },
   "outputs": [],
   "source": [
    "y_hat = model.predict(X)"
   ]
  },
  {
   "cell_type": "markdown",
   "metadata": {},
   "source": [
    "Оценим долю ошибок на обучающей выборке"
   ]
  },
  {
   "cell_type": "code",
   "execution_count": 23,
   "metadata": {},
   "outputs": [
    {
     "name": "stdout",
     "output_type": "stream",
     "text": [
      "Доля ошибок на обучающей выборке: 0.295184\n"
     ]
    }
   ],
   "source": [
    "error_rate = sum(y_hat != y)/float(y.shape[0])\n",
    "print 'Доля ошибок на обучающей выборке: %f' % error_rate"
   ]
  },
  {
   "cell_type": "markdown",
   "metadata": {},
   "source": [
    "## Проверка метода на контрольной выборке\n",
    "\n",
    "Мы обучили наш метод на данных о красном виде. \n",
    "\n",
    "Посмотрим, выполняется ли так же хорошо закономерность между качеством и уровнем алкоголя в белом вине."
   ]
  },
  {
   "cell_type": "code",
   "execution_count": 24,
   "metadata": {},
   "outputs": [
    {
     "data": {
      "text/html": [
       "<div>\n",
       "<style>\n",
       "    .dataframe thead tr:only-child th {\n",
       "        text-align: right;\n",
       "    }\n",
       "\n",
       "    .dataframe thead th {\n",
       "        text-align: left;\n",
       "    }\n",
       "\n",
       "    .dataframe tbody tr th {\n",
       "        vertical-align: top;\n",
       "    }\n",
       "</style>\n",
       "<table border=\"1\" class=\"dataframe\">\n",
       "  <thead>\n",
       "    <tr style=\"text-align: right;\">\n",
       "      <th></th>\n",
       "      <th>fixed acidity</th>\n",
       "      <th>volatile acidity</th>\n",
       "      <th>citric acid</th>\n",
       "      <th>residual sugar</th>\n",
       "      <th>chlorides</th>\n",
       "      <th>free sulfur dioxide</th>\n",
       "      <th>total sulfur dioxide</th>\n",
       "      <th>density</th>\n",
       "      <th>pH</th>\n",
       "      <th>sulphates</th>\n",
       "      <th>alcohol</th>\n",
       "      <th>quality_cat</th>\n",
       "    </tr>\n",
       "  </thead>\n",
       "  <tbody>\n",
       "    <tr>\n",
       "      <th>0</th>\n",
       "      <td>7.0</td>\n",
       "      <td>0.27</td>\n",
       "      <td>0.36</td>\n",
       "      <td>20.7</td>\n",
       "      <td>0.045</td>\n",
       "      <td>45.0</td>\n",
       "      <td>170.0</td>\n",
       "      <td>1.0010</td>\n",
       "      <td>3.00</td>\n",
       "      <td>0.45</td>\n",
       "      <td>8.8</td>\n",
       "      <td>1</td>\n",
       "    </tr>\n",
       "    <tr>\n",
       "      <th>1</th>\n",
       "      <td>6.3</td>\n",
       "      <td>0.30</td>\n",
       "      <td>0.34</td>\n",
       "      <td>1.6</td>\n",
       "      <td>0.049</td>\n",
       "      <td>14.0</td>\n",
       "      <td>132.0</td>\n",
       "      <td>0.9940</td>\n",
       "      <td>3.30</td>\n",
       "      <td>0.49</td>\n",
       "      <td>9.5</td>\n",
       "      <td>1</td>\n",
       "    </tr>\n",
       "    <tr>\n",
       "      <th>2</th>\n",
       "      <td>8.1</td>\n",
       "      <td>0.28</td>\n",
       "      <td>0.40</td>\n",
       "      <td>6.9</td>\n",
       "      <td>0.050</td>\n",
       "      <td>30.0</td>\n",
       "      <td>97.0</td>\n",
       "      <td>0.9951</td>\n",
       "      <td>3.26</td>\n",
       "      <td>0.44</td>\n",
       "      <td>10.1</td>\n",
       "      <td>1</td>\n",
       "    </tr>\n",
       "    <tr>\n",
       "      <th>3</th>\n",
       "      <td>7.2</td>\n",
       "      <td>0.23</td>\n",
       "      <td>0.32</td>\n",
       "      <td>8.5</td>\n",
       "      <td>0.058</td>\n",
       "      <td>47.0</td>\n",
       "      <td>186.0</td>\n",
       "      <td>0.9956</td>\n",
       "      <td>3.19</td>\n",
       "      <td>0.40</td>\n",
       "      <td>9.9</td>\n",
       "      <td>1</td>\n",
       "    </tr>\n",
       "    <tr>\n",
       "      <th>4</th>\n",
       "      <td>7.2</td>\n",
       "      <td>0.23</td>\n",
       "      <td>0.32</td>\n",
       "      <td>8.5</td>\n",
       "      <td>0.058</td>\n",
       "      <td>47.0</td>\n",
       "      <td>186.0</td>\n",
       "      <td>0.9956</td>\n",
       "      <td>3.19</td>\n",
       "      <td>0.40</td>\n",
       "      <td>9.9</td>\n",
       "      <td>1</td>\n",
       "    </tr>\n",
       "  </tbody>\n",
       "</table>\n",
       "</div>"
      ],
      "text/plain": [
       "   fixed acidity  volatile acidity  citric acid  residual sugar  chlorides  \\\n",
       "0            7.0              0.27         0.36            20.7      0.045   \n",
       "1            6.3              0.30         0.34             1.6      0.049   \n",
       "2            8.1              0.28         0.40             6.9      0.050   \n",
       "3            7.2              0.23         0.32             8.5      0.058   \n",
       "4            7.2              0.23         0.32             8.5      0.058   \n",
       "\n",
       "   free sulfur dioxide  total sulfur dioxide  density    pH  sulphates  \\\n",
       "0                 45.0                 170.0   1.0010  3.00       0.45   \n",
       "1                 14.0                 132.0   0.9940  3.30       0.49   \n",
       "2                 30.0                  97.0   0.9951  3.26       0.44   \n",
       "3                 47.0                 186.0   0.9956  3.19       0.40   \n",
       "4                 47.0                 186.0   0.9956  3.19       0.40   \n",
       "\n",
       "   alcohol  quality_cat  \n",
       "0      8.8            1  \n",
       "1      9.5            1  \n",
       "2     10.1            1  \n",
       "3      9.9            1  \n",
       "4      9.9            1  "
      ]
     },
     "execution_count": 24,
     "metadata": {},
     "output_type": "execute_result"
    }
   ],
   "source": [
    "df_wine_test = pd.read_csv('https://archive.ics.uci.edu/ml/machine-learning-databases/wine-quality/winequality-white.csv',\n",
    "                           sep=';')\n",
    "\n",
    "df_wine_test = df_wine_test.pipe(prepocess_wine)\n",
    "df_wine_test.head()"
   ]
  },
  {
   "cell_type": "code",
   "execution_count": 25,
   "metadata": {
    "collapsed": true
   },
   "outputs": [],
   "source": [
    "X_test, y_test = df_wine_test.iloc[:, :-1].values, df_wine_test.iloc[:, -1].values\n",
    "y_hat = model.predict(X_test)"
   ]
  },
  {
   "cell_type": "code",
   "execution_count": 26,
   "metadata": {},
   "outputs": [
    {
     "name": "stdout",
     "output_type": "stream",
     "text": [
      "Доля ошибок на контрольной выборке: 0.312577\n"
     ]
    }
   ],
   "source": [
    "error_rate = sum(y_hat != y_test)/float(y_test.shape[0])\n",
    "print 'Доля ошибок на контрольной выборке: %f' % error_rate"
   ]
  },
  {
   "cell_type": "markdown",
   "metadata": {},
   "source": [
    "Получилось неплохо и это лишь наивный алгоритм на одном признаке! Ну а выводы делайте сами =)"
   ]
  },
  {
   "cell_type": "markdown",
   "metadata": {},
   "source": [
    "# Имплементация K-means\n",
    "\n",
    "Пользуясь наработками выше, имплементируйте метод k-means.  \n",
    "При инициализации необходимо задавать количество кластеров, функцию расстояния между кластерами (для оригинального k-means - евклидово расстояние) и начальное состояние генератора случайных чисел.\n",
    "\n",
    "После обучения, среди атрибутов класса `Kmeans` должны появится\n",
    "* Метки кластеров для объектов\n",
    "* Координаты центройдов кластеров\n",
    "\n",
    "k-means - это алгоритм **кластеризации**, а не классификации, а посему метод `.predict()` в нем фактически не нужен, но он может возвращать метки ближайшего кластера для объектов."
   ]
  },
  {
   "cell_type": "markdown",
   "metadata": {},
   "source": [
    "###### Задание 1 (2 баллов)\n",
    "Имплементируйте метод k-means\n",
    "\n",
    "Теория для выполнения задания 2 и 3 остаётся на самостоятельное изучение. Теории немного и она совсем простая.\n",
    "\n",
    "###### Задание 2 (2 балла)\n",
    "Имплементируйте класс MiniBatchKMeans, который является классом наследником Kmeans.\n",
    "\n",
    "###### Задание 3 (2 балла)\n",
    "Превратите k-means в k-means++. Для этого нужно реализовать метод в классе Kmeans, который будет инициализировать более \"хорошие\" значения центроидов. Чтобы использовался метод k-means++, в параметр init необходимо передать строковое значение 'k-means' (по умолчанию 'random').\n",
    "\n",
    "###### Задание 4 (2 балла)\n",
    "В пункте \"Проверка корректности метода\" нужно нарисовать графики, которые показывают зависимость времени выполнения алгоритма от количества сэмплов. Графики должны быть  нарисованы для различных комбинаций реализаций алгоритма (k-means, k-means++, k-means с MiniBatchKMeans, k-means++ с MiniBatchKMeans). Для этого рекомендуется использовать инструмент %timeit. График достаточно построить на 5-10 точках.\n",
    "\n",
    "###### Задание 5 (2 балла)\n",
    "В пункте \"Применение K-means на реальных данных\" нужно сравнить различные реализации k-means (k-means, k-means++, k-means с MiniBatchKMeans, k-means++ с MiniBatchKMeans). После чего написать вывод, в котором должно быть объяснение того, почему один алгоритм оказался лучше остальных или почему не было выявлено лучшего алгоритма."
   ]
  },
  {
   "cell_type": "code",
   "execution_count": 96,
   "metadata": {
    "collapsed": true
   },
   "outputs": [],
   "source": [
    "from sklearn.base import ClusterMixin, BaseEstimator\n",
    "import operator\n",
    "import scipy.spatial.distance as ssd\n",
    "from sklearn.metrics.pairwise import euclidean_distances\n",
    "\n",
    "def distance(x,y,metric):\n",
    "    return ssd.pdist((x,y),metric)[0]\n",
    "\n",
    "def start_centroids(self,X):\n",
    "    if self.init=='random':\n",
    "        indexes=np.random.choice(X.shape[0],self.k)\n",
    "        self.centroids=np.array([X[i] for i in indexes])\n",
    "    if self.init=='++': #k-means ++, просто по другому задаем центроиды\n",
    "        self.centroids[0]=X[np.random.choice(X.shape[0])]\n",
    "        for i in xrange(1,self.k):\n",
    "            D=np.min(euclidean_distances(X,self.centroids[0:i]), axis=1)\n",
    "            prob=D/D.sum()\n",
    "            self.centroids[i]=X[np.random.choice(X.shape[0], p=prob)] \n",
    "    return self.centroids\n",
    " \n",
    "\n",
    "class Kmeans(BaseEstimator, ClusterMixin): \n",
    "    \n",
    "    def __init__(self, k=2, metric='euclidean', max_iter=1000, random_state=None, init='random'):\n",
    "        \"\"\"\n",
    "        Инициализация метода\n",
    "        :k - количество кластеров\n",
    "        :metric - функция расстояния между объектами\n",
    "        :max_iter - максиальное количество итераций\n",
    "        :random_state - seed для инициализации генератора случайных чисел\n",
    "        \"\"\"\n",
    "        \n",
    "        self.k = k\n",
    "        self.random_state = random_state\n",
    "        self.metric = metric\n",
    "        self.max_iter = max_iter\n",
    "        self.init=init\n",
    "\n",
    "    def fit(self, X, y=None):\n",
    "        \"\"\"\n",
    "        Процедура обучения k-means\n",
    "        \"\"\"\n",
    "        # Инициализация генератора случайных чисел\n",
    "        np.random.seed(self.random_state)\n",
    "        \n",
    "        # Массив с метками кластеров для каждого объекта из X\n",
    "        self.labels = np.empty(X.shape[0])\n",
    "        \n",
    "        # Массив с центройдами кластеров\n",
    "        self.centroids = np.empty((self.k,X.shape[1]))\n",
    "        \n",
    "        ## Your Code Here\n",
    "        # ...\n",
    "        eps=0.001\n",
    "        summ=1.0\n",
    "        iterator=0\n",
    "        dist=np.zeros(self.k)\n",
    "        self.centroids=start_centroids(self,X)\n",
    "        while summ>eps and iterator<self.max_iter:\n",
    "            summ=0.0\n",
    "            self.labels=np.argmin(euclidean_distances(X,self.centroids), axis=1)\n",
    "            for i in xrange(self.k):\n",
    "                M=X[self.labels==i]\n",
    "                if len(M)!=0:\n",
    "                    summ=summ+distance(self.centroids[i],np.mean(M,axis=0),self.metric)\n",
    "                    self.centroids[i]=np.mean(M,axis=0) \n",
    "                else:\n",
    "                    summ=summ \n",
    "                    self.centroids[i]=self.centroids[i]        \n",
    "            iterator=iterator+1\n",
    "        return self\n",
    "\n",
    "    def predict(self, X, y=None):\n",
    "        \"\"\"\n",
    "        Процедура предсказания кластера\n",
    "        \n",
    "        Возвращает метку ближайшего кластера для каждого объекта\n",
    "        \"\"\"\n",
    "\n",
    "class MiniBatchKMeans(Kmeans):\n",
    "    def __init__(self, k=8, metric='euclidean', max_iter=1000, random_state=None, init='random', batch_size=10):\n",
    "        Kmeans.__init__ (self, k, metric, max_iter, random_state, init)\n",
    "        self.batch_size=batch_size\n",
    "    def fit(self,X,y=None):    \n",
    "        np.random.seed(self.random_state)\n",
    "        size_x=X.shape[1]\n",
    "        self.centroids = np.empty((self.k,size_x))\n",
    "        self.centroids=start_centroids(self,X)\n",
    "        v=np.ones(self.k)\n",
    "        #self.labels = np.empty(X.shape[0])\n",
    "        eps=0.01\n",
    "        #eps=0.001*self.batch_size/X.shape[0]\n",
    "        iterator=0\n",
    "        summ=1.0\n",
    "       # while summ>eps and iterator<self.max_iter:\n",
    "        while iterator<self.max_iter:\n",
    "            iterator=iterator+1\n",
    "            M=X[np.random.randint(X.shape[0], size=self.batch_size)]\n",
    "            d=np.argmin(euclidean_distances(M,self.centroids),axis=1)\n",
    "            centroids_old=np.copy(self.centroids)\n",
    "            for i in xrange(self.k):\n",
    "                new_centroid= (self.centroids[i])*(v[i])+M[d == i].sum(axis=0)\n",
    "                v[i] += (d == i).sum()\n",
    "                self.centroids [i] = new_centroid/(v[i])\n",
    "            #summ=np.trace(euclidean_distances(centroids_old,self.centroids))\n",
    "        self.labels=np.argmin(euclidean_distances(X,self.centroids),axis=1)\n",
    "        return self"
   ]
  },
  {
   "cell_type": "markdown",
   "metadata": {},
   "source": [
    "### Проверка корректности метода\n",
    "\n",
    "Перед тем как применять алгоритм на реальных данных, нужно испытать его на простых \"игрушечных\" данных.\n",
    "\n",
    "Если алгоритм реализован правильно, то метод должен идеально разбивать на 3 кластера данные ниже. Проверьте это.\n",
    "\n",
    "ВНИМАНИЕ! Проверка должна быть осуществлена на всех реализациях, иначе реализация не будет зачтена!"
   ]
  },
  {
   "cell_type": "code",
   "execution_count": 28,
   "metadata": {
    "collapsed": true
   },
   "outputs": [],
   "source": [
    "from sklearn.datasets import make_blobs"
   ]
  },
  {
   "cell_type": "code",
   "execution_count": 29,
   "metadata": {
    "collapsed": true
   },
   "outputs": [],
   "source": [
    "X, y = make_blobs(n_samples=100, n_features=2, centers=3, cluster_std=1, \n",
    "           center_box=(-10.0, 10.0), shuffle=False, random_state=1234)"
   ]
  },
  {
   "cell_type": "code",
   "execution_count": 30,
   "metadata": {},
   "outputs": [
    {
     "data": {
      "text/plain": [
       "<matplotlib.collections.PathCollection at 0x7f23285f14d0>"
      ]
     },
     "execution_count": 30,
     "metadata": {},
     "output_type": "execute_result"
    },
    {
     "data": {
      "image/png": "[encoded data removed]",
      "text/plain": [
       "<matplotlib.figure.Figure at 0x7f2328aa4650>"
      ]
     },
     "metadata": {},
     "output_type": "display_data"
    }
   ],
   "source": [
    "plt.scatter(X[:,0], X[:, 1], c=y)"
   ]
  },
  {
   "cell_type": "markdown",
   "metadata": {},
   "source": [
    "Проверьте Вашу имплементацию на простых данных (без этого пункта задание не считается выполненным).   \n",
    "КОММЕНТАРИИ НЕ СТИРАТЬ!"
   ]
  },
  {
   "cell_type": "code",
   "execution_count": 31,
   "metadata": {},
   "outputs": [
    {
     "data": {
      "text/plain": [
       "<matplotlib.collections.PathCollection at 0x7f23284e3fd0>"
      ]
     },
     "execution_count": 31,
     "metadata": {},
     "output_type": "execute_result"
    },
    {
     "data": {
      "image/png": "[encoded data removed]",
      "text/plain": [
       "<matplotlib.figure.Figure at 0x7f2328aa4790>"
      ]
     },
     "metadata": {},
     "output_type": "display_data"
    }
   ],
   "source": [
    "## Работоспособность KMeans\n",
    "modelK = Kmeans(3)\n",
    "modelK.fit(X, y)\n",
    "plt.scatter(X[:,0], X[:, 1], c=y)\n",
    "plt.scatter(modelK.centroids[:,0],modelK.centroids[:,1],c='red') "
   ]
  },
  {
   "cell_type": "code",
   "execution_count": 32,
   "metadata": {},
   "outputs": [
    {
     "data": {
      "text/plain": [
       "<matplotlib.collections.PathCollection at 0x7f23283d0310>"
      ]
     },
     "execution_count": 32,
     "metadata": {},
     "output_type": "execute_result"
    },
    {
     "data": {
      "image/png": "[encoded data removed]",
      "text/plain": [
       "<matplotlib.figure.Figure at 0x7f2328496110>"
      ]
     },
     "metadata": {},
     "output_type": "display_data"
    }
   ],
   "source": [
    "## Работоспособность KMeans++\n",
    "modelKpp = Kmeans(3, 'euclidean', 1000, None, '++')\n",
    "modelKpp.fit(X, y)\n",
    "plt.scatter(X[:,0], X[:, 1], c=y)\n",
    "plt.scatter(modelKpp.centroids[:,0],modelKpp.centroids[:,1],c='red')"
   ]
  },
  {
   "cell_type": "code",
   "execution_count": 74,
   "metadata": {},
   "outputs": [
    {
     "data": {
      "text/plain": [
       "<matplotlib.collections.PathCollection at 0x7f2323e162d0>"
      ]
     },
     "execution_count": 74,
     "metadata": {},
     "output_type": "execute_result"
    },
    {
     "data": {
      "image/png": "[encoded data removed]",
      "text/plain": [
       "<matplotlib.figure.Figure at 0x7f2323f0af90>"
      ]
     },
     "metadata": {},
     "output_type": "display_data"
    }
   ],
   "source": [
    "## Работоспособность KMeans с MiniBatchKMeans\n",
    "modelMB = MiniBatchKMeans(3, 'euclidean', 1000, None, 'random')\n",
    "modelMB.fit(X, y)\n",
    "plt.scatter(X[:,0], X[:, 1], c=y)\n",
    "plt.scatter(modelMB.centroids[:,0],modelMB.centroids[:,1],c='red')"
   ]
  },
  {
   "cell_type": "code",
   "execution_count": 75,
   "metadata": {},
   "outputs": [
    {
     "data": {
      "text/plain": [
       "<matplotlib.collections.PathCollection at 0x7f2323d70350>"
      ]
     },
     "execution_count": 75,
     "metadata": {},
     "output_type": "execute_result"
    },
    {
     "data": {
      "image/png": "[encoded data removed]",
      "text/plain": [
       "<matplotlib.figure.Figure at 0x7f23282b65d0>"
      ]
     },
     "metadata": {},
     "output_type": "display_data"
    }
   ],
   "source": [
    "## Работоспособность KMeans++ с MiniBatchKMeans\n",
    "modelMBpp = MiniBatchKMeans(3, 'euclidean', 1000, None, '++')\n",
    "modelMBpp.fit(X, y)\n",
    "plt.scatter(X[:,0], X[:, 1], c=y)\n",
    "plt.scatter(modelMBpp.centroids[:,0],modelMBpp.centroids[:,1],c='red')"
   ]
  },
  {
   "cell_type": "code",
   "execution_count": 144,
   "metadata": {},
   "outputs": [
    {
     "name": "stdout",
     "output_type": "stream",
     "text": [
      "size=1000, time = 0.00330686569214\n",
      "size=2000, time = 0.00343799591064\n",
      "size=3000, time = 0.00588297843933\n",
      "size=4000, time = 0.00672698020935\n",
      "size=5000, time = 0.00533103942871\n",
      "size=6000, time = 0.00844693183899\n",
      "size=7000, time = 0.00931096076965\n",
      "size=8000, time = 0.0102500915527\n",
      "size=9000, time = 0.0111382007599\n"
     ]
    }
   ],
   "source": [
    "## Время выполнения алгоритма KMeans\n",
    "model=Kmeans(k=3,init='random')\n",
    "measure_k = list()\n",
    "for i in xrange(1000,10000,1000):\n",
    "    X, y = make_blobs(n_samples=i, n_features=2, centers=3, cluster_std=1, \n",
    "                        center_box=(-10, 10), shuffle=False, random_state=1234) \n",
    "    res = %timeit -o -q -n 1 -r 100 model.fit(X)\n",
    "    measure_k.append(res.best)\n",
    "    print \"size={0}, time = {1}\".format(i, measure_k[i/1000-1])"
   ]
  },
  {
   "cell_type": "code",
   "execution_count": 145,
   "metadata": {},
   "outputs": [
    {
     "name": "stdout",
     "output_type": "stream",
     "text": [
      "size=1000, time = 0.00404715538025\n",
      "size=2000, time = 0.00490403175354\n",
      "size=3000, time = 0.00587391853333\n",
      "size=4000, time = 0.00873994827271\n",
      "size=5000, time = 0.00742506980896\n",
      "size=6000, time = 0.0109791755676\n",
      "size=7000, time = 0.012069940567\n",
      "size=8000, time = 0.013237953186\n",
      "size=9000, time = 0.0143570899963\n"
     ]
    }
   ],
   "source": [
    "## Время выполнения алгоритма KMeans++\n",
    "model=Kmeans(k=3,init='++')\n",
    "measure_kpp = list()\n",
    "for i in xrange(1000,10000,1000):\n",
    "    X, y = make_blobs(n_samples=i, n_features=2, centers=3, cluster_std=1, \n",
    "                        center_box=(-10, 10), shuffle=False, random_state=1234) \n",
    "    res = %timeit -o -q -n 1 -r 100 model.fit(X)\n",
    "    measure_kpp.append(res.best)\n",
    "    print \"size={0}, time = {1}\".format(i, measure_kpp[i/1000-1])"
   ]
  },
  {
   "cell_type": "code",
   "execution_count": 146,
   "metadata": {},
   "outputs": [
    {
     "name": "stdout",
     "output_type": "stream",
     "text": [
      "size=1000, time = 0.0700199604034\n",
      "size=2000, time = 0.0673508644104\n",
      "size=3000, time = 0.0739569664001\n",
      "size=4000, time = 0.0817339420319\n",
      "size=5000, time = 0.0682699680328\n",
      "size=6000, time = 0.0690970420837\n",
      "size=7000, time = 0.0681581497192\n",
      "size=8000, time = 0.0821528434753\n",
      "size=9000, time = 0.0811541080475\n"
     ]
    }
   ],
   "source": [
    "## Время выполнения алгоритма KMeans с MiniBatchKMeans\n",
    "model=MiniBatchKMeans(k=3,init='random',max_iter=100)\n",
    "measure_mb = list()\n",
    "for i in xrange(1000,10000,1000):\n",
    "    X, y = make_blobs(n_samples=i, n_features=2, centers=3, cluster_std=1, \n",
    "                        center_box=(-10, 10), shuffle=False, random_state=1234) \n",
    "    res = %timeit -o -q -n 1 -r 5 model.fit(X)\n",
    "    measure_mb.append(res.best)\n",
    "    print \"size={0}, time = {1}\".format(i, measure_mb[i/1000-1])"
   ]
  },
  {
   "cell_type": "code",
   "execution_count": 147,
   "metadata": {},
   "outputs": [
    {
     "name": "stdout",
     "output_type": "stream",
     "text": [
      "size=1000, time = 0.0770318508148\n",
      "size=2000, time = 0.0688600540161\n",
      "size=3000, time = 0.0746519565582\n",
      "size=4000, time = 0.0696699619293\n",
      "size=5000, time = 0.0791921615601\n",
      "size=6000, time = 0.0717151165009\n",
      "size=7000, time = 0.0709550380707\n",
      "size=8000, time = 0.0783159732819\n",
      "size=9000, time = 0.124767065048\n"
     ]
    }
   ],
   "source": [
    "## Время выполнения алгоритма  KMeans++ с MiniBatchKMeans\n",
    "model=MiniBatchKMeans(k=3,init='++',max_iter=100)\n",
    "measure_mbpp = list()\n",
    "for i in xrange(1000,10000,1000):\n",
    "    X, y = make_blobs(n_samples=i, n_features=2, centers=3, cluster_std=1, \n",
    "                        center_box=(-10, 10), shuffle=False, random_state=1234) \n",
    "    res = %timeit -o -q -n 1 -r 5 model.fit(X)\n",
    "    measure_mbpp.append(res.best)\n",
    "    print \"size={0}, time = {1}\".format(i, measure_mbpp[i/1000-1])"
   ]
  },
  {
   "cell_type": "code",
   "execution_count": 148,
   "metadata": {
    "collapsed": true
   },
   "outputs": [],
   "source": [
    "size=range(100,1000,100)"
   ]
  },
  {
   "cell_type": "code",
   "execution_count": 149,
   "metadata": {},
   "outputs": [
    {
     "data": {
      "text/plain": [
       "<matplotlib.text.Text at 0x7f23222e3450>"
      ]
     },
     "execution_count": 149,
     "metadata": {},
     "output_type": "execute_result"
    },
    {
     "data": {
      "image/png": "[encoded data removed]",
      "text/plain": [
       "<matplotlib.figure.Figure at 0x7f232242ed90>"
      ]
     },
     "metadata": {},
     "output_type": "display_data"
    }
   ],
   "source": [
    "plt.plot(size, measure_k, marker = 'o', label = 'Kmeans')\n",
    "plt.plot(size, measure_kpp, marker = 'o', label = 'Kmeans++')\n",
    "plt.legend()\n",
    "plt.axes().set_xlabel(\"Number of points\")\n",
    "plt.axes().set_ylabel(\"Time\")"
   ]
  },
  {
   "cell_type": "code",
   "execution_count": 150,
   "metadata": {},
   "outputs": [
    {
     "data": {
      "text/plain": [
       "<matplotlib.text.Text at 0x7f23220acd50>"
      ]
     },
     "execution_count": 150,
     "metadata": {},
     "output_type": "execute_result"
    },
    {
     "data": {
      "image/png": "[encoded data removed]",
      "text/plain": [
       "<matplotlib.figure.Figure at 0x7f2322046810>"
      ]
     },
     "metadata": {},
     "output_type": "display_data"
    }
   ],
   "source": [
    "plt.plot(size, measure_mb, marker = 'o', label = 'MBKmeans')\n",
    "plt.plot(size, measure_mbpp, marker = 'o', label = 'MBKmeans++')\n",
    "plt.legend()\n",
    "plt.axes().set_xlabel(\"Number of points\")\n",
    "plt.axes().set_ylabel(\"Time\")"
   ]
  },
  {
   "cell_type": "code",
   "execution_count": 151,
   "metadata": {},
   "outputs": [
    {
     "data": {
      "text/plain": [
       "<matplotlib.text.Text at 0x7f2321fa4fd0>"
      ]
     },
     "execution_count": 151,
     "metadata": {},
     "output_type": "execute_result"
    },
    {
     "data": {
      "image/png": "[encoded data removed]",
      "text/plain": [
       "<matplotlib.figure.Figure at 0x7f2321fb5110>"
      ]
     },
     "metadata": {},
     "output_type": "display_data"
    }
   ],
   "source": [
    "plt.plot(size, measure_k, marker = 'o', label = 'Kmeans')\n",
    "plt.plot(size, measure_mb, marker = 'o', label = 'MBKmeans')\n",
    "plt.legend()\n",
    "plt.axes().set_xlabel(\"Number of points\")\n",
    "plt.axes().set_ylabel(\"Time\")"
   ]
  },
  {
   "cell_type": "code",
   "execution_count": 152,
   "metadata": {},
   "outputs": [
    {
     "data": {
      "text/plain": [
       "<matplotlib.text.Text at 0x7f2321edb890>"
      ]
     },
     "execution_count": 152,
     "metadata": {},
     "output_type": "execute_result"
    },
    {
     "data": {
      "image/png": "[encoded data removed]",
      "text/plain": [
       "<matplotlib.figure.Figure at 0x7f23214e4610>"
      ]
     },
     "metadata": {},
     "output_type": "display_data"
    }
   ],
   "source": [
    "plt.plot(size, measure_kpp, marker = 'o', label = 'Kmeans++')\n",
    "plt.plot(size, measure_mbpp, marker = 'o', label = 'MBKmeans++')\n",
    "plt.legend()\n",
    "plt.axes().set_xlabel(\"Number of points\")\n",
    "plt.axes().set_ylabel(\"Time\")"
   ]
  },
  {
   "cell_type": "markdown",
   "metadata": {},
   "source": [
    "# Применение K-means на реальных данных"
   ]
  },
  {
   "cell_type": "markdown",
   "metadata": {},
   "source": [
    "Загрузите [данные](https://github.com/brenden17/sklearnlab/blob/master/facebook/snsdata.csv) в которых содержится описание интересов профилей учеников старшей школы США.  (без этого пункта задание не считается выполненным).   \n",
    "ВНИМАНИЕ! Проверка должна быть осуществлена на всех реализациях, иначе реализация не будет зачтена!"
   ]
  },
  {
   "cell_type": "code",
   "execution_count": 90,
   "metadata": {},
   "outputs": [
    {
     "data": {
      "text/html": [
       "<div>\n",
       "<style>\n",
       "    .dataframe thead tr:only-child th {\n",
       "        text-align: right;\n",
       "    }\n",
       "\n",
       "    .dataframe thead th {\n",
       "        text-align: left;\n",
       "    }\n",
       "\n",
       "    .dataframe tbody tr th {\n",
       "        vertical-align: top;\n",
       "    }\n",
       "</style>\n",
       "<table border=\"1\" class=\"dataframe\">\n",
       "  <thead>\n",
       "    <tr style=\"text-align: right;\">\n",
       "      <th></th>\n",
       "      <th>gradyear</th>\n",
       "      <th>gender</th>\n",
       "      <th>age</th>\n",
       "      <th>friends</th>\n",
       "      <th>basketball</th>\n",
       "      <th>football</th>\n",
       "      <th>soccer</th>\n",
       "      <th>softball</th>\n",
       "      <th>volleyball</th>\n",
       "      <th>swimming</th>\n",
       "      <th>...</th>\n",
       "      <th>blonde</th>\n",
       "      <th>mall</th>\n",
       "      <th>shopping</th>\n",
       "      <th>clothes</th>\n",
       "      <th>hollister</th>\n",
       "      <th>abercrombie</th>\n",
       "      <th>die</th>\n",
       "      <th>death</th>\n",
       "      <th>drunk</th>\n",
       "      <th>drugs</th>\n",
       "    </tr>\n",
       "  </thead>\n",
       "  <tbody>\n",
       "    <tr>\n",
       "      <th>0</th>\n",
       "      <td>2006</td>\n",
       "      <td>M</td>\n",
       "      <td>18.982</td>\n",
       "      <td>7</td>\n",
       "      <td>0</td>\n",
       "      <td>0</td>\n",
       "      <td>0</td>\n",
       "      <td>0</td>\n",
       "      <td>0</td>\n",
       "      <td>0</td>\n",
       "      <td>...</td>\n",
       "      <td>0</td>\n",
       "      <td>0</td>\n",
       "      <td>0</td>\n",
       "      <td>0</td>\n",
       "      <td>0</td>\n",
       "      <td>0</td>\n",
       "      <td>0</td>\n",
       "      <td>0</td>\n",
       "      <td>0</td>\n",
       "      <td>0</td>\n",
       "    </tr>\n",
       "    <tr>\n",
       "      <th>1</th>\n",
       "      <td>2006</td>\n",
       "      <td>F</td>\n",
       "      <td>18.801</td>\n",
       "      <td>0</td>\n",
       "      <td>0</td>\n",
       "      <td>1</td>\n",
       "      <td>0</td>\n",
       "      <td>0</td>\n",
       "      <td>0</td>\n",
       "      <td>0</td>\n",
       "      <td>...</td>\n",
       "      <td>0</td>\n",
       "      <td>1</td>\n",
       "      <td>0</td>\n",
       "      <td>0</td>\n",
       "      <td>0</td>\n",
       "      <td>0</td>\n",
       "      <td>0</td>\n",
       "      <td>0</td>\n",
       "      <td>0</td>\n",
       "      <td>0</td>\n",
       "    </tr>\n",
       "    <tr>\n",
       "      <th>2</th>\n",
       "      <td>2006</td>\n",
       "      <td>M</td>\n",
       "      <td>18.335</td>\n",
       "      <td>69</td>\n",
       "      <td>0</td>\n",
       "      <td>1</td>\n",
       "      <td>0</td>\n",
       "      <td>0</td>\n",
       "      <td>0</td>\n",
       "      <td>0</td>\n",
       "      <td>...</td>\n",
       "      <td>0</td>\n",
       "      <td>0</td>\n",
       "      <td>0</td>\n",
       "      <td>0</td>\n",
       "      <td>0</td>\n",
       "      <td>0</td>\n",
       "      <td>0</td>\n",
       "      <td>1</td>\n",
       "      <td>0</td>\n",
       "      <td>0</td>\n",
       "    </tr>\n",
       "    <tr>\n",
       "      <th>3</th>\n",
       "      <td>2006</td>\n",
       "      <td>F</td>\n",
       "      <td>18.875</td>\n",
       "      <td>0</td>\n",
       "      <td>0</td>\n",
       "      <td>0</td>\n",
       "      <td>0</td>\n",
       "      <td>0</td>\n",
       "      <td>0</td>\n",
       "      <td>0</td>\n",
       "      <td>...</td>\n",
       "      <td>0</td>\n",
       "      <td>0</td>\n",
       "      <td>0</td>\n",
       "      <td>0</td>\n",
       "      <td>0</td>\n",
       "      <td>0</td>\n",
       "      <td>0</td>\n",
       "      <td>0</td>\n",
       "      <td>0</td>\n",
       "      <td>0</td>\n",
       "    </tr>\n",
       "    <tr>\n",
       "      <th>4</th>\n",
       "      <td>2006</td>\n",
       "      <td>NaN</td>\n",
       "      <td>18.995</td>\n",
       "      <td>10</td>\n",
       "      <td>0</td>\n",
       "      <td>0</td>\n",
       "      <td>0</td>\n",
       "      <td>0</td>\n",
       "      <td>0</td>\n",
       "      <td>0</td>\n",
       "      <td>...</td>\n",
       "      <td>0</td>\n",
       "      <td>0</td>\n",
       "      <td>2</td>\n",
       "      <td>0</td>\n",
       "      <td>0</td>\n",
       "      <td>0</td>\n",
       "      <td>0</td>\n",
       "      <td>0</td>\n",
       "      <td>1</td>\n",
       "      <td>1</td>\n",
       "    </tr>\n",
       "  </tbody>\n",
       "</table>\n",
       "<p>5 rows × 40 columns</p>\n",
       "</div>"
      ],
      "text/plain": [
       "   gradyear gender     age  friends  basketball  football  soccer  softball  \\\n",
       "0      2006      M  18.982        7           0         0       0         0   \n",
       "1      2006      F  18.801        0           0         1       0         0   \n",
       "2      2006      M  18.335       69           0         1       0         0   \n",
       "3      2006      F  18.875        0           0         0       0         0   \n",
       "4      2006    NaN  18.995       10           0         0       0         0   \n",
       "\n",
       "   volleyball  swimming  ...    blonde  mall  shopping  clothes  hollister  \\\n",
       "0           0         0  ...         0     0         0        0          0   \n",
       "1           0         0  ...         0     1         0        0          0   \n",
       "2           0         0  ...         0     0         0        0          0   \n",
       "3           0         0  ...         0     0         0        0          0   \n",
       "4           0         0  ...         0     0         2        0          0   \n",
       "\n",
       "   abercrombie  die  death  drunk  drugs  \n",
       "0            0    0      0      0      0  \n",
       "1            0    0      0      0      0  \n",
       "2            0    0      1      0      0  \n",
       "3            0    0      0      0      0  \n",
       "4            0    0      0      1      1  \n",
       "\n",
       "[5 rows x 40 columns]"
      ]
     },
     "execution_count": 90,
     "metadata": {},
     "output_type": "execute_result"
    }
   ],
   "source": [
    "df_sns = pd.read_csv('snsdata.csv', sep=',')\n",
    "df_sns.head()"
   ]
  },
  {
   "cell_type": "markdown",
   "metadata": {},
   "source": [
    "Данные устроены так: \n",
    "* Год выпуска\n",
    "* Пол\n",
    "* Возраст\n",
    "* Количество друзей\n",
    "* 36 ключевых слов, которые встречаются в профилe facebook (интересы, сообщества, встречи)"
   ]
  },
  {
   "cell_type": "markdown",
   "metadata": {},
   "source": [
    "* Удалите все признаки кроме 36 ключевых слов.\n",
    "* Нормализуйте данные - из каждого столбца вычтите его среднее значение и поделите на стандартное отклонение.\n",
    "* Используйте метод k-means чтобы выделить 9 кластеров\n",
    "* Попробуйте проинтерпретировать каждый кластер проанализировав полученные центройды (Некоторые кластеры могут быть очень большие и очень маленькие - плохо интерпретируются)   \n",
    "КОММЕНТАРИИ НЕ СТИРАТЬ!"
   ]
  },
  {
   "cell_type": "code",
   "execution_count": 91,
   "metadata": {
    "collapsed": true
   },
   "outputs": [],
   "source": [
    "df=df_sns.drop(['gradyear','gender','age','friends'],axis=1)"
   ]
  },
  {
   "cell_type": "code",
   "execution_count": 92,
   "metadata": {},
   "outputs": [
    {
     "data": {
      "text/html": [
       "<div>\n",
       "<style>\n",
       "    .dataframe thead tr:only-child th {\n",
       "        text-align: right;\n",
       "    }\n",
       "\n",
       "    .dataframe thead th {\n",
       "        text-align: left;\n",
       "    }\n",
       "\n",
       "    .dataframe tbody tr th {\n",
       "        vertical-align: top;\n",
       "    }\n",
       "</style>\n",
       "<table border=\"1\" class=\"dataframe\">\n",
       "  <thead>\n",
       "    <tr style=\"text-align: right;\">\n",
       "      <th></th>\n",
       "      <th>basketball</th>\n",
       "      <th>football</th>\n",
       "      <th>soccer</th>\n",
       "      <th>softball</th>\n",
       "      <th>volleyball</th>\n",
       "      <th>swimming</th>\n",
       "      <th>cheerleading</th>\n",
       "      <th>baseball</th>\n",
       "      <th>tennis</th>\n",
       "      <th>sports</th>\n",
       "      <th>...</th>\n",
       "      <th>blonde</th>\n",
       "      <th>mall</th>\n",
       "      <th>shopping</th>\n",
       "      <th>clothes</th>\n",
       "      <th>hollister</th>\n",
       "      <th>abercrombie</th>\n",
       "      <th>die</th>\n",
       "      <th>death</th>\n",
       "      <th>drunk</th>\n",
       "      <th>drugs</th>\n",
       "    </tr>\n",
       "  </thead>\n",
       "  <tbody>\n",
       "    <tr>\n",
       "      <th>0</th>\n",
       "      <td>0</td>\n",
       "      <td>0</td>\n",
       "      <td>0</td>\n",
       "      <td>0</td>\n",
       "      <td>0</td>\n",
       "      <td>0</td>\n",
       "      <td>0</td>\n",
       "      <td>0</td>\n",
       "      <td>0</td>\n",
       "      <td>0</td>\n",
       "      <td>...</td>\n",
       "      <td>0</td>\n",
       "      <td>0</td>\n",
       "      <td>0</td>\n",
       "      <td>0</td>\n",
       "      <td>0</td>\n",
       "      <td>0</td>\n",
       "      <td>0</td>\n",
       "      <td>0</td>\n",
       "      <td>0</td>\n",
       "      <td>0</td>\n",
       "    </tr>\n",
       "    <tr>\n",
       "      <th>1</th>\n",
       "      <td>0</td>\n",
       "      <td>1</td>\n",
       "      <td>0</td>\n",
       "      <td>0</td>\n",
       "      <td>0</td>\n",
       "      <td>0</td>\n",
       "      <td>0</td>\n",
       "      <td>0</td>\n",
       "      <td>0</td>\n",
       "      <td>0</td>\n",
       "      <td>...</td>\n",
       "      <td>0</td>\n",
       "      <td>1</td>\n",
       "      <td>0</td>\n",
       "      <td>0</td>\n",
       "      <td>0</td>\n",
       "      <td>0</td>\n",
       "      <td>0</td>\n",
       "      <td>0</td>\n",
       "      <td>0</td>\n",
       "      <td>0</td>\n",
       "    </tr>\n",
       "    <tr>\n",
       "      <th>2</th>\n",
       "      <td>0</td>\n",
       "      <td>1</td>\n",
       "      <td>0</td>\n",
       "      <td>0</td>\n",
       "      <td>0</td>\n",
       "      <td>0</td>\n",
       "      <td>0</td>\n",
       "      <td>0</td>\n",
       "      <td>0</td>\n",
       "      <td>0</td>\n",
       "      <td>...</td>\n",
       "      <td>0</td>\n",
       "      <td>0</td>\n",
       "      <td>0</td>\n",
       "      <td>0</td>\n",
       "      <td>0</td>\n",
       "      <td>0</td>\n",
       "      <td>0</td>\n",
       "      <td>1</td>\n",
       "      <td>0</td>\n",
       "      <td>0</td>\n",
       "    </tr>\n",
       "    <tr>\n",
       "      <th>3</th>\n",
       "      <td>0</td>\n",
       "      <td>0</td>\n",
       "      <td>0</td>\n",
       "      <td>0</td>\n",
       "      <td>0</td>\n",
       "      <td>0</td>\n",
       "      <td>0</td>\n",
       "      <td>0</td>\n",
       "      <td>0</td>\n",
       "      <td>0</td>\n",
       "      <td>...</td>\n",
       "      <td>0</td>\n",
       "      <td>0</td>\n",
       "      <td>0</td>\n",
       "      <td>0</td>\n",
       "      <td>0</td>\n",
       "      <td>0</td>\n",
       "      <td>0</td>\n",
       "      <td>0</td>\n",
       "      <td>0</td>\n",
       "      <td>0</td>\n",
       "    </tr>\n",
       "    <tr>\n",
       "      <th>4</th>\n",
       "      <td>0</td>\n",
       "      <td>0</td>\n",
       "      <td>0</td>\n",
       "      <td>0</td>\n",
       "      <td>0</td>\n",
       "      <td>0</td>\n",
       "      <td>0</td>\n",
       "      <td>0</td>\n",
       "      <td>0</td>\n",
       "      <td>0</td>\n",
       "      <td>...</td>\n",
       "      <td>0</td>\n",
       "      <td>0</td>\n",
       "      <td>2</td>\n",
       "      <td>0</td>\n",
       "      <td>0</td>\n",
       "      <td>0</td>\n",
       "      <td>0</td>\n",
       "      <td>0</td>\n",
       "      <td>1</td>\n",
       "      <td>1</td>\n",
       "    </tr>\n",
       "  </tbody>\n",
       "</table>\n",
       "<p>5 rows × 36 columns</p>\n",
       "</div>"
      ],
      "text/plain": [
       "   basketball  football  soccer  softball  volleyball  swimming  cheerleading  \\\n",
       "0           0         0       0         0           0         0             0   \n",
       "1           0         1       0         0           0         0             0   \n",
       "2           0         1       0         0           0         0             0   \n",
       "3           0         0       0         0           0         0             0   \n",
       "4           0         0       0         0           0         0             0   \n",
       "\n",
       "   baseball  tennis  sports  ...    blonde  mall  shopping  clothes  \\\n",
       "0         0       0       0  ...         0     0         0        0   \n",
       "1         0       0       0  ...         0     1         0        0   \n",
       "2         0       0       0  ...         0     0         0        0   \n",
       "3         0       0       0  ...         0     0         0        0   \n",
       "4         0       0       0  ...         0     0         2        0   \n",
       "\n",
       "   hollister  abercrombie  die  death  drunk  drugs  \n",
       "0          0            0    0      0      0      0  \n",
       "1          0            0    0      0      0      0  \n",
       "2          0            0    0      1      0      0  \n",
       "3          0            0    0      0      0      0  \n",
       "4          0            0    0      0      1      1  \n",
       "\n",
       "[5 rows x 36 columns]"
      ]
     },
     "execution_count": 92,
     "metadata": {},
     "output_type": "execute_result"
    }
   ],
   "source": [
    "df.head()"
   ]
  },
  {
   "cell_type": "code",
   "execution_count": 93,
   "metadata": {
    "collapsed": true
   },
   "outputs": [],
   "source": [
    "df=df.values\n",
    "df=(df-df.mean(axis=0))/df.std(axis=0)"
   ]
  },
  {
   "cell_type": "code",
   "execution_count": 119,
   "metadata": {},
   "outputs": [
    {
     "data": {
      "text/plain": [
       "Kmeans(init='random', k=9, max_iter=1000, metric='euclidean',\n",
       "    random_state=None)"
      ]
     },
     "execution_count": 119,
     "metadata": {},
     "output_type": "execute_result"
    }
   ],
   "source": [
    "## KMeans\n",
    "model_k = Kmeans(9, init='random')\n",
    "model_k.fit(df,y=None)"
   ]
  },
  {
   "cell_type": "code",
   "execution_count": 120,
   "metadata": {},
   "outputs": [
    {
     "data": {
      "text/html": [
       "<div>\n",
       "<style>\n",
       "    .dataframe thead tr:only-child th {\n",
       "        text-align: right;\n",
       "    }\n",
       "\n",
       "    .dataframe thead th {\n",
       "        text-align: left;\n",
       "    }\n",
       "\n",
       "    .dataframe tbody tr th {\n",
       "        vertical-align: top;\n",
       "    }\n",
       "</style>\n",
       "<table border=\"1\" class=\"dataframe\">\n",
       "  <thead>\n",
       "    <tr style=\"text-align: right;\">\n",
       "      <th></th>\n",
       "      <th>count</th>\n",
       "      <th>(gradyear, mean)</th>\n",
       "      <th>(age, mean)</th>\n",
       "      <th>(friends, mean)</th>\n",
       "      <th>(basketball, mean)</th>\n",
       "      <th>(football, mean)</th>\n",
       "      <th>(soccer, mean)</th>\n",
       "      <th>(softball, mean)</th>\n",
       "      <th>(volleyball, mean)</th>\n",
       "      <th>(swimming, mean)</th>\n",
       "      <th>...</th>\n",
       "      <th>(clothes, mean)</th>\n",
       "      <th>(hollister, mean)</th>\n",
       "      <th>(abercrombie, mean)</th>\n",
       "      <th>(die, mean)</th>\n",
       "      <th>(death, mean)</th>\n",
       "      <th>(drunk, mean)</th>\n",
       "      <th>(drugs, mean)</th>\n",
       "      <th>(Kmeans++, mean)</th>\n",
       "      <th>(MBKmeans, mean)</th>\n",
       "      <th>(MBKmeans++, mean)</th>\n",
       "    </tr>\n",
       "    <tr>\n",
       "      <th>Kmeans</th>\n",
       "      <th></th>\n",
       "      <th></th>\n",
       "      <th></th>\n",
       "      <th></th>\n",
       "      <th></th>\n",
       "      <th></th>\n",
       "      <th></th>\n",
       "      <th></th>\n",
       "      <th></th>\n",
       "      <th></th>\n",
       "      <th></th>\n",
       "      <th></th>\n",
       "      <th></th>\n",
       "      <th></th>\n",
       "      <th></th>\n",
       "      <th></th>\n",
       "      <th></th>\n",
       "      <th></th>\n",
       "      <th></th>\n",
       "      <th></th>\n",
       "      <th></th>\n",
       "    </tr>\n",
       "  </thead>\n",
       "  <tbody>\n",
       "    <tr>\n",
       "      <th>0</th>\n",
       "      <td>1702</td>\n",
       "      <td>2007.689325</td>\n",
       "      <td>17.759129</td>\n",
       "      <td>32.236657</td>\n",
       "      <td>1.188822</td>\n",
       "      <td>1.490937</td>\n",
       "      <td>1.467271</td>\n",
       "      <td>0.154079</td>\n",
       "      <td>0.114300</td>\n",
       "      <td>0.163142</td>\n",
       "      <td>...</td>\n",
       "      <td>0.128399</td>\n",
       "      <td>0.036757</td>\n",
       "      <td>0.017120</td>\n",
       "      <td>0.152568</td>\n",
       "      <td>0.090634</td>\n",
       "      <td>0.063948</td>\n",
       "      <td>0.033233</td>\n",
       "      <td>3.137462</td>\n",
       "      <td>4.404834</td>\n",
       "      <td>3.680262</td>\n",
       "    </tr>\n",
       "    <tr>\n",
       "      <th>1</th>\n",
       "      <td>393</td>\n",
       "      <td>2007.322851</td>\n",
       "      <td>18.996557</td>\n",
       "      <td>35.287212</td>\n",
       "      <td>0.339623</td>\n",
       "      <td>0.276730</td>\n",
       "      <td>0.199161</td>\n",
       "      <td>0.119497</td>\n",
       "      <td>0.113208</td>\n",
       "      <td>0.184486</td>\n",
       "      <td>...</td>\n",
       "      <td>0.157233</td>\n",
       "      <td>0.033543</td>\n",
       "      <td>0.020964</td>\n",
       "      <td>0.348008</td>\n",
       "      <td>0.266247</td>\n",
       "      <td>0.109015</td>\n",
       "      <td>0.085954</td>\n",
       "      <td>6.645702</td>\n",
       "      <td>1.041929</td>\n",
       "      <td>3.035639</td>\n",
       "    </tr>\n",
       "    <tr>\n",
       "      <th>2</th>\n",
       "      <td>653</td>\n",
       "      <td>2007.344415</td>\n",
       "      <td>18.048331</td>\n",
       "      <td>33.136968</td>\n",
       "      <td>0.175532</td>\n",
       "      <td>0.268617</td>\n",
       "      <td>0.126330</td>\n",
       "      <td>0.107713</td>\n",
       "      <td>0.046543</td>\n",
       "      <td>0.162234</td>\n",
       "      <td>...</td>\n",
       "      <td>0.132979</td>\n",
       "      <td>0.011968</td>\n",
       "      <td>0.010638</td>\n",
       "      <td>0.167553</td>\n",
       "      <td>0.117021</td>\n",
       "      <td>0.054521</td>\n",
       "      <td>0.031915</td>\n",
       "      <td>5.422872</td>\n",
       "      <td>3.394947</td>\n",
       "      <td>3.611702</td>\n",
       "    </tr>\n",
       "    <tr>\n",
       "      <th>3</th>\n",
       "      <td>575</td>\n",
       "      <td>2007.762931</td>\n",
       "      <td>17.592021</td>\n",
       "      <td>36.933908</td>\n",
       "      <td>0.603448</td>\n",
       "      <td>0.357759</td>\n",
       "      <td>0.284483</td>\n",
       "      <td>0.308908</td>\n",
       "      <td>3.311782</td>\n",
       "      <td>0.191092</td>\n",
       "      <td>...</td>\n",
       "      <td>0.146552</td>\n",
       "      <td>0.051724</td>\n",
       "      <td>0.041667</td>\n",
       "      <td>0.122126</td>\n",
       "      <td>0.104885</td>\n",
       "      <td>0.064655</td>\n",
       "      <td>0.020115</td>\n",
       "      <td>1.985632</td>\n",
       "      <td>6.897989</td>\n",
       "      <td>3.119253</td>\n",
       "    </tr>\n",
       "    <tr>\n",
       "      <th>4</th>\n",
       "      <td>795</td>\n",
       "      <td>2007.612798</td>\n",
       "      <td>17.624238</td>\n",
       "      <td>30.672451</td>\n",
       "      <td>0.546638</td>\n",
       "      <td>0.505423</td>\n",
       "      <td>0.329718</td>\n",
       "      <td>0.194143</td>\n",
       "      <td>0.196312</td>\n",
       "      <td>0.275488</td>\n",
       "      <td>...</td>\n",
       "      <td>0.707158</td>\n",
       "      <td>0.132321</td>\n",
       "      <td>0.130152</td>\n",
       "      <td>1.300434</td>\n",
       "      <td>0.536876</td>\n",
       "      <td>0.836226</td>\n",
       "      <td>1.060738</td>\n",
       "      <td>3.147505</td>\n",
       "      <td>5.149675</td>\n",
       "      <td>3.380694</td>\n",
       "    </tr>\n",
       "    <tr>\n",
       "      <th>5</th>\n",
       "      <td>15903</td>\n",
       "      <td>2007.430481</td>\n",
       "      <td>18.181268</td>\n",
       "      <td>27.364996</td>\n",
       "      <td>0.132511</td>\n",
       "      <td>0.101876</td>\n",
       "      <td>0.103110</td>\n",
       "      <td>0.058083</td>\n",
       "      <td>0.040555</td>\n",
       "      <td>0.080802</td>\n",
       "      <td>...</td>\n",
       "      <td>0.050732</td>\n",
       "      <td>0.014701</td>\n",
       "      <td>0.008995</td>\n",
       "      <td>0.123362</td>\n",
       "      <td>0.078540</td>\n",
       "      <td>0.051041</td>\n",
       "      <td>0.020920</td>\n",
       "      <td>3.992033</td>\n",
       "      <td>3.738371</td>\n",
       "      <td>0.473657</td>\n",
       "    </tr>\n",
       "    <tr>\n",
       "      <th>6</th>\n",
       "      <td>411</td>\n",
       "      <td>2007.693582</td>\n",
       "      <td>17.528399</td>\n",
       "      <td>40.699793</td>\n",
       "      <td>0.770186</td>\n",
       "      <td>0.368530</td>\n",
       "      <td>0.196687</td>\n",
       "      <td>4.743271</td>\n",
       "      <td>0.383023</td>\n",
       "      <td>0.186335</td>\n",
       "      <td>...</td>\n",
       "      <td>0.225673</td>\n",
       "      <td>0.066253</td>\n",
       "      <td>0.053830</td>\n",
       "      <td>0.173913</td>\n",
       "      <td>0.142857</td>\n",
       "      <td>0.074534</td>\n",
       "      <td>0.057971</td>\n",
       "      <td>1.101449</td>\n",
       "      <td>3.954451</td>\n",
       "      <td>3.480331</td>\n",
       "    </tr>\n",
       "    <tr>\n",
       "      <th>7</th>\n",
       "      <td>715</td>\n",
       "      <td>2007.851190</td>\n",
       "      <td>17.489884</td>\n",
       "      <td>41.254762</td>\n",
       "      <td>0.372619</td>\n",
       "      <td>0.391667</td>\n",
       "      <td>0.295238</td>\n",
       "      <td>0.146429</td>\n",
       "      <td>0.189286</td>\n",
       "      <td>0.260714</td>\n",
       "      <td>...</td>\n",
       "      <td>0.420238</td>\n",
       "      <td>1.516667</td>\n",
       "      <td>1.170238</td>\n",
       "      <td>0.220238</td>\n",
       "      <td>0.155952</td>\n",
       "      <td>0.110714</td>\n",
       "      <td>0.075000</td>\n",
       "      <td>3.042857</td>\n",
       "      <td>7.857143</td>\n",
       "      <td>7.816667</td>\n",
       "    </tr>\n",
       "    <tr>\n",
       "      <th>8</th>\n",
       "      <td>3767</td>\n",
       "      <td>2007.614491</td>\n",
       "      <td>17.481069</td>\n",
       "      <td>36.210298</td>\n",
       "      <td>0.268398</td>\n",
       "      <td>0.243791</td>\n",
       "      <td>0.165869</td>\n",
       "      <td>0.103440</td>\n",
       "      <td>0.081795</td>\n",
       "      <td>0.280246</td>\n",
       "      <td>...</td>\n",
       "      <td>0.415129</td>\n",
       "      <td>0.056505</td>\n",
       "      <td>0.034176</td>\n",
       "      <td>0.222146</td>\n",
       "      <td>0.167692</td>\n",
       "      <td>0.109592</td>\n",
       "      <td>0.043746</td>\n",
       "      <td>0.525404</td>\n",
       "      <td>2.757348</td>\n",
       "      <td>4.943495</td>\n",
       "    </tr>\n",
       "  </tbody>\n",
       "</table>\n",
       "<p>9 rows × 43 columns</p>\n",
       "</div>"
      ],
      "text/plain": [
       "        count  (gradyear, mean)  (age, mean)  (friends, mean)  \\\n",
       "Kmeans                                                          \n",
       "0        1702       2007.689325    17.759129        32.236657   \n",
       "1         393       2007.322851    18.996557        35.287212   \n",
       "2         653       2007.344415    18.048331        33.136968   \n",
       "3         575       2007.762931    17.592021        36.933908   \n",
       "4         795       2007.612798    17.624238        30.672451   \n",
       "5       15903       2007.430481    18.181268        27.364996   \n",
       "6         411       2007.693582    17.528399        40.699793   \n",
       "7         715       2007.851190    17.489884        41.254762   \n",
       "8        3767       2007.614491    17.481069        36.210298   \n",
       "\n",
       "        (basketball, mean)  (football, mean)  (soccer, mean)  \\\n",
       "Kmeans                                                         \n",
       "0                 1.188822          1.490937        1.467271   \n",
       "1                 0.339623          0.276730        0.199161   \n",
       "2                 0.175532          0.268617        0.126330   \n",
       "3                 0.603448          0.357759        0.284483   \n",
       "4                 0.546638          0.505423        0.329718   \n",
       "5                 0.132511          0.101876        0.103110   \n",
       "6                 0.770186          0.368530        0.196687   \n",
       "7                 0.372619          0.391667        0.295238   \n",
       "8                 0.268398          0.243791        0.165869   \n",
       "\n",
       "        (softball, mean)  (volleyball, mean)  (swimming, mean)  \\\n",
       "Kmeans                                                           \n",
       "0               0.154079            0.114300          0.163142   \n",
       "1               0.119497            0.113208          0.184486   \n",
       "2               0.107713            0.046543          0.162234   \n",
       "3               0.308908            3.311782          0.191092   \n",
       "4               0.194143            0.196312          0.275488   \n",
       "5               0.058083            0.040555          0.080802   \n",
       "6               4.743271            0.383023          0.186335   \n",
       "7               0.146429            0.189286          0.260714   \n",
       "8               0.103440            0.081795          0.280246   \n",
       "\n",
       "               ...          (clothes, mean)  (hollister, mean)  \\\n",
       "Kmeans         ...                                               \n",
       "0              ...                 0.128399           0.036757   \n",
       "1              ...                 0.157233           0.033543   \n",
       "2              ...                 0.132979           0.011968   \n",
       "3              ...                 0.146552           0.051724   \n",
       "4              ...                 0.707158           0.132321   \n",
       "5              ...                 0.050732           0.014701   \n",
       "6              ...                 0.225673           0.066253   \n",
       "7              ...                 0.420238           1.516667   \n",
       "8              ...                 0.415129           0.056505   \n",
       "\n",
       "        (abercrombie, mean)  (die, mean)  (death, mean)  (drunk, mean)  \\\n",
       "Kmeans                                                                   \n",
       "0                  0.017120     0.152568       0.090634       0.063948   \n",
       "1                  0.020964     0.348008       0.266247       0.109015   \n",
       "2                  0.010638     0.167553       0.117021       0.054521   \n",
       "3                  0.041667     0.122126       0.104885       0.064655   \n",
       "4                  0.130152     1.300434       0.536876       0.836226   \n",
       "5                  0.008995     0.123362       0.078540       0.051041   \n",
       "6                  0.053830     0.173913       0.142857       0.074534   \n",
       "7                  1.170238     0.220238       0.155952       0.110714   \n",
       "8                  0.034176     0.222146       0.167692       0.109592   \n",
       "\n",
       "        (drugs, mean)  (Kmeans++, mean)  (MBKmeans, mean)  (MBKmeans++, mean)  \n",
       "Kmeans                                                                         \n",
       "0            0.033233          3.137462          4.404834            3.680262  \n",
       "1            0.085954          6.645702          1.041929            3.035639  \n",
       "2            0.031915          5.422872          3.394947            3.611702  \n",
       "3            0.020115          1.985632          6.897989            3.119253  \n",
       "4            1.060738          3.147505          5.149675            3.380694  \n",
       "5            0.020920          3.992033          3.738371            0.473657  \n",
       "6            0.057971          1.101449          3.954451            3.480331  \n",
       "7            0.075000          3.042857          7.857143            7.816667  \n",
       "8            0.043746          0.525404          2.757348            4.943495  \n",
       "\n",
       "[9 rows x 43 columns]"
      ]
     },
     "execution_count": 120,
     "metadata": {},
     "output_type": "execute_result"
    }
   ],
   "source": [
    "df_sns.loc [:, 'Kmeans'] = model_k.labels\n",
    "df_sns.groupby('Kmeans') ['age'].aggregate (['count']).join (df_sns.groupby('Kmeans').aggregate\n",
    "(['mean']))"
   ]
  },
  {
   "cell_type": "code",
   "execution_count": 121,
   "metadata": {},
   "outputs": [
    {
     "data": {
      "text/plain": [
       "Kmeans(init='++', k=9, max_iter=1000, metric='euclidean', random_state=None)"
      ]
     },
     "execution_count": 121,
     "metadata": {},
     "output_type": "execute_result"
    }
   ],
   "source": [
    "## KMeans++\n",
    "model_kpp = Kmeans(9, init='++')\n",
    "model_kpp.fit(df,y=None)"
   ]
  },
  {
   "cell_type": "code",
   "execution_count": 122,
   "metadata": {},
   "outputs": [
    {
     "data": {
      "text/html": [
       "<div>\n",
       "<style>\n",
       "    .dataframe thead tr:only-child th {\n",
       "        text-align: right;\n",
       "    }\n",
       "\n",
       "    .dataframe thead th {\n",
       "        text-align: left;\n",
       "    }\n",
       "\n",
       "    .dataframe tbody tr th {\n",
       "        vertical-align: top;\n",
       "    }\n",
       "</style>\n",
       "<table border=\"1\" class=\"dataframe\">\n",
       "  <thead>\n",
       "    <tr style=\"text-align: right;\">\n",
       "      <th></th>\n",
       "      <th>count</th>\n",
       "      <th>(gradyear, mean)</th>\n",
       "      <th>(age, mean)</th>\n",
       "      <th>(friends, mean)</th>\n",
       "      <th>(basketball, mean)</th>\n",
       "      <th>(football, mean)</th>\n",
       "      <th>(soccer, mean)</th>\n",
       "      <th>(softball, mean)</th>\n",
       "      <th>(volleyball, mean)</th>\n",
       "      <th>(swimming, mean)</th>\n",
       "      <th>...</th>\n",
       "      <th>(clothes, mean)</th>\n",
       "      <th>(hollister, mean)</th>\n",
       "      <th>(abercrombie, mean)</th>\n",
       "      <th>(die, mean)</th>\n",
       "      <th>(death, mean)</th>\n",
       "      <th>(drunk, mean)</th>\n",
       "      <th>(drugs, mean)</th>\n",
       "      <th>(Kmeans, mean)</th>\n",
       "      <th>(MBKmeans, mean)</th>\n",
       "      <th>(MBKmeans++, mean)</th>\n",
       "    </tr>\n",
       "    <tr>\n",
       "      <th>Kmeans++</th>\n",
       "      <th></th>\n",
       "      <th></th>\n",
       "      <th></th>\n",
       "      <th></th>\n",
       "      <th></th>\n",
       "      <th></th>\n",
       "      <th></th>\n",
       "      <th></th>\n",
       "      <th></th>\n",
       "      <th></th>\n",
       "      <th></th>\n",
       "      <th></th>\n",
       "      <th></th>\n",
       "      <th></th>\n",
       "      <th></th>\n",
       "      <th></th>\n",
       "      <th></th>\n",
       "      <th></th>\n",
       "      <th></th>\n",
       "      <th></th>\n",
       "      <th></th>\n",
       "    </tr>\n",
       "  </thead>\n",
       "  <tbody>\n",
       "    <tr>\n",
       "      <th>0</th>\n",
       "      <td>1013</td>\n",
       "      <td>2007.507185</td>\n",
       "      <td>17.809429</td>\n",
       "      <td>31.025359</td>\n",
       "      <td>0.320372</td>\n",
       "      <td>0.299239</td>\n",
       "      <td>0.247675</td>\n",
       "      <td>0.158073</td>\n",
       "      <td>0.147929</td>\n",
       "      <td>0.191885</td>\n",
       "      <td>...</td>\n",
       "      <td>0.474218</td>\n",
       "      <td>0.046492</td>\n",
       "      <td>0.046492</td>\n",
       "      <td>1.095520</td>\n",
       "      <td>0.459848</td>\n",
       "      <td>0.930685</td>\n",
       "      <td>0.860524</td>\n",
       "      <td>4.706678</td>\n",
       "      <td>5.067625</td>\n",
       "      <td>4.598478</td>\n",
       "    </tr>\n",
       "    <tr>\n",
       "      <th>1</th>\n",
       "      <td>680</td>\n",
       "      <td>2007.365729</td>\n",
       "      <td>18.005318</td>\n",
       "      <td>32.992327</td>\n",
       "      <td>0.172634</td>\n",
       "      <td>0.274936</td>\n",
       "      <td>0.157289</td>\n",
       "      <td>0.117647</td>\n",
       "      <td>0.088235</td>\n",
       "      <td>0.154731</td>\n",
       "      <td>...</td>\n",
       "      <td>0.150895</td>\n",
       "      <td>0.010230</td>\n",
       "      <td>0.010230</td>\n",
       "      <td>0.172634</td>\n",
       "      <td>0.122762</td>\n",
       "      <td>0.051151</td>\n",
       "      <td>0.034527</td>\n",
       "      <td>2.092072</td>\n",
       "      <td>3.441176</td>\n",
       "      <td>3.634271</td>\n",
       "    </tr>\n",
       "    <tr>\n",
       "      <th>2</th>\n",
       "      <td>2030</td>\n",
       "      <td>2007.723919</td>\n",
       "      <td>17.382750</td>\n",
       "      <td>35.115352</td>\n",
       "      <td>1.397795</td>\n",
       "      <td>1.112383</td>\n",
       "      <td>0.638677</td>\n",
       "      <td>1.093723</td>\n",
       "      <td>0.845632</td>\n",
       "      <td>0.180237</td>\n",
       "      <td>...</td>\n",
       "      <td>0.149703</td>\n",
       "      <td>0.032231</td>\n",
       "      <td>0.022053</td>\n",
       "      <td>0.134860</td>\n",
       "      <td>0.100509</td>\n",
       "      <td>0.043257</td>\n",
       "      <td>0.023749</td>\n",
       "      <td>2.055556</td>\n",
       "      <td>4.670908</td>\n",
       "      <td>3.580153</td>\n",
       "    </tr>\n",
       "    <tr>\n",
       "      <th>3</th>\n",
       "      <td>545</td>\n",
       "      <td>2007.719875</td>\n",
       "      <td>17.182993</td>\n",
       "      <td>39.078247</td>\n",
       "      <td>0.402191</td>\n",
       "      <td>0.502347</td>\n",
       "      <td>0.231612</td>\n",
       "      <td>0.215962</td>\n",
       "      <td>0.183099</td>\n",
       "      <td>0.164319</td>\n",
       "      <td>...</td>\n",
       "      <td>0.201878</td>\n",
       "      <td>0.115806</td>\n",
       "      <td>0.073552</td>\n",
       "      <td>0.151800</td>\n",
       "      <td>0.120501</td>\n",
       "      <td>0.070423</td>\n",
       "      <td>0.046948</td>\n",
       "      <td>5.906103</td>\n",
       "      <td>3.460094</td>\n",
       "      <td>3.410016</td>\n",
       "    </tr>\n",
       "    <tr>\n",
       "      <th>4</th>\n",
       "      <td>3500</td>\n",
       "      <td>2007.620909</td>\n",
       "      <td>17.616124</td>\n",
       "      <td>36.273815</td>\n",
       "      <td>0.242062</td>\n",
       "      <td>0.267953</td>\n",
       "      <td>0.303859</td>\n",
       "      <td>0.106009</td>\n",
       "      <td>0.115779</td>\n",
       "      <td>0.294333</td>\n",
       "      <td>...</td>\n",
       "      <td>0.402540</td>\n",
       "      <td>0.056668</td>\n",
       "      <td>0.033708</td>\n",
       "      <td>0.209331</td>\n",
       "      <td>0.147044</td>\n",
       "      <td>0.064240</td>\n",
       "      <td>0.024426</td>\n",
       "      <td>7.476551</td>\n",
       "      <td>2.785051</td>\n",
       "      <td>4.890327</td>\n",
       "    </tr>\n",
       "    <tr>\n",
       "      <th>5</th>\n",
       "      <td>174</td>\n",
       "      <td>2007.653061</td>\n",
       "      <td>17.701753</td>\n",
       "      <td>29.413265</td>\n",
       "      <td>1.066327</td>\n",
       "      <td>1.056122</td>\n",
       "      <td>0.586735</td>\n",
       "      <td>0.505102</td>\n",
       "      <td>0.224490</td>\n",
       "      <td>0.423469</td>\n",
       "      <td>...</td>\n",
       "      <td>1.193878</td>\n",
       "      <td>0.474490</td>\n",
       "      <td>0.438776</td>\n",
       "      <td>1.520408</td>\n",
       "      <td>0.775510</td>\n",
       "      <td>1.000000</td>\n",
       "      <td>0.959184</td>\n",
       "      <td>4.081633</td>\n",
       "      <td>3.867347</td>\n",
       "      <td>1.285714</td>\n",
       "    </tr>\n",
       "    <tr>\n",
       "      <th>6</th>\n",
       "      <td>712</td>\n",
       "      <td>2007.846523</td>\n",
       "      <td>17.495715</td>\n",
       "      <td>41.044365</td>\n",
       "      <td>0.383693</td>\n",
       "      <td>0.378897</td>\n",
       "      <td>0.315348</td>\n",
       "      <td>0.164269</td>\n",
       "      <td>0.254197</td>\n",
       "      <td>0.258993</td>\n",
       "      <td>...</td>\n",
       "      <td>0.404077</td>\n",
       "      <td>1.507194</td>\n",
       "      <td>1.152278</td>\n",
       "      <td>0.213429</td>\n",
       "      <td>0.155875</td>\n",
       "      <td>0.104317</td>\n",
       "      <td>0.064748</td>\n",
       "      <td>6.872902</td>\n",
       "      <td>7.845324</td>\n",
       "      <td>7.808153</td>\n",
       "    </tr>\n",
       "    <tr>\n",
       "      <th>7</th>\n",
       "      <td>15947</td>\n",
       "      <td>2007.431694</td>\n",
       "      <td>18.197689</td>\n",
       "      <td>27.293238</td>\n",
       "      <td>0.117674</td>\n",
       "      <td>0.119414</td>\n",
       "      <td>0.148232</td>\n",
       "      <td>0.056764</td>\n",
       "      <td>0.059630</td>\n",
       "      <td>0.080923</td>\n",
       "      <td>...</td>\n",
       "      <td>0.052004</td>\n",
       "      <td>0.014741</td>\n",
       "      <td>0.009213</td>\n",
       "      <td>0.113068</td>\n",
       "      <td>0.076112</td>\n",
       "      <td>0.039310</td>\n",
       "      <td>0.015509</td>\n",
       "      <td>4.891130</td>\n",
       "      <td>3.770589</td>\n",
       "      <td>0.465117</td>\n",
       "    </tr>\n",
       "    <tr>\n",
       "      <th>8</th>\n",
       "      <td>313</td>\n",
       "      <td>2007.363395</td>\n",
       "      <td>19.082879</td>\n",
       "      <td>35.488064</td>\n",
       "      <td>0.355438</td>\n",
       "      <td>0.273210</td>\n",
       "      <td>0.251989</td>\n",
       "      <td>0.161804</td>\n",
       "      <td>0.116711</td>\n",
       "      <td>0.183024</td>\n",
       "      <td>...</td>\n",
       "      <td>0.156499</td>\n",
       "      <td>0.034483</td>\n",
       "      <td>0.021220</td>\n",
       "      <td>0.358090</td>\n",
       "      <td>0.270557</td>\n",
       "      <td>0.098143</td>\n",
       "      <td>0.098143</td>\n",
       "      <td>1.055703</td>\n",
       "      <td>1.084881</td>\n",
       "      <td>3.037135</td>\n",
       "    </tr>\n",
       "  </tbody>\n",
       "</table>\n",
       "<p>9 rows × 43 columns</p>\n",
       "</div>"
      ],
      "text/plain": [
       "          count  (gradyear, mean)  (age, mean)  (friends, mean)  \\\n",
       "Kmeans++                                                          \n",
       "0          1013       2007.507185    17.809429        31.025359   \n",
       "1           680       2007.365729    18.005318        32.992327   \n",
       "2          2030       2007.723919    17.382750        35.115352   \n",
       "3           545       2007.719875    17.182993        39.078247   \n",
       "4          3500       2007.620909    17.616124        36.273815   \n",
       "5           174       2007.653061    17.701753        29.413265   \n",
       "6           712       2007.846523    17.495715        41.044365   \n",
       "7         15947       2007.431694    18.197689        27.293238   \n",
       "8           313       2007.363395    19.082879        35.488064   \n",
       "\n",
       "          (basketball, mean)  (football, mean)  (soccer, mean)  \\\n",
       "Kmeans++                                                         \n",
       "0                   0.320372          0.299239        0.247675   \n",
       "1                   0.172634          0.274936        0.157289   \n",
       "2                   1.397795          1.112383        0.638677   \n",
       "3                   0.402191          0.502347        0.231612   \n",
       "4                   0.242062          0.267953        0.303859   \n",
       "5                   1.066327          1.056122        0.586735   \n",
       "6                   0.383693          0.378897        0.315348   \n",
       "7                   0.117674          0.119414        0.148232   \n",
       "8                   0.355438          0.273210        0.251989   \n",
       "\n",
       "          (softball, mean)  (volleyball, mean)  (swimming, mean)  \\\n",
       "Kmeans++                                                           \n",
       "0                 0.158073            0.147929          0.191885   \n",
       "1                 0.117647            0.088235          0.154731   \n",
       "2                 1.093723            0.845632          0.180237   \n",
       "3                 0.215962            0.183099          0.164319   \n",
       "4                 0.106009            0.115779          0.294333   \n",
       "5                 0.505102            0.224490          0.423469   \n",
       "6                 0.164269            0.254197          0.258993   \n",
       "7                 0.056764            0.059630          0.080923   \n",
       "8                 0.161804            0.116711          0.183024   \n",
       "\n",
       "                 ...          (clothes, mean)  (hollister, mean)  \\\n",
       "Kmeans++         ...                                               \n",
       "0                ...                 0.474218           0.046492   \n",
       "1                ...                 0.150895           0.010230   \n",
       "2                ...                 0.149703           0.032231   \n",
       "3                ...                 0.201878           0.115806   \n",
       "4                ...                 0.402540           0.056668   \n",
       "5                ...                 1.193878           0.474490   \n",
       "6                ...                 0.404077           1.507194   \n",
       "7                ...                 0.052004           0.014741   \n",
       "8                ...                 0.156499           0.034483   \n",
       "\n",
       "          (abercrombie, mean)  (die, mean)  (death, mean)  (drunk, mean)  \\\n",
       "Kmeans++                                                                   \n",
       "0                    0.046492     1.095520       0.459848       0.930685   \n",
       "1                    0.010230     0.172634       0.122762       0.051151   \n",
       "2                    0.022053     0.134860       0.100509       0.043257   \n",
       "3                    0.073552     0.151800       0.120501       0.070423   \n",
       "4                    0.033708     0.209331       0.147044       0.064240   \n",
       "5                    0.438776     1.520408       0.775510       1.000000   \n",
       "6                    1.152278     0.213429       0.155875       0.104317   \n",
       "7                    0.009213     0.113068       0.076112       0.039310   \n",
       "8                    0.021220     0.358090       0.270557       0.098143   \n",
       "\n",
       "          (drugs, mean)  (Kmeans, mean)  (MBKmeans, mean)  (MBKmeans++, mean)  \n",
       "Kmeans++                                                                       \n",
       "0              0.860524        4.706678          5.067625            4.598478  \n",
       "1              0.034527        2.092072          3.441176            3.634271  \n",
       "2              0.023749        2.055556          4.670908            3.580153  \n",
       "3              0.046948        5.906103          3.460094            3.410016  \n",
       "4              0.024426        7.476551          2.785051            4.890327  \n",
       "5              0.959184        4.081633          3.867347            1.285714  \n",
       "6              0.064748        6.872902          7.845324            7.808153  \n",
       "7              0.015509        4.891130          3.770589            0.465117  \n",
       "8              0.098143        1.055703          1.084881            3.037135  \n",
       "\n",
       "[9 rows x 43 columns]"
      ]
     },
     "execution_count": 122,
     "metadata": {},
     "output_type": "execute_result"
    }
   ],
   "source": [
    "df_sns.loc [:, 'Kmeans++'] = model_kpp.labels\n",
    "df_sns.groupby('Kmeans++') ['age'].aggregate (['count']).join (df_sns.groupby('Kmeans++').aggregate\n",
    "(['mean']))"
   ]
  },
  {
   "cell_type": "code",
   "execution_count": 123,
   "metadata": {},
   "outputs": [
    {
     "data": {
      "text/plain": [
       "MiniBatchKMeans(batch_size=1000, init='random', k=9, max_iter=1000,\n",
       "        metric='euclidean', random_state=None)"
      ]
     },
     "execution_count": 123,
     "metadata": {},
     "output_type": "execute_result"
    }
   ],
   "source": [
    "## KMeans с MiniBatchKMeans\n",
    "model_mb = MiniBatchKMeans(9, init='random',batch_size=1000)\n",
    "model_mb.fit(df,y=None)"
   ]
  },
  {
   "cell_type": "code",
   "execution_count": 124,
   "metadata": {},
   "outputs": [
    {
     "data": {
      "text/html": [
       "<div>\n",
       "<style>\n",
       "    .dataframe thead tr:only-child th {\n",
       "        text-align: right;\n",
       "    }\n",
       "\n",
       "    .dataframe thead th {\n",
       "        text-align: left;\n",
       "    }\n",
       "\n",
       "    .dataframe tbody tr th {\n",
       "        vertical-align: top;\n",
       "    }\n",
       "</style>\n",
       "<table border=\"1\" class=\"dataframe\">\n",
       "  <thead>\n",
       "    <tr style=\"text-align: right;\">\n",
       "      <th></th>\n",
       "      <th>count</th>\n",
       "      <th>(gradyear, mean)</th>\n",
       "      <th>(age, mean)</th>\n",
       "      <th>(friends, mean)</th>\n",
       "      <th>(basketball, mean)</th>\n",
       "      <th>(football, mean)</th>\n",
       "      <th>(soccer, mean)</th>\n",
       "      <th>(softball, mean)</th>\n",
       "      <th>(volleyball, mean)</th>\n",
       "      <th>(swimming, mean)</th>\n",
       "      <th>...</th>\n",
       "      <th>(clothes, mean)</th>\n",
       "      <th>(hollister, mean)</th>\n",
       "      <th>(abercrombie, mean)</th>\n",
       "      <th>(die, mean)</th>\n",
       "      <th>(death, mean)</th>\n",
       "      <th>(drunk, mean)</th>\n",
       "      <th>(drugs, mean)</th>\n",
       "      <th>(Kmeans, mean)</th>\n",
       "      <th>(Kmeans++, mean)</th>\n",
       "      <th>(MBKmeans++, mean)</th>\n",
       "    </tr>\n",
       "    <tr>\n",
       "      <th>MBKmeans</th>\n",
       "      <th></th>\n",
       "      <th></th>\n",
       "      <th></th>\n",
       "      <th></th>\n",
       "      <th></th>\n",
       "      <th></th>\n",
       "      <th></th>\n",
       "      <th></th>\n",
       "      <th></th>\n",
       "      <th></th>\n",
       "      <th></th>\n",
       "      <th></th>\n",
       "      <th></th>\n",
       "      <th></th>\n",
       "      <th></th>\n",
       "      <th></th>\n",
       "      <th></th>\n",
       "      <th></th>\n",
       "      <th></th>\n",
       "      <th></th>\n",
       "      <th></th>\n",
       "    </tr>\n",
       "  </thead>\n",
       "  <tbody>\n",
       "    <tr>\n",
       "      <th>0</th>\n",
       "      <td>2850</td>\n",
       "      <td>2007.600060</td>\n",
       "      <td>17.424080</td>\n",
       "      <td>36.576819</td>\n",
       "      <td>0.249925</td>\n",
       "      <td>0.271959</td>\n",
       "      <td>0.300332</td>\n",
       "      <td>0.122849</td>\n",
       "      <td>0.083912</td>\n",
       "      <td>0.306671</td>\n",
       "      <td>...</td>\n",
       "      <td>0.434651</td>\n",
       "      <td>0.065198</td>\n",
       "      <td>0.034410</td>\n",
       "      <td>0.159674</td>\n",
       "      <td>0.051917</td>\n",
       "      <td>0.079384</td>\n",
       "      <td>0.027769</td>\n",
       "      <td>7.384546</td>\n",
       "      <td>3.965288</td>\n",
       "      <td>4.661938</td>\n",
       "    </tr>\n",
       "    <tr>\n",
       "      <th>1</th>\n",
       "      <td>701</td>\n",
       "      <td>2007.755981</td>\n",
       "      <td>17.393241</td>\n",
       "      <td>36.038278</td>\n",
       "      <td>0.277512</td>\n",
       "      <td>0.239234</td>\n",
       "      <td>0.257177</td>\n",
       "      <td>0.149522</td>\n",
       "      <td>0.114833</td>\n",
       "      <td>0.132775</td>\n",
       "      <td>...</td>\n",
       "      <td>0.241627</td>\n",
       "      <td>0.046651</td>\n",
       "      <td>0.025120</td>\n",
       "      <td>0.228469</td>\n",
       "      <td>0.086124</td>\n",
       "      <td>0.169856</td>\n",
       "      <td>0.061005</td>\n",
       "      <td>6.500000</td>\n",
       "      <td>4.331340</td>\n",
       "      <td>4.076555</td>\n",
       "    </tr>\n",
       "    <tr>\n",
       "      <th>2</th>\n",
       "      <td>1278</td>\n",
       "      <td>2007.470946</td>\n",
       "      <td>18.168793</td>\n",
       "      <td>32.281757</td>\n",
       "      <td>0.227027</td>\n",
       "      <td>0.247973</td>\n",
       "      <td>0.201351</td>\n",
       "      <td>0.122297</td>\n",
       "      <td>0.062162</td>\n",
       "      <td>0.190541</td>\n",
       "      <td>...</td>\n",
       "      <td>0.239189</td>\n",
       "      <td>0.024324</td>\n",
       "      <td>0.024324</td>\n",
       "      <td>0.870270</td>\n",
       "      <td>0.150000</td>\n",
       "      <td>0.484459</td>\n",
       "      <td>0.512162</td>\n",
       "      <td>3.392568</td>\n",
       "      <td>2.738514</td>\n",
       "      <td>4.209459</td>\n",
       "    </tr>\n",
       "    <tr>\n",
       "      <th>3</th>\n",
       "      <td>719</td>\n",
       "      <td>2007.853601</td>\n",
       "      <td>17.480129</td>\n",
       "      <td>41.310508</td>\n",
       "      <td>0.395514</td>\n",
       "      <td>0.397875</td>\n",
       "      <td>0.318772</td>\n",
       "      <td>0.206612</td>\n",
       "      <td>0.187721</td>\n",
       "      <td>0.260921</td>\n",
       "      <td>...</td>\n",
       "      <td>0.404959</td>\n",
       "      <td>1.501771</td>\n",
       "      <td>1.165289</td>\n",
       "      <td>0.219599</td>\n",
       "      <td>0.142857</td>\n",
       "      <td>0.109799</td>\n",
       "      <td>0.074380</td>\n",
       "      <td>6.894923</td>\n",
       "      <td>5.854782</td>\n",
       "      <td>7.789847</td>\n",
       "    </tr>\n",
       "    <tr>\n",
       "      <th>4</th>\n",
       "      <td>2055</td>\n",
       "      <td>2007.665968</td>\n",
       "      <td>17.761701</td>\n",
       "      <td>34.140821</td>\n",
       "      <td>1.391869</td>\n",
       "      <td>1.325650</td>\n",
       "      <td>0.606454</td>\n",
       "      <td>0.888935</td>\n",
       "      <td>0.147108</td>\n",
       "      <td>0.152137</td>\n",
       "      <td>...</td>\n",
       "      <td>0.135792</td>\n",
       "      <td>0.031433</td>\n",
       "      <td>0.014669</td>\n",
       "      <td>0.131601</td>\n",
       "      <td>0.060352</td>\n",
       "      <td>0.049455</td>\n",
       "      <td>0.026823</td>\n",
       "      <td>1.894803</td>\n",
       "      <td>2.922464</td>\n",
       "      <td>3.476111</td>\n",
       "    </tr>\n",
       "    <tr>\n",
       "      <th>5</th>\n",
       "      <td>14803</td>\n",
       "      <td>2007.423305</td>\n",
       "      <td>18.171650</td>\n",
       "      <td>27.103598</td>\n",
       "      <td>0.101232</td>\n",
       "      <td>0.094960</td>\n",
       "      <td>0.148217</td>\n",
       "      <td>0.061235</td>\n",
       "      <td>0.039558</td>\n",
       "      <td>0.082691</td>\n",
       "      <td>...</td>\n",
       "      <td>0.054247</td>\n",
       "      <td>0.014800</td>\n",
       "      <td>0.009518</td>\n",
       "      <td>0.099692</td>\n",
       "      <td>0.000000</td>\n",
       "      <td>0.041923</td>\n",
       "      <td>0.015625</td>\n",
       "      <td>4.959892</td>\n",
       "      <td>6.760288</td>\n",
       "      <td>0.483990</td>\n",
       "    </tr>\n",
       "    <tr>\n",
       "      <th>6</th>\n",
       "      <td>582</td>\n",
       "      <td>2007.770000</td>\n",
       "      <td>17.566333</td>\n",
       "      <td>36.982857</td>\n",
       "      <td>0.618571</td>\n",
       "      <td>0.368571</td>\n",
       "      <td>0.308571</td>\n",
       "      <td>0.495714</td>\n",
       "      <td>3.368571</td>\n",
       "      <td>0.201429</td>\n",
       "      <td>...</td>\n",
       "      <td>0.160000</td>\n",
       "      <td>0.054286</td>\n",
       "      <td>0.042857</td>\n",
       "      <td>0.130000</td>\n",
       "      <td>0.081429</td>\n",
       "      <td>0.057143</td>\n",
       "      <td>0.030000</td>\n",
       "      <td>3.091429</td>\n",
       "      <td>3.645714</td>\n",
       "      <td>3.111429</td>\n",
       "    </tr>\n",
       "    <tr>\n",
       "      <th>7</th>\n",
       "      <td>385</td>\n",
       "      <td>2007.626932</td>\n",
       "      <td>17.858722</td>\n",
       "      <td>29.379691</td>\n",
       "      <td>0.856512</td>\n",
       "      <td>0.772627</td>\n",
       "      <td>0.538631</td>\n",
       "      <td>0.392936</td>\n",
       "      <td>0.253863</td>\n",
       "      <td>0.381898</td>\n",
       "      <td>...</td>\n",
       "      <td>1.037528</td>\n",
       "      <td>0.236203</td>\n",
       "      <td>0.227373</td>\n",
       "      <td>1.167770</td>\n",
       "      <td>0.520971</td>\n",
       "      <td>0.759382</td>\n",
       "      <td>0.883002</td>\n",
       "      <td>3.920530</td>\n",
       "      <td>2.412804</td>\n",
       "      <td>1.788079</td>\n",
       "    </tr>\n",
       "    <tr>\n",
       "      <th>8</th>\n",
       "      <td>1541</td>\n",
       "      <td>2007.472084</td>\n",
       "      <td>18.213886</td>\n",
       "      <td>32.071863</td>\n",
       "      <td>0.169707</td>\n",
       "      <td>0.147595</td>\n",
       "      <td>0.168049</td>\n",
       "      <td>0.104478</td>\n",
       "      <td>0.069652</td>\n",
       "      <td>0.122720</td>\n",
       "      <td>...</td>\n",
       "      <td>0.123825</td>\n",
       "      <td>0.024323</td>\n",
       "      <td>0.019900</td>\n",
       "      <td>0.322278</td>\n",
       "      <td>1.328358</td>\n",
       "      <td>0.088447</td>\n",
       "      <td>0.044223</td>\n",
       "      <td>5.279160</td>\n",
       "      <td>5.686567</td>\n",
       "      <td>2.299613</td>\n",
       "    </tr>\n",
       "  </tbody>\n",
       "</table>\n",
       "<p>9 rows × 43 columns</p>\n",
       "</div>"
      ],
      "text/plain": [
       "          count  (gradyear, mean)  (age, mean)  (friends, mean)  \\\n",
       "MBKmeans                                                          \n",
       "0          2850       2007.600060    17.424080        36.576819   \n",
       "1           701       2007.755981    17.393241        36.038278   \n",
       "2          1278       2007.470946    18.168793        32.281757   \n",
       "3           719       2007.853601    17.480129        41.310508   \n",
       "4          2055       2007.665968    17.761701        34.140821   \n",
       "5         14803       2007.423305    18.171650        27.103598   \n",
       "6           582       2007.770000    17.566333        36.982857   \n",
       "7           385       2007.626932    17.858722        29.379691   \n",
       "8          1541       2007.472084    18.213886        32.071863   \n",
       "\n",
       "          (basketball, mean)  (football, mean)  (soccer, mean)  \\\n",
       "MBKmeans                                                         \n",
       "0                   0.249925          0.271959        0.300332   \n",
       "1                   0.277512          0.239234        0.257177   \n",
       "2                   0.227027          0.247973        0.201351   \n",
       "3                   0.395514          0.397875        0.318772   \n",
       "4                   1.391869          1.325650        0.606454   \n",
       "5                   0.101232          0.094960        0.148217   \n",
       "6                   0.618571          0.368571        0.308571   \n",
       "7                   0.856512          0.772627        0.538631   \n",
       "8                   0.169707          0.147595        0.168049   \n",
       "\n",
       "          (softball, mean)  (volleyball, mean)  (swimming, mean)  \\\n",
       "MBKmeans                                                           \n",
       "0                 0.122849            0.083912          0.306671   \n",
       "1                 0.149522            0.114833          0.132775   \n",
       "2                 0.122297            0.062162          0.190541   \n",
       "3                 0.206612            0.187721          0.260921   \n",
       "4                 0.888935            0.147108          0.152137   \n",
       "5                 0.061235            0.039558          0.082691   \n",
       "6                 0.495714            3.368571          0.201429   \n",
       "7                 0.392936            0.253863          0.381898   \n",
       "8                 0.104478            0.069652          0.122720   \n",
       "\n",
       "                 ...          (clothes, mean)  (hollister, mean)  \\\n",
       "MBKmeans         ...                                               \n",
       "0                ...                 0.434651           0.065198   \n",
       "1                ...                 0.241627           0.046651   \n",
       "2                ...                 0.239189           0.024324   \n",
       "3                ...                 0.404959           1.501771   \n",
       "4                ...                 0.135792           0.031433   \n",
       "5                ...                 0.054247           0.014800   \n",
       "6                ...                 0.160000           0.054286   \n",
       "7                ...                 1.037528           0.236203   \n",
       "8                ...                 0.123825           0.024323   \n",
       "\n",
       "          (abercrombie, mean)  (die, mean)  (death, mean)  (drunk, mean)  \\\n",
       "MBKmeans                                                                   \n",
       "0                    0.034410     0.159674       0.051917       0.079384   \n",
       "1                    0.025120     0.228469       0.086124       0.169856   \n",
       "2                    0.024324     0.870270       0.150000       0.484459   \n",
       "3                    1.165289     0.219599       0.142857       0.109799   \n",
       "4                    0.014669     0.131601       0.060352       0.049455   \n",
       "5                    0.009518     0.099692       0.000000       0.041923   \n",
       "6                    0.042857     0.130000       0.081429       0.057143   \n",
       "7                    0.227373     1.167770       0.520971       0.759382   \n",
       "8                    0.019900     0.322278       1.328358       0.088447   \n",
       "\n",
       "          (drugs, mean)  (Kmeans, mean)  (Kmeans++, mean)  (MBKmeans++, mean)  \n",
       "MBKmeans                                                                       \n",
       "0              0.027769        7.384546          3.965288            4.661938  \n",
       "1              0.061005        6.500000          4.331340            4.076555  \n",
       "2              0.512162        3.392568          2.738514            4.209459  \n",
       "3              0.074380        6.894923          5.854782            7.789847  \n",
       "4              0.026823        1.894803          2.922464            3.476111  \n",
       "5              0.015625        4.959892          6.760288            0.483990  \n",
       "6              0.030000        3.091429          3.645714            3.111429  \n",
       "7              0.883002        3.920530          2.412804            1.788079  \n",
       "8              0.044223        5.279160          5.686567            2.299613  \n",
       "\n",
       "[9 rows x 43 columns]"
      ]
     },
     "execution_count": 124,
     "metadata": {},
     "output_type": "execute_result"
    }
   ],
   "source": [
    "df_sns.loc [:, 'MBKmeans'] = model_mb.labels\n",
    "df_sns.groupby('MBKmeans') ['age'].aggregate (['count']).join (df_sns.groupby('MBKmeans').aggregate\n",
    "(['mean']))"
   ]
  },
  {
   "cell_type": "code",
   "execution_count": 125,
   "metadata": {},
   "outputs": [
    {
     "data": {
      "text/plain": [
       "MiniBatchKMeans(batch_size=1000, init='++', k=9, max_iter=1000,\n",
       "        metric='euclidean', random_state=None)"
      ]
     },
     "execution_count": 125,
     "metadata": {},
     "output_type": "execute_result"
    }
   ],
   "source": [
    "## KMeans++ с MiniBatchKMeans\n",
    "model_mbpp = MiniBatchKMeans(9, init='++',batch_size=1000)\n",
    "model_mbpp.fit(df,y=None)"
   ]
  },
  {
   "cell_type": "code",
   "execution_count": 126,
   "metadata": {},
   "outputs": [
    {
     "data": {
      "text/html": [
       "<div>\n",
       "<style>\n",
       "    .dataframe thead tr:only-child th {\n",
       "        text-align: right;\n",
       "    }\n",
       "\n",
       "    .dataframe thead th {\n",
       "        text-align: left;\n",
       "    }\n",
       "\n",
       "    .dataframe tbody tr th {\n",
       "        vertical-align: top;\n",
       "    }\n",
       "</style>\n",
       "<table border=\"1\" class=\"dataframe\">\n",
       "  <thead>\n",
       "    <tr style=\"text-align: right;\">\n",
       "      <th></th>\n",
       "      <th>count</th>\n",
       "      <th>(gradyear, mean)</th>\n",
       "      <th>(age, mean)</th>\n",
       "      <th>(friends, mean)</th>\n",
       "      <th>(basketball, mean)</th>\n",
       "      <th>(football, mean)</th>\n",
       "      <th>(soccer, mean)</th>\n",
       "      <th>(softball, mean)</th>\n",
       "      <th>(volleyball, mean)</th>\n",
       "      <th>(swimming, mean)</th>\n",
       "      <th>...</th>\n",
       "      <th>(clothes, mean)</th>\n",
       "      <th>(hollister, mean)</th>\n",
       "      <th>(abercrombie, mean)</th>\n",
       "      <th>(die, mean)</th>\n",
       "      <th>(death, mean)</th>\n",
       "      <th>(drunk, mean)</th>\n",
       "      <th>(drugs, mean)</th>\n",
       "      <th>(Kmeans, mean)</th>\n",
       "      <th>(Kmeans++, mean)</th>\n",
       "      <th>(MBKmeans, mean)</th>\n",
       "    </tr>\n",
       "    <tr>\n",
       "      <th>MBKmeans++</th>\n",
       "      <th></th>\n",
       "      <th></th>\n",
       "      <th></th>\n",
       "      <th></th>\n",
       "      <th></th>\n",
       "      <th></th>\n",
       "      <th></th>\n",
       "      <th></th>\n",
       "      <th></th>\n",
       "      <th></th>\n",
       "      <th></th>\n",
       "      <th></th>\n",
       "      <th></th>\n",
       "      <th></th>\n",
       "      <th></th>\n",
       "      <th></th>\n",
       "      <th></th>\n",
       "      <th></th>\n",
       "      <th></th>\n",
       "      <th></th>\n",
       "      <th></th>\n",
       "    </tr>\n",
       "  </thead>\n",
       "  <tbody>\n",
       "    <tr>\n",
       "      <th>0</th>\n",
       "      <td>1634</td>\n",
       "      <td>2007.435680</td>\n",
       "      <td>18.232517</td>\n",
       "      <td>31.480148</td>\n",
       "      <td>0.179460</td>\n",
       "      <td>0.238221</td>\n",
       "      <td>0.195871</td>\n",
       "      <td>0.096347</td>\n",
       "      <td>0.078878</td>\n",
       "      <td>0.179989</td>\n",
       "      <td>...</td>\n",
       "      <td>0.135521</td>\n",
       "      <td>0.011117</td>\n",
       "      <td>0.015352</td>\n",
       "      <td>0.254632</td>\n",
       "      <td>0.280042</td>\n",
       "      <td>0.060349</td>\n",
       "      <td>0.040762</td>\n",
       "      <td>3.920064</td>\n",
       "      <td>3.623081</td>\n",
       "      <td>4.203812</td>\n",
       "    </tr>\n",
       "    <tr>\n",
       "      <th>1</th>\n",
       "      <td>462</td>\n",
       "      <td>2007.798923</td>\n",
       "      <td>17.176247</td>\n",
       "      <td>35.962298</td>\n",
       "      <td>0.394973</td>\n",
       "      <td>0.380610</td>\n",
       "      <td>0.342908</td>\n",
       "      <td>0.236984</td>\n",
       "      <td>0.206463</td>\n",
       "      <td>0.222621</td>\n",
       "      <td>...</td>\n",
       "      <td>0.314183</td>\n",
       "      <td>0.087971</td>\n",
       "      <td>0.070018</td>\n",
       "      <td>0.201077</td>\n",
       "      <td>0.122083</td>\n",
       "      <td>0.120287</td>\n",
       "      <td>0.055655</td>\n",
       "      <td>6.689408</td>\n",
       "      <td>4.201077</td>\n",
       "      <td>2.538600</td>\n",
       "    </tr>\n",
       "    <tr>\n",
       "      <th>2</th>\n",
       "      <td>586</td>\n",
       "      <td>2007.670073</td>\n",
       "      <td>17.484925</td>\n",
       "      <td>33.750365</td>\n",
       "      <td>0.315328</td>\n",
       "      <td>0.321168</td>\n",
       "      <td>0.176642</td>\n",
       "      <td>0.135766</td>\n",
       "      <td>0.118248</td>\n",
       "      <td>0.150365</td>\n",
       "      <td>...</td>\n",
       "      <td>0.256934</td>\n",
       "      <td>0.051095</td>\n",
       "      <td>0.058394</td>\n",
       "      <td>0.258394</td>\n",
       "      <td>0.148905</td>\n",
       "      <td>0.109489</td>\n",
       "      <td>0.045255</td>\n",
       "      <td>6.947445</td>\n",
       "      <td>4.217518</td>\n",
       "      <td>2.173723</td>\n",
       "    </tr>\n",
       "    <tr>\n",
       "      <th>3</th>\n",
       "      <td>480</td>\n",
       "      <td>2007.222426</td>\n",
       "      <td>17.890156</td>\n",
       "      <td>34.977941</td>\n",
       "      <td>0.375000</td>\n",
       "      <td>0.380515</td>\n",
       "      <td>0.253676</td>\n",
       "      <td>0.238971</td>\n",
       "      <td>0.204044</td>\n",
       "      <td>0.154412</td>\n",
       "      <td>...</td>\n",
       "      <td>0.306985</td>\n",
       "      <td>0.082721</td>\n",
       "      <td>0.053309</td>\n",
       "      <td>0.222426</td>\n",
       "      <td>0.126838</td>\n",
       "      <td>0.090074</td>\n",
       "      <td>0.056985</td>\n",
       "      <td>6.915441</td>\n",
       "      <td>3.851103</td>\n",
       "      <td>1.446691</td>\n",
       "    </tr>\n",
       "    <tr>\n",
       "      <th>4</th>\n",
       "      <td>701</td>\n",
       "      <td>2007.853189</td>\n",
       "      <td>17.524078</td>\n",
       "      <td>41.101083</td>\n",
       "      <td>0.394705</td>\n",
       "      <td>0.398315</td>\n",
       "      <td>0.311673</td>\n",
       "      <td>0.216606</td>\n",
       "      <td>0.274368</td>\n",
       "      <td>0.253911</td>\n",
       "      <td>...</td>\n",
       "      <td>0.421179</td>\n",
       "      <td>1.512635</td>\n",
       "      <td>1.179302</td>\n",
       "      <td>0.216606</td>\n",
       "      <td>0.161252</td>\n",
       "      <td>0.111913</td>\n",
       "      <td>0.080626</td>\n",
       "      <td>6.844765</td>\n",
       "      <td>5.872443</td>\n",
       "      <td>3.104693</td>\n",
       "    </tr>\n",
       "    <tr>\n",
       "      <th>5</th>\n",
       "      <td>3682</td>\n",
       "      <td>2007.723977</td>\n",
       "      <td>17.313369</td>\n",
       "      <td>37.422690</td>\n",
       "      <td>0.825497</td>\n",
       "      <td>0.685614</td>\n",
       "      <td>0.585731</td>\n",
       "      <td>0.557895</td>\n",
       "      <td>0.513918</td>\n",
       "      <td>0.304327</td>\n",
       "      <td>...</td>\n",
       "      <td>0.337778</td>\n",
       "      <td>0.064094</td>\n",
       "      <td>0.028304</td>\n",
       "      <td>0.164211</td>\n",
       "      <td>0.131228</td>\n",
       "      <td>0.078363</td>\n",
       "      <td>0.033450</td>\n",
       "      <td>5.004678</td>\n",
       "      <td>3.306199</td>\n",
       "      <td>2.587135</td>\n",
       "    </tr>\n",
       "    <tr>\n",
       "      <th>6</th>\n",
       "      <td>472</td>\n",
       "      <td>2007.338624</td>\n",
       "      <td>18.895013</td>\n",
       "      <td>36.107584</td>\n",
       "      <td>0.338624</td>\n",
       "      <td>0.287478</td>\n",
       "      <td>0.243386</td>\n",
       "      <td>0.181658</td>\n",
       "      <td>0.125220</td>\n",
       "      <td>0.176367</td>\n",
       "      <td>...</td>\n",
       "      <td>0.178131</td>\n",
       "      <td>0.029982</td>\n",
       "      <td>0.017637</td>\n",
       "      <td>0.345679</td>\n",
       "      <td>0.252205</td>\n",
       "      <td>0.093474</td>\n",
       "      <td>0.070547</td>\n",
       "      <td>1.904762</td>\n",
       "      <td>6.828924</td>\n",
       "      <td>2.548501</td>\n",
       "    </tr>\n",
       "    <tr>\n",
       "      <th>7</th>\n",
       "      <td>810</td>\n",
       "      <td>2007.585547</td>\n",
       "      <td>17.641398</td>\n",
       "      <td>29.946865</td>\n",
       "      <td>0.533475</td>\n",
       "      <td>0.489904</td>\n",
       "      <td>0.330499</td>\n",
       "      <td>0.292242</td>\n",
       "      <td>0.209352</td>\n",
       "      <td>0.270988</td>\n",
       "      <td>...</td>\n",
       "      <td>0.679065</td>\n",
       "      <td>0.113709</td>\n",
       "      <td>0.113709</td>\n",
       "      <td>1.268863</td>\n",
       "      <td>0.490967</td>\n",
       "      <td>0.892667</td>\n",
       "      <td>1.085016</td>\n",
       "      <td>4.104145</td>\n",
       "      <td>1.063762</td>\n",
       "      <td>4.414453</td>\n",
       "    </tr>\n",
       "    <tr>\n",
       "      <th>8</th>\n",
       "      <td>16087</td>\n",
       "      <td>2007.436558</td>\n",
       "      <td>18.182401</td>\n",
       "      <td>27.444067</td>\n",
       "      <td>0.126325</td>\n",
       "      <td>0.131602</td>\n",
       "      <td>0.134493</td>\n",
       "      <td>0.068794</td>\n",
       "      <td>0.058089</td>\n",
       "      <td>0.076810</td>\n",
       "      <td>...</td>\n",
       "      <td>0.058191</td>\n",
       "      <td>0.014763</td>\n",
       "      <td>0.009132</td>\n",
       "      <td>0.119730</td>\n",
       "      <td>0.068946</td>\n",
       "      <td>0.051393</td>\n",
       "      <td>0.018873</td>\n",
       "      <td>4.933540</td>\n",
       "      <td>6.671148</td>\n",
       "      <td>4.958348</td>\n",
       "    </tr>\n",
       "  </tbody>\n",
       "</table>\n",
       "<p>9 rows × 43 columns</p>\n",
       "</div>"
      ],
      "text/plain": [
       "            count  (gradyear, mean)  (age, mean)  (friends, mean)  \\\n",
       "MBKmeans++                                                          \n",
       "0            1634       2007.435680    18.232517        31.480148   \n",
       "1             462       2007.798923    17.176247        35.962298   \n",
       "2             586       2007.670073    17.484925        33.750365   \n",
       "3             480       2007.222426    17.890156        34.977941   \n",
       "4             701       2007.853189    17.524078        41.101083   \n",
       "5            3682       2007.723977    17.313369        37.422690   \n",
       "6             472       2007.338624    18.895013        36.107584   \n",
       "7             810       2007.585547    17.641398        29.946865   \n",
       "8           16087       2007.436558    18.182401        27.444067   \n",
       "\n",
       "            (basketball, mean)  (football, mean)  (soccer, mean)  \\\n",
       "MBKmeans++                                                         \n",
       "0                     0.179460          0.238221        0.195871   \n",
       "1                     0.394973          0.380610        0.342908   \n",
       "2                     0.315328          0.321168        0.176642   \n",
       "3                     0.375000          0.380515        0.253676   \n",
       "4                     0.394705          0.398315        0.311673   \n",
       "5                     0.825497          0.685614        0.585731   \n",
       "6                     0.338624          0.287478        0.243386   \n",
       "7                     0.533475          0.489904        0.330499   \n",
       "8                     0.126325          0.131602        0.134493   \n",
       "\n",
       "            (softball, mean)  (volleyball, mean)  (swimming, mean)  \\\n",
       "MBKmeans++                                                           \n",
       "0                   0.096347            0.078878          0.179989   \n",
       "1                   0.236984            0.206463          0.222621   \n",
       "2                   0.135766            0.118248          0.150365   \n",
       "3                   0.238971            0.204044          0.154412   \n",
       "4                   0.216606            0.274368          0.253911   \n",
       "5                   0.557895            0.513918          0.304327   \n",
       "6                   0.181658            0.125220          0.176367   \n",
       "7                   0.292242            0.209352          0.270988   \n",
       "8                   0.068794            0.058089          0.076810   \n",
       "\n",
       "                  ...         (clothes, mean)  (hollister, mean)  \\\n",
       "MBKmeans++        ...                                              \n",
       "0                 ...                0.135521           0.011117   \n",
       "1                 ...                0.314183           0.087971   \n",
       "2                 ...                0.256934           0.051095   \n",
       "3                 ...                0.306985           0.082721   \n",
       "4                 ...                0.421179           1.512635   \n",
       "5                 ...                0.337778           0.064094   \n",
       "6                 ...                0.178131           0.029982   \n",
       "7                 ...                0.679065           0.113709   \n",
       "8                 ...                0.058191           0.014763   \n",
       "\n",
       "            (abercrombie, mean)  (die, mean)  (death, mean)  (drunk, mean)  \\\n",
       "MBKmeans++                                                                   \n",
       "0                      0.015352     0.254632       0.280042       0.060349   \n",
       "1                      0.070018     0.201077       0.122083       0.120287   \n",
       "2                      0.058394     0.258394       0.148905       0.109489   \n",
       "3                      0.053309     0.222426       0.126838       0.090074   \n",
       "4                      1.179302     0.216606       0.161252       0.111913   \n",
       "5                      0.028304     0.164211       0.131228       0.078363   \n",
       "6                      0.017637     0.345679       0.252205       0.093474   \n",
       "7                      0.113709     1.268863       0.490967       0.892667   \n",
       "8                      0.009132     0.119730       0.068946       0.051393   \n",
       "\n",
       "            (drugs, mean)  (Kmeans, mean)  (Kmeans++, mean)  (MBKmeans, mean)  \n",
       "MBKmeans++                                                                     \n",
       "0                0.040762        3.920064          3.623081          4.203812  \n",
       "1                0.055655        6.689408          4.201077          2.538600  \n",
       "2                0.045255        6.947445          4.217518          2.173723  \n",
       "3                0.056985        6.915441          3.851103          1.446691  \n",
       "4                0.080626        6.844765          5.872443          3.104693  \n",
       "5                0.033450        5.004678          3.306199          2.587135  \n",
       "6                0.070547        1.904762          6.828924          2.548501  \n",
       "7                1.085016        4.104145          1.063762          4.414453  \n",
       "8                0.018873        4.933540          6.671148          4.958348  \n",
       "\n",
       "[9 rows x 43 columns]"
      ]
     },
     "execution_count": 126,
     "metadata": {},
     "output_type": "execute_result"
    }
   ],
   "source": [
    "df_sns.loc [:, 'MBKmeans++'] = model_mbpp.labels\n",
    "df_sns.groupby('MBKmeans++') ['age'].aggregate (['count']).join (df_sns.groupby('MBKmeans++').aggregate\n",
    "(['mean']))"
   ]
  },
  {
   "cell_type": "markdown",
   "metadata": {},
   "source": [
    "Посмотрим на степень схожести кластеров"
   ]
  },
  {
   "cell_type": "code",
   "execution_count": 127,
   "metadata": {},
   "outputs": [
    {
     "name": "stdout",
     "output_type": "stream",
     "text": [
      "0.83796564247\n",
      "0.575103219343\n",
      "0.686657434861\n",
      "0.693644909321\n"
     ]
    }
   ],
   "source": [
    "import sklearn.metrics\n",
    "print sklearn.metrics.cluster.adjusted_rand_score(model_k.labels, model_kpp.labels)\n",
    "print sklearn.metrics.cluster.adjusted_rand_score(model_mb.labels, model_mbpp.labels)\n",
    "print sklearn.metrics.cluster.adjusted_rand_score(model_k.labels, model_mb.labels)\n",
    "print sklearn.metrics.cluster.adjusted_rand_score(model_kpp.labels, model_mbpp.labels)"
   ]
  },
  {
   "cell_type": "markdown",
   "metadata": {},
   "source": [
    "Проинтерпретируем кластеры. Для этого возьмем результаты k-means."
   ]
  },
  {
   "cell_type": "code",
   "execution_count": 440,
   "metadata": {},
   "outputs": [
    {
     "name": "stdout",
     "output_type": "stream",
     "text": [
      "Cluster 0\n",
      "Students = 468, Age = 17.9289358974, friends=34.9981273408\n"
     ]
    },
    {
     "data": {
      "image/png": "[encoded data removed]",
      "text/plain": [
       "<matplotlib.figure.Figure at 0x7f23c1bd6d10>"
      ]
     },
     "metadata": {},
     "output_type": "display_data"
    },
    {
     "name": "stdout",
     "output_type": "stream",
     "text": [
      "Cluster 1\n",
      "Students = 708, Age = 17.5014929379, friends=40.9087635054\n"
     ]
    },
    {
     "data": {
      "image/png": "[encoded data removed]",
      "text/plain": [
       "<matplotlib.figure.Figure at 0x7f23c17e83d0>"
      ]
     },
     "metadata": {},
     "output_type": "display_data"
    },
    {
     "name": "stdout",
     "output_type": "stream",
     "text": [
      "Cluster 2\n",
      "Students = 359, Age = 19.142448468, friends=35.1207289294\n"
     ]
    },
    {
     "data": {
      "image/png": "[encoded data removed]",
      "text/plain": [
       "<matplotlib.figure.Figure at 0x7f23c1339910>"
      ]
     },
     "metadata": {},
     "output_type": "display_data"
    },
    {
     "name": "stdout",
     "output_type": "stream",
     "text": [
      "Cluster 3\n",
      "Students = 1797, Age = 17.389902059, friends=35.3980906921\n"
     ]
    },
    {
     "data": {
      "image/png": "[encoded data removed]",
      "text/plain": [
       "<matplotlib.figure.Figure at 0x7f23c0e26ad0>"
      ]
     },
     "metadata": {},
     "output_type": "display_data"
    },
    {
     "name": "stdout",
     "output_type": "stream",
     "text": [
      "Cluster 4\n",
      "Students = 3817, Age = 17.6423400576, friends=36.0461676378\n"
     ]
    },
    {
     "data": {
      "image/png": "[encoded data removed]",
      "text/plain": [
       "<matplotlib.figure.Figure at 0x7f23c1ea0610>"
      ]
     },
     "metadata": {},
     "output_type": "display_data"
    },
    {
     "name": "stdout",
     "output_type": "stream",
     "text": [
      "Cluster 5\n",
      "Students = 15406, Age = 18.1971988186, friends=27.0960050864\n"
     ]
    },
    {
     "data": {
      "image/png": "[encoded data removed]",
      "text/plain": [
       "<matplotlib.figure.Figure at 0x7f23c1286310>"
      ]
     },
     "metadata": {},
     "output_type": "display_data"
    },
    {
     "name": "stdout",
     "output_type": "stream",
     "text": [
      "Cluster 6\n",
      "Students = 749, Age = 17.6423271028, friends=30.1397228637\n"
     ]
    },
    {
     "data": {
      "image/png": "[encoded data removed]",
      "text/plain": [
       "<matplotlib.figure.Figure at 0x7f23c111a390>"
      ]
     },
     "metadata": {},
     "output_type": "display_data"
    },
    {
     "name": "stdout",
     "output_type": "stream",
     "text": [
      "Cluster 7\n",
      "Students = 959, Age = 17.4633910323, friends=34.8602430556\n"
     ]
    },
    {
     "data": {
      "image/png": "[encoded data removed]",
      "text/plain": [
       "<matplotlib.figure.Figure at 0x7f23c09f90d0>"
      ]
     },
     "metadata": {},
     "output_type": "display_data"
    },
    {
     "name": "stdout",
     "output_type": "stream",
     "text": [
      "Cluster 8\n",
      "Students = 651, Age = 18.0481029186, friends=32.9302013423\n"
     ]
    },
    {
     "data": {
      "image/png": "[encoded data removed]",
      "text/plain": [
       "<matplotlib.figure.Figure at 0x7f23c10f7290>"
      ]
     },
     "metadata": {},
     "output_type": "display_data"
    }
   ],
   "source": [
    "df_sns.loc [:, 'Kmeans'] = model_k.labels\n",
    "interpretation = df_sns.groupby('Kmeans++') ['age'].aggregate (['count']).join(df_sns.groupby('Kmeans++').\n",
    "                                                                               aggregate (['mean']))\n",
    "for i in xrange(0, 9):\n",
    "    print \"Cluster {}\".format(i)\n",
    "    print \"Students = {0}, Age = {1}, friends={2}\".format (interpretation.iloc[i,0],\n",
    "                                                                              interpretation.iloc[i,2],\n",
    "                                                                              interpretation.iloc[i,3])\n",
    "    interpretation.iloc[i, 4:40].plot.bar()\n",
    "    plt.show()"
   ]
  },
  {
   "cell_type": "markdown",
   "metadata": {
    "collapsed": true
   },
   "source": [
    "## Вывод\n",
    "Алгоритмы с \"++\" инициализацией работают медленнее при малом числе точек за счет долгого выбора началных(около 100 точек), но при увеличении числа точек могут сработать быстрее, если нам повезло с выбором начальных. Точность MiniBatchKmeans хуже, чем у KMeans, по скорости MiniBatch может оказаться быстрее при удачном выборе батчей и количестве итараций (вообще зависит от задачи). У MiniBatchKMeans есть довольно существеный недостаток: из-за того, что точки выбираются в нем случайно, может потребоваться много итераций, чтобы для всех точек найти ближайщий кластер. Недостатком всех алгоритмов является случайная инициализация. На примере (график с явными тремя кластерами) в некоторых случаях не везет, и 2 точки попадают изначально в один кластер, в результате получается совершенно не тот результат, который хотелось бы увидеть. \n",
    "\n",
    "В итоге: если важна точность, то KMeans++, если скорость - MiniBatchKMeans++."
   ]
  },
  {
   "cell_type": "code",
   "execution_count": null,
   "metadata": {
    "collapsed": true
   },
   "outputs": [],
   "source": []
  }
 ],
 "metadata": {
  "anaconda-cloud": {},
  "kernelspec": {
   "display_name": "Python 2",
   "language": "python",
   "name": "python2"
  },
  "language_info": {
   "codemirror_mode": {
    "name": "ipython",
    "version": 2
   },
   "file_extension": ".py",
   "mimetype": "text/x-python",
   "name": "python",
   "nbconvert_exporter": "python",
   "pygments_lexer": "ipython2",
   "version": "2.7.13"
  },
  "nav_menu": {},
  "toc": {
   "navigate_menu": true,
   "number_sections": false,
   "sideBar": true,
   "threshold": 6,
   "toc_cell": false,
   "toc_section_display": "block",
   "toc_window_display": true
  }
 },
 "nbformat": 4,
 "nbformat_minor": 2
}
