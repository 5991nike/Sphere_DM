{
 "cells": [
  {
   "cell_type": "markdown",
   "metadata": {},
   "source": [
    "# Алгоритмы интеллектуальной обработки больших объемов данных\n",
    "## Домашнее задание №2 - Алгоритмы кластеризации\n"
   ]
  },
  {
   "cell_type": "markdown",
   "metadata": {},
   "source": [
    "###### <hr\\>\n",
    "**Общая информация**\n",
    "\n",
    "**Срок сдачи:** 23 октября 2017, 06:00 <br\\>\n",
    "**Штраф за опоздание:** -2 балла после 06:00 23 октября, -4 балла после 06:00 30 октября, -6 баллов после 06:00 6 ноября\n",
    "\n",
    "При отправлении ДЗ указывайте фамилию в названии файла\n",
    "Присылать ДЗ необходимо в виде ссылки на свой github репозиторий в slack @alkhamush Необходимо в slack создать таск в приватный чат:\n",
    "/todo Фамилия Имя ссылка на гитхаб @alkhamush\n",
    "Пример:\n",
    "/todo Ксения Стройкова https://github.com/stroykova/spheremailru/stroykova_hw1.ipynb @alkhamush\n",
    "\n",
    "Используйте данный Ipython Notebook при оформлении домашнего задания.\n",
    "<hr\\>"
   ]
  },
  {
   "cell_type": "markdown",
   "metadata": {},
   "source": [
    "###### Задание 1 (4 балла)\n",
    "Реализовать алгоритм кластеризации, который относится к вашему варианту. Проверить работоспособность алгоритма на \"Iris\". Сравните свой алгоритм кластеризации с алгоритмом из scikit-learn по времени выполнения, использую timeit. Ваша реализация не должна работать сильно дольше, а в идеале должна быть даже немного быстрее.\n",
    "\n",
    "###### Задание 2 (2 балла)\n",
    "Выбрать, имплементировать и использовать критерий качества\n",
    "\n",
    "###### Задание 3 (3балла)\n",
    "Применить алгоритм кластеризации к данным по странам.   \n",
    "Подход следующий: фиксируем год, для каждой страны берём индикаторы по зафиксированному году, кластеризуем по индикаторам.   \n",
    "Разбиение должно быть объяснимым, в противном случае, скорее всего нужно лучше настроить параметры кластеризации.   \n",
    "Данные нужно скачать тут https://data.worldbank.org/data-catalog/world-development-indicators.   \n",
    "Также необходимо показать, какие страны попали в общий кластер.\n",
    "изуализировать результат с помощью T-SNE. Внимание! На полном объеме данных данный алгоритм может работать существенное время.\n",
    "\n",
    "###### Задание 4 (1 балл)\n",
    "Опишите в выводе почему и какие страны попали в общий кластер."
   ]
  },
  {
   "cell_type": "markdown",
   "metadata": {},
   "source": [
    "Основная задача этого задания - реализация одного из алгоритмов кластеризации. Кроме того, мы научимся подбирать параметры алгоритма, визуализируем результат кластеризации и попытаемся проанализировать природу полученных кластеров."
   ]
  },
  {
   "cell_type": "code",
   "execution_count": 10,
   "metadata": {},
   "outputs": [
    {
     "name": "stdout",
     "output_type": "stream",
     "text": [
      "Populating the interactive namespace from numpy and matplotlib\n"
     ]
    }
   ],
   "source": [
    "import pandas as pd\n",
    "import pylab as pl\n",
    "import numpy as np\n",
    "import scipy.spatial as ss\n",
    "import sklearn.cluster as sc\n",
    "import sklearn.manifold as sm\n",
    "import sklearn.datasets as ds\n",
    "import sklearn.metrics as smt\n",
    "\n",
    "import matplotlib.pyplot as plt\n",
    "import mpl_toolkits.basemap as bm\n",
    "\n",
    "%matplotlib inline\n",
    "\n",
    "plt.style.use('ggplot')\n",
    "plt.rcParams['figure.figsize'] = (12,5)\n",
    "\n",
    "# Plotting config\n",
    "%pylab inline"
   ]
  },
  {
   "cell_type": "markdown",
   "metadata": {},
   "source": [
    "## Реализация алгоритма"
   ]
  },
  {
   "cell_type": "markdown",
   "metadata": {},
   "source": [
    "Алгоритм кластеризации, который необходимо реализовать, выбирается на основании Вашего порядкового номера в списке группы."
   ]
  },
  {
   "cell_type": "markdown",
   "metadata": {},
   "source": [
    "1. Авилова Екатерина\n",
    "2. Адаменко Павел\n",
    "3. Акиньщиков Алексей\n",
    "4. Афанасьева Анастасия\n",
    "5. Балес Александр\n",
    "6. Беляев Владимир\n",
    "7. Беспалова Анастасия\n",
    "8. Богомолов Эмиль\n",
    "9. Боднарюк Василий\n",
    "10. Бучкин Александр\n",
    "11. Валинуров Денис\n",
    "12. Волков Глеб\n",
    "13. Голенков Кирилл\n",
    "14. Горбушин Михаил\n",
    "15. Димов Илья\n",
    "16. Докшина Елизавета\n",
    "17. Дорожинский Владислав\n",
    "18. Жирнов Михаил\n",
    "19. Жолковский Евгений\n",
    "20. Зайдель Петр\n",
    "21. Зимнюков Максим\n",
    "22. Иванов Илья\n",
    "23. Кашипов Артем\n",
    "24. Комов Евгений\n",
    "25. Кошман Дима\n",
    "26. Кузнецова Екатерина\n",
    "27. Кулагин Алексей\n",
    "28. Лавреновъ Виталiй\n",
    "29. Лебедь Федор\n",
    "30. Лешков Михаил\n",
    "31. Лозинский Иван\n",
    "32. Лоскутов Антон\n",
    "33. Лютов Владимир\n",
    "34. Мажаров Иван\n",
    "35. Манкевич Павел\n",
    "36. Муравьев Никита\n",
    "37. Находнов Максим\n",
    "38. Оплачко Николай\n",
    "39. Павлов Евгений\n",
    "40. Петряйкин Федор\n",
    "41. Рахматуллин Фарид\n",
    "42. Секретарев Тихон\n",
    "43. Сенюшкин Дмитрий\n",
    "44. Серов Николай\n",
    "45. Смирнов Александр\n",
    "46. Соловьев Павел\n",
    "47. Сомов Иван\n",
    "48. Спиркин Роман\n",
    "49. Терёшина Мария\n",
    "50. Торбунова Екатерина\n",
    "51. Тюгаев Антон\n",
    "52. Фельдман Борис\n",
    "53. Филин Максим\n",
    "54. Фролов Михаил\n",
    "55. Хохлов Олег\n",
    "56. Черемнов Андрей\n",
    "57. Шевцов Антон\n",
    "58. Шурыгин Александр"
   ]
  },
  {
   "cell_type": "code",
   "execution_count": 11,
   "metadata": {
    "collapsed": true
   },
   "outputs": [],
   "source": [
    "N = 44 # put your index here"
   ]
  },
  {
   "cell_type": "code",
   "execution_count": 12,
   "metadata": {},
   "outputs": [
    {
     "name": "stdout",
     "output_type": "stream",
     "text": [
      "Реализуем алгоритм кластеризации 'DBSCAN. (параметры - epsilon, min_pts)'\n"
     ]
    }
   ],
   "source": [
    "algorithms = [\n",
    "    u\"Gaussian Mixture Model с использованием maximum a-posteriori для выбора кластера (параметр - k)\",\n",
    "    u\"Hierarchical clustering с поддержкой single-linkage, complete-linkage, average-linkage (параметры - k, linkage)\",\n",
    "    u\"DBSCAN. (параметры - epsilon, min_pts)\"\n",
    "]\n",
    "\n",
    "my_algorithm = algorithms[N % len(algorithms)]\n",
    "print u\"Реализуем алгоритм кластеризации '%s'\" % my_algorithm"
   ]
  },
  {
   "cell_type": "markdown",
   "metadata": {},
   "source": [
    "Алгоритм кластеризации должен удовлетворять следующему интерфейсу. Конструктор принимает набор параметров, необходимых для работы алгоритма кластеризации. Метод `fit` подсчитывает параметры модели и возвращает `self`. Метод `predict` возвращает вектор с индексами кластеров для поданных в него объектов `x`"
   ]
  },
  {
   "cell_type": "code",
   "execution_count": 66,
   "metadata": {
    "collapsed": true
   },
   "outputs": [],
   "source": [
    "## Задание 1\n",
    "from sklearn.base import BaseEstimator, ClusterMixin\n",
    "\n",
    "def neighbours(i,self): \n",
    "    array = self.dist_matrix[i]\n",
    "    mass = [j for j in xrange(self.len) if array[j] < self.eps]\n",
    "    return mass\n",
    "\n",
    "class Clustering(BaseEstimator, ClusterMixin):\n",
    "    \"\"\"\n",
    "    Implement clustering algorithm according \n",
    "    \"\"\"    \n",
    "    def __init__(self, eps = 0.7, min_pts = 2):\n",
    "        \"\"\"\n",
    "        Please add necessary algoritm parameters to class constructor.\n",
    "        \"\"\"\n",
    "        self.eps = eps\n",
    "        self.min_pts = min_pts\n",
    "        \n",
    "    def fit(self, x, y=None):\n",
    "        \"\"\"\n",
    "        Use data matrix x to compute model parameters\n",
    "        \"\"\"\n",
    "        self.len = x.shape[0]\n",
    "        self.labels = np.empty(self.len)\n",
    "        self.labels.fill(-2)\n",
    "        self.dist_matrix=smt.pairwise.euclidean_distances(x, x)\n",
    "        c = -1\n",
    "        iterator = 0\n",
    "        flag1 = True\n",
    "        mass_iter = range(self.len)\n",
    "        \n",
    "        while len(mass_iter):\n",
    "            i = mass_iter[0]\n",
    "            mass_iter.pop(0)\n",
    "            mass = neighbours(i,self)\n",
    "            \n",
    "            if len(mass) < self.min_pts:\n",
    "                self.labels[i] = -1\n",
    "                continue\n",
    "                \n",
    "            c = c + 1\n",
    "            self.labels[i] = c\n",
    "            flag = True\n",
    "            j = 0\n",
    "            \n",
    "            while flag:\n",
    "                try:\n",
    "                    ind = mass[j]\n",
    "                except:\n",
    "                    flag=False\n",
    "                    continue\n",
    "                    \n",
    "                j = j + 1\n",
    "                self.labels[ind] = c\n",
    "                mass1 = neighbours(ind,self)\n",
    "                \n",
    "                if len(mass1) >=s elf.min_pts:\n",
    "                    mass = mass + [item for item in mass1 if item not in mass]\n",
    "                    \n",
    "            mass_iter = [item for item in mass_iter if item not in mass] \n",
    "            \n",
    "        return self\n",
    "    \n",
    "    def predict(self, x):\n",
    "        \"\"\"\n",
    "        Using computed model parameters predict cluster\n",
    "        for all objects from x\n",
    "        \"\"\"\n",
    "        return self.labels\n",
    "    \n",
    "    def fit_predict(self, x, y=None):\n",
    "        self.fit(x, y)\n",
    "        return self.predict(x)"
   ]
  },
  {
   "cell_type": "code",
   "execution_count": 238,
   "metadata": {},
   "outputs": [
    {
     "name": "stdout",
     "output_type": "stream",
     "text": [
      "10 loops, best of 3: 10.9 ms per loop\n"
     ]
    }
   ],
   "source": [
    "%%timeit\n",
    "Clustering().fit_predict(x_iris)"
   ]
  },
  {
   "cell_type": "code",
   "execution_count": 15,
   "metadata": {},
   "outputs": [
    {
     "name": "stdout",
     "output_type": "stream",
     "text": [
      "Timer unit: 1e-06 s\n",
      "\n",
      "Total time: 0.053002 s\n",
      "File: <ipython-input-13-f43beb8037c5>\n",
      "Function: fit at line 20\n",
      "\n",
      "Line #      Hits         Time  Per Hit   % Time  Line Contents\n",
      "==============================================================\n",
      "    20                                               def fit(self, x, y=None):\n",
      "    21                                                   \"\"\"\n",
      "    22                                                   Use data matrix x to compute model parameters\n",
      "    23                                                   \"\"\"\n",
      "    24         1           10     10.0      0.0          self.len=x.shape[0]\n",
      "    25         1           14     14.0      0.0          self.labels=np.empty(self.len)\n",
      "    26         1           13     13.0      0.0          self.labels.fill(-2)\n",
      "    27         1        25046  25046.0     47.3          self.dist_matrix=smt.pairwise.euclidean_distances(x,x)\n",
      "    28         1            3      3.0      0.0          c = -1\n",
      "    29         1            2      2.0      0.0          iterator = 0\n",
      "    30         1            3      3.0      0.0          flag1 = True\n",
      "    31         1           11     11.0      0.0          mass_iter = range(self.len)\n",
      "    32         3           11      3.7      0.0          while len(mass_iter):\n",
      "    33         2            5      2.5      0.0              i = mass_iter[0]\n",
      "    34         2           15      7.5      0.0              mass_iter.pop(0)\n",
      "    35         2          294    147.0      0.6              mass=neighbours(i,self)\n",
      "    36         2            8      4.0      0.0              if len(mass)<self.min_pts:\n",
      "    37                                                           self.labels[i]=-1\n",
      "    38                                                           continue\n",
      "    39         2            4      2.0      0.0              c+=1\n",
      "    40         2            9      4.5      0.0              self.labels[i]=c\n",
      "    41         2            5      2.5      0.0              flag=True\n",
      "    42         2            3      1.5      0.0              j=0\n",
      "    43       104          215      2.1      0.4              while flag:\n",
      "    44       102          198      1.9      0.4                  try:\n",
      "    45       102          259      2.5      0.5                      ind = mass[j]\n",
      "    46         2            4      2.0      0.0                  except:\n",
      "    47         2            4      2.0      0.0                      flag=False\n",
      "    48         2            4      2.0      0.0                      continue\n",
      "    49       100          201      2.0      0.4                  j+=1\n",
      "    50       100          381      3.8      0.7                  self.labels[ind]=c\n",
      "    51       100        18514    185.1     34.9                  mass1=neighbours(ind,self)\n",
      "    52       100          400      4.0      0.8                  if len(mass1)>=self.min_pts:\n",
      "    53      2376         6875      2.9     13.0                      mass=mass+[item for item in mass1 if item not in mass]  \n",
      "    54       150          489      3.3      0.9              mass_iter=[item for item in mass_iter if item not in mass] \n",
      "    55         1            2      2.0      0.0          return self\n",
      "\n"
     ]
    }
   ],
   "source": [
    "from line_profiler import LineProfiler\n",
    "lp = LineProfiler()\n",
    "lp_wrapper = lp(Clustering().fit)\n",
    "lp_wrapper(x_iris)\n",
    "lp.print_stats()"
   ]
  },
  {
   "cell_type": "markdown",
   "metadata": {},
   "source": [
    "Сначала проверим реализованный алгоритм кластеризации на классическом наборе данных [Iris](http://www.wikiwand.com/en/Iris_flower_data_set). Загрузим данные (они включены в библиотеку sklearn) и посмотрим на то, как они выглядят в двух проекциях (для простоты используем 2 класса из 3)."
   ]
  },
  {
   "cell_type": "code",
   "execution_count": 16,
   "metadata": {},
   "outputs": [
    {
     "data": {
      "image/png": "[encoded data removed]",
      "text/plain": [
       "<matplotlib.figure.Figure at 0x7f93ee4adc50>"
      ]
     },
     "metadata": {},
     "output_type": "display_data"
    }
   ],
   "source": [
    "iris = ds.load_iris()\n",
    "x_iris = iris.data[:100]\n",
    "y_iris = iris.target[:100]\n",
    "\n",
    "pl.figure(figsize=(10, 5))\n",
    "\n",
    "pl.subplot(1, 2, 1)\n",
    "pl.scatter(x_iris[:, 0], x_iris[:, 1], c=y_iris, cmap=pl.cm.PuOr, lw=0, s=30)\n",
    "plt.xlabel('Sepal length')\n",
    "plt.ylabel('Sepal width')\n",
    "\n",
    "pl.subplot(1, 2, 2)\n",
    "pl.scatter(x_iris[:, 2], x_iris[:, 3], c=y_iris, cmap=pl.cm.PuOr, lw=0, s=30)\n",
    "plt.xlabel('Petal length')\n",
    "plt.ylabel('Petal width')\n",
    "pl.show()"
   ]
  },
  {
   "cell_type": "markdown",
   "metadata": {},
   "source": [
    "Видно, что классы разделяются, поэтому можно надеяться, что наш алгоритм \"найдет\" кластеры, соответствующие исходным классам. Результат работы реализованного алгоритма кластеризации предлагается сравнить с эталонной кластеризацией. Для этого предлагается изучить метрику ([adjusted rand score](http://scikit-learn.org/stable/modules/generated/sklearn.metrics.adjusted_rand_score.html)). В случае если значение этой метрики отличается от 1, предлагается поработать над улучшением реализации своего алгоритма."
   ]
  },
  {
   "cell_type": "markdown",
   "metadata": {},
   "source": [
    "Довольно странно давать это задание до выбора критерия качетва, ведь результат довольно сильно зависит от параметров."
   ]
  },
  {
   "cell_type": "code",
   "execution_count": 17,
   "metadata": {},
   "outputs": [
    {
     "name": "stdout",
     "output_type": "stream",
     "text": [
      "Adjusted Rand index for iris is: 1.00\n"
     ]
    }
   ],
   "source": [
    "pred_iris = Clustering(eps = 0.7, min_pts = 2).fit_predict(x_iris)\n",
    "print \"Adjusted Rand index for iris is: %.2f\" % smt.adjusted_rand_score(y_iris, pred_iris)"
   ]
  },
  {
   "cell_type": "markdown",
   "metadata": {},
   "source": [
    "Выбрать и реализовать критерий качества, на основании которого будут подбираться параметры модели. Варианты критериев:\n",
    "- Инерция (сумма квадратов расстояний от каждой из точек до ближайшего к этой точке центроида)\n",
    "- Средний диаметр (максимальное расстояние между точками в кластере) или радиус (расстояние от центроида до самой дальней от него точки в кластере)\n",
    "- Sihouette\n",
    "\n",
    "**Критерий качества необходимо выбрать таким образом, чтобы он подходил для реализованного алгоритма**"
   ]
  },
  {
   "cell_type": "code",
   "execution_count": 18,
   "metadata": {
    "collapsed": true
   },
   "outputs": [],
   "source": [
    "## Задание 2\n",
    "def quality(x, y):\n",
    "    \"\"\"\n",
    "    Implement quality criterion of your choice\n",
    "    \"\"\"\n",
    "    #реализуем Silhouette\n",
    "    \n",
    "    if x[x >= 0].shape[0] == 0: #все данные - шум\n",
    "        return 0\n",
    "    \n",
    "    count_clusters=np.unique(y)\n",
    "    \n",
    "    if len(count_clusters) == 1: #получился всего 1 кластер\n",
    "        return 0\n",
    "    \n",
    "    for i in count_clusters:\n",
    "        mass_i = x[y == i]\n",
    "        dist_a = np.mean(smt.pairwise.euclidean_distances(mass_i, mass_i), axis = 1)\n",
    "        \n",
    "        for j in count_clusters:\n",
    "            if j != i:\n",
    "                try:\n",
    "                    mass_j = np.stack(((mass_j,np.mean(smt.pairwise.euclidean_distances\n",
    "                                                         (mass_i, x[y == j]), axis = 1))), axis = 1)\n",
    "                except:\n",
    "                    mass_j = np.array(np.mean(smt.pairwise.euclidean_distances(mass_i, x[y == j]), axis = 1))\n",
    "        try:\n",
    "            dist_b = np.min(mass_j, axis = 1)\n",
    "        except:\n",
    "            dist_b = mass_j\n",
    "            \n",
    "        sil_i = (dist_b - dist_a) / np.maximum(dist_a, dist_b)\n",
    "        \n",
    "        try:\n",
    "            sil = np.concatenate((sil, sil_i))\n",
    "        except:\n",
    "            sil = np.array(sil_i)\n",
    "            \n",
    "    return np.mean(sil)"
   ]
  },
  {
   "cell_type": "markdown",
   "metadata": {},
   "source": [
    "Применим критерий для выбора параметров алгоритма. Предлагается изменить следующий код таким образом, чтобы кластеризация вызывалась с верным набором параметров. На графике можно будет увидеть зависимость критерия от параметров алгоритма. Необходимо выбрать оптимальные значения этих параметров."
   ]
  },
  {
   "cell_type": "code",
   "execution_count": 19,
   "metadata": {},
   "outputs": [
    {
     "data": {
      "image/png": "[encoded data removed]",
      "text/plain": [
       "<matplotlib.figure.Figure at 0x7f93ee4add90>"
      ]
     },
     "metadata": {},
     "output_type": "display_data"
    }
   ],
   "source": [
    "from mpl_toolkits.mplot3d import Axes3D\n",
    "from matplotlib import cm\n",
    "from matplotlib.ticker import LinearLocator, FormatStrFormatter\n",
    "\n",
    "fig = plt.figure()\n",
    "ax = fig.gca(projection='3d')\n",
    "\n",
    "X = range(2, 20)\n",
    "Y = range(2, 10)\n",
    "Z = np.empty([len(X),len(Y)])\n",
    "\n",
    "for i in X:\n",
    "    for j in Y:\n",
    "        Z[i - 2][j - 2] = quality(x_iris, Clustering(eps = 0.1 * i , min_pts = j).fit_predict(x_iris))\n",
    "        \n",
    "X, Y = np.meshgrid(Y, X)\n",
    "\n",
    "surf = ax.plot_surface(X, Y, Z, cmap=cm.coolwarm, linewidth=0, antialiased=False)\n",
    "\n",
    "ax.set_zlim(0, 1)\n",
    "ax.zaxis.set_major_locator(LinearLocator(10))\n",
    "ax.zaxis.set_major_formatter(FormatStrFormatter('%.02f'))\n",
    "\n",
    "fig.colorbar(surf, shrink=0.5, aspect=5)\n",
    "\n",
    "plt.show()"
   ]
  },
  {
   "cell_type": "markdown",
   "metadata": {},
   "source": [
    "Из такого графика особо ничего не увидишь, поэтому посчитаем оптимальные параметры, найдя максимум критерия качества."
   ]
  },
  {
   "cell_type": "code",
   "execution_count": 20,
   "metadata": {
    "collapsed": true
   },
   "outputs": [],
   "source": [
    "max_sil = 0\n",
    "for i in xrange(1, 20):\n",
    "    for j in xrange(2, 7):\n",
    "        y = Clustering(eps = 0.1 * i, min_pts = j).fit_predict(x_iris)\n",
    "        q = quality(x_iris, y)\n",
    "        \n",
    "        if q > max_sil:\n",
    "            max_sil = q\n",
    "            eps_max_sil = 0.1 * i\n",
    "            min_pts_max_sil = j\n",
    "            \n",
    "model_max = Clustering(eps = eps_max_sil, min_pts = min_pts_max_sil).fit_predict(x_iris)"
   ]
  },
  {
   "cell_type": "code",
   "execution_count": 21,
   "metadata": {},
   "outputs": [
    {
     "name": "stdout",
     "output_type": "stream",
     "text": [
      "Adjusted Rand index for iris is: 1.00\n"
     ]
    }
   ],
   "source": [
    "print \"Adjusted Rand index for iris is: %.2f\" % smt.adjusted_rand_score(y_iris, model_max)"
   ]
  },
  {
   "cell_type": "markdown",
   "metadata": {},
   "source": [
    "В результате модель вызвалась с нужными параметрами, т.к. результат совпадает с эталонной кластеризацией."
   ]
  },
  {
   "cell_type": "code",
   "execution_count": 22,
   "metadata": {
    "collapsed": true
   },
   "outputs": [],
   "source": [
    "## Задание 3\n",
    "df=pd.read_csv('WDIData.csv')"
   ]
  },
  {
   "cell_type": "code",
   "execution_count": 219,
   "metadata": {},
   "outputs": [
    {
     "data": {
      "text/html": [
       "<div>\n",
       "<style>\n",
       "    .dataframe thead tr:only-child th {\n",
       "        text-align: right;\n",
       "    }\n",
       "\n",
       "    .dataframe thead th {\n",
       "        text-align: left;\n",
       "    }\n",
       "\n",
       "    .dataframe tbody tr th {\n",
       "        vertical-align: top;\n",
       "    }\n",
       "</style>\n",
       "<table border=\"1\" class=\"dataframe\">\n",
       "  <thead>\n",
       "    <tr style=\"text-align: right;\">\n",
       "      <th></th>\n",
       "      <th>Country Name</th>\n",
       "      <th>Country Code</th>\n",
       "      <th>Indicator Name</th>\n",
       "      <th>Indicator Code</th>\n",
       "      <th>1960</th>\n",
       "      <th>1961</th>\n",
       "      <th>1962</th>\n",
       "      <th>1963</th>\n",
       "      <th>1964</th>\n",
       "      <th>1965</th>\n",
       "      <th>...</th>\n",
       "      <th>2008</th>\n",
       "      <th>2009</th>\n",
       "      <th>2010</th>\n",
       "      <th>2011</th>\n",
       "      <th>2012</th>\n",
       "      <th>2013</th>\n",
       "      <th>2014</th>\n",
       "      <th>2015</th>\n",
       "      <th>2016</th>\n",
       "      <th>Unnamed: 61</th>\n",
       "    </tr>\n",
       "  </thead>\n",
       "  <tbody>\n",
       "    <tr>\n",
       "      <th>0</th>\n",
       "      <td>Arab World</td>\n",
       "      <td>ARB</td>\n",
       "      <td>2005 PPP conversion factor, GDP (LCU per inter...</td>\n",
       "      <td>PA.NUS.PPP.05</td>\n",
       "      <td>NaN</td>\n",
       "      <td>NaN</td>\n",
       "      <td>NaN</td>\n",
       "      <td>NaN</td>\n",
       "      <td>NaN</td>\n",
       "      <td>NaN</td>\n",
       "      <td>...</td>\n",
       "      <td>NaN</td>\n",
       "      <td>0.000000</td>\n",
       "      <td>NaN</td>\n",
       "      <td>NaN</td>\n",
       "      <td>NaN</td>\n",
       "      <td>NaN</td>\n",
       "      <td>NaN</td>\n",
       "      <td>NaN</td>\n",
       "      <td>NaN</td>\n",
       "      <td>NaN</td>\n",
       "    </tr>\n",
       "    <tr>\n",
       "      <th>1</th>\n",
       "      <td>Arab World</td>\n",
       "      <td>ARB</td>\n",
       "      <td>2005 PPP conversion factor, private consumptio...</td>\n",
       "      <td>PA.NUS.PRVT.PP.05</td>\n",
       "      <td>NaN</td>\n",
       "      <td>NaN</td>\n",
       "      <td>NaN</td>\n",
       "      <td>NaN</td>\n",
       "      <td>NaN</td>\n",
       "      <td>NaN</td>\n",
       "      <td>...</td>\n",
       "      <td>NaN</td>\n",
       "      <td>0.000000</td>\n",
       "      <td>NaN</td>\n",
       "      <td>NaN</td>\n",
       "      <td>NaN</td>\n",
       "      <td>NaN</td>\n",
       "      <td>NaN</td>\n",
       "      <td>NaN</td>\n",
       "      <td>NaN</td>\n",
       "      <td>NaN</td>\n",
       "    </tr>\n",
       "    <tr>\n",
       "      <th>2</th>\n",
       "      <td>Arab World</td>\n",
       "      <td>ARB</td>\n",
       "      <td>Access to clean fuels and technologies for coo...</td>\n",
       "      <td>EG.CFT.ACCS.ZS</td>\n",
       "      <td>NaN</td>\n",
       "      <td>NaN</td>\n",
       "      <td>NaN</td>\n",
       "      <td>NaN</td>\n",
       "      <td>NaN</td>\n",
       "      <td>NaN</td>\n",
       "      <td>...</td>\n",
       "      <td>82.831932</td>\n",
       "      <td>83.474617</td>\n",
       "      <td>84.006076</td>\n",
       "      <td>84.416148</td>\n",
       "      <td>84.734574</td>\n",
       "      <td>85.003645</td>\n",
       "      <td>85.244971</td>\n",
       "      <td>NaN</td>\n",
       "      <td>NaN</td>\n",
       "      <td>NaN</td>\n",
       "    </tr>\n",
       "    <tr>\n",
       "      <th>3</th>\n",
       "      <td>Arab World</td>\n",
       "      <td>ARB</td>\n",
       "      <td>Access to electricity (% of population)</td>\n",
       "      <td>EG.ELC.ACCS.ZS</td>\n",
       "      <td>NaN</td>\n",
       "      <td>NaN</td>\n",
       "      <td>NaN</td>\n",
       "      <td>NaN</td>\n",
       "      <td>NaN</td>\n",
       "      <td>NaN</td>\n",
       "      <td>...</td>\n",
       "      <td>85.042248</td>\n",
       "      <td>84.655338</td>\n",
       "      <td>85.955345</td>\n",
       "      <td>86.392313</td>\n",
       "      <td>86.846966</td>\n",
       "      <td>87.604961</td>\n",
       "      <td>88.039125</td>\n",
       "      <td>NaN</td>\n",
       "      <td>NaN</td>\n",
       "      <td>NaN</td>\n",
       "    </tr>\n",
       "    <tr>\n",
       "      <th>4</th>\n",
       "      <td>Arab World</td>\n",
       "      <td>ARB</td>\n",
       "      <td>Access to electricity, rural (% of rural popul...</td>\n",
       "      <td>EG.ELC.ACCS.RU.ZS</td>\n",
       "      <td>NaN</td>\n",
       "      <td>NaN</td>\n",
       "      <td>NaN</td>\n",
       "      <td>NaN</td>\n",
       "      <td>NaN</td>\n",
       "      <td>NaN</td>\n",
       "      <td>...</td>\n",
       "      <td>72.292323</td>\n",
       "      <td>71.765345</td>\n",
       "      <td>73.734266</td>\n",
       "      <td>74.500717</td>\n",
       "      <td>75.218497</td>\n",
       "      <td>76.712250</td>\n",
       "      <td>77.407269</td>\n",
       "      <td>NaN</td>\n",
       "      <td>NaN</td>\n",
       "      <td>NaN</td>\n",
       "    </tr>\n",
       "  </tbody>\n",
       "</table>\n",
       "<p>5 rows × 62 columns</p>\n",
       "</div>"
      ],
      "text/plain": [
       "  Country Name Country Code  \\\n",
       "0   Arab World          ARB   \n",
       "1   Arab World          ARB   \n",
       "2   Arab World          ARB   \n",
       "3   Arab World          ARB   \n",
       "4   Arab World          ARB   \n",
       "\n",
       "                                      Indicator Name     Indicator Code  1960  \\\n",
       "0  2005 PPP conversion factor, GDP (LCU per inter...      PA.NUS.PPP.05   NaN   \n",
       "1  2005 PPP conversion factor, private consumptio...  PA.NUS.PRVT.PP.05   NaN   \n",
       "2  Access to clean fuels and technologies for coo...     EG.CFT.ACCS.ZS   NaN   \n",
       "3            Access to electricity (% of population)     EG.ELC.ACCS.ZS   NaN   \n",
       "4  Access to electricity, rural (% of rural popul...  EG.ELC.ACCS.RU.ZS   NaN   \n",
       "\n",
       "   1961  1962  1963  1964  1965     ...            2008       2009       2010  \\\n",
       "0   NaN   NaN   NaN   NaN   NaN     ...             NaN   0.000000        NaN   \n",
       "1   NaN   NaN   NaN   NaN   NaN     ...             NaN   0.000000        NaN   \n",
       "2   NaN   NaN   NaN   NaN   NaN     ...       82.831932  83.474617  84.006076   \n",
       "3   NaN   NaN   NaN   NaN   NaN     ...       85.042248  84.655338  85.955345   \n",
       "4   NaN   NaN   NaN   NaN   NaN     ...       72.292323  71.765345  73.734266   \n",
       "\n",
       "        2011       2012       2013       2014  2015  2016  Unnamed: 61  \n",
       "0        NaN        NaN        NaN        NaN   NaN   NaN          NaN  \n",
       "1        NaN        NaN        NaN        NaN   NaN   NaN          NaN  \n",
       "2  84.416148  84.734574  85.003645  85.244971   NaN   NaN          NaN  \n",
       "3  86.392313  86.846966  87.604961  88.039125   NaN   NaN          NaN  \n",
       "4  74.500717  75.218497  76.712250  77.407269   NaN   NaN          NaN  \n",
       "\n",
       "[5 rows x 62 columns]"
      ]
     },
     "execution_count": 219,
     "metadata": {},
     "output_type": "execute_result"
    }
   ],
   "source": [
    "df.head()"
   ]
  },
  {
   "cell_type": "markdown",
   "metadata": {},
   "source": [
    "Много NaN в данных, поищем год, где их поменьше."
   ]
  },
  {
   "cell_type": "code",
   "execution_count": 24,
   "metadata": {
    "collapsed": true
   },
   "outputs": [],
   "source": [
    "data = df.values"
   ]
  },
  {
   "cell_type": "code",
   "execution_count": 25,
   "metadata": {
    "collapsed": true
   },
   "outputs": [],
   "source": [
    "import math\n",
    "length = list()\n",
    "years = range(2000, 2017)\n",
    "for i in xrange(len(years)):\n",
    "    size = len([x for x in data[:, 45 + i] if math.isnan(x) == False])\n",
    "    length.append(size)"
   ]
  },
  {
   "cell_type": "code",
   "execution_count": 26,
   "metadata": {},
   "outputs": [
    {
     "data": {
      "text/plain": [
       "[<matplotlib.lines.Line2D at 0x7f93e67b0150>]"
      ]
     },
     "execution_count": 26,
     "metadata": {},
     "output_type": "execute_result"
    },
    {
     "data": {
      "image/png": "[encoded data removed]",
      "text/plain": [
       "<matplotlib.figure.Figure at 0x7f93ee56f790>"
      ]
     },
     "metadata": {},
     "output_type": "display_data"
    }
   ],
   "source": [
    "pl.plot(years, length)"
   ]
  },
  {
   "cell_type": "markdown",
   "metadata": {},
   "source": [
    "Если рассматривать последние года, то в 2009 году наибольшее количество данных."
   ]
  },
  {
   "cell_type": "code",
   "execution_count": 203,
   "metadata": {
    "collapsed": true
   },
   "outputs": [],
   "source": [
    "data = df['2009'].values"
   ]
  },
  {
   "cell_type": "code",
   "execution_count": 28,
   "metadata": {
    "collapsed": true
   },
   "outputs": [],
   "source": [
    "for i in xrange(len(data)):\n",
    "    if math.isnan(data[i]) == True:\n",
    "        data[i] = 0"
   ]
  },
  {
   "cell_type": "markdown",
   "metadata": {},
   "source": [
    "Посчитаем количество стран и сколько данных есть по каждой стране"
   ]
  },
  {
   "cell_type": "code",
   "execution_count": 104,
   "metadata": {},
   "outputs": [],
   "source": [
    "countries = np.unique(df['Country Name'])"
   ]
  },
  {
   "cell_type": "code",
   "execution_count": 105,
   "metadata": {},
   "outputs": [
    {
     "data": {
      "text/plain": [
       "(264,)"
      ]
     },
     "execution_count": 105,
     "metadata": {},
     "output_type": "execute_result"
    }
   ],
   "source": [
    "countries.shape"
   ]
  },
  {
   "cell_type": "code",
   "execution_count": 30,
   "metadata": {},
   "outputs": [
    {
     "data": {
      "text/plain": [
       "1553.0"
      ]
     },
     "execution_count": 30,
     "metadata": {},
     "output_type": "execute_result"
    }
   ],
   "source": [
    "df.shape[0] / 264.0"
   ]
  },
  {
   "cell_type": "markdown",
   "metadata": {},
   "source": [
    "Создадим массив, который будем кластеризовать"
   ]
  },
  {
   "cell_type": "code",
   "execution_count": 31,
   "metadata": {
    "collapsed": true
   },
   "outputs": [],
   "source": [
    "x_countries = np.empty([264, 1553])\n",
    "for i in xrange(264):\n",
    "    x_countries[i] = data[i * 1553 :(i + 1) * 1553]"
   ]
  },
  {
   "cell_type": "code",
   "execution_count": 32,
   "metadata": {},
   "outputs": [],
   "source": [
    "x_mean = x_countries.mean(axis = 0)"
   ]
  },
  {
   "cell_type": "code",
   "execution_count": 33,
   "metadata": {
    "collapsed": true
   },
   "outputs": [],
   "source": [
    "x_del = list()\n",
    "for i in xrange(x_countries.shape[1]):\n",
    "    if x_mean[i] == 0:\n",
    "        x_del.append(i)"
   ]
  },
  {
   "cell_type": "code",
   "execution_count": 34,
   "metadata": {},
   "outputs": [],
   "source": [
    "x_countries = np.delete(x_countries, x_del, 1)"
   ]
  },
  {
   "cell_type": "code",
   "execution_count": 36,
   "metadata": {},
   "outputs": [],
   "source": [
    "x_countries = (x_countries - x_countries.mean(axis = 0)) / x_countries.std(axis = 0)"
   ]
  },
  {
   "cell_type": "code",
   "execution_count": 232,
   "metadata": {},
   "outputs": [],
   "source": [
    "model_countries = Clustering(eps = 30, min_pts = 2).fit_predict(x_countries)"
   ]
  },
  {
   "cell_type": "code",
   "execution_count": 233,
   "metadata": {},
   "outputs": [
    {
     "data": {
      "text/plain": [
       "array([ 0.,  0.,  0.,  0.,  0., -1.,  0.,  0.,  0., -1.,  0.,  0.,  0.,\n",
       "        0.,  1.,  0., -1.,  0.,  0.,  0.,  0.,  0., -1.,  0.,  0., -1.,\n",
       "        0., -1.,  0.,  0.,  0., -1.,  0.,  0.,  1.,  0.,  0.,  1.,  0.,\n",
       "        0.,  0.,  0.,  0.,  0.,  0., -1., -1., -1., -1., -1.,  0.,  0.,\n",
       "       -1.,  0.,  0., -1.,  0.,  0.,  0., -1.,  0.,  2.,  0.,  0., -1.,\n",
       "        0., -1.,  0.,  0., -1., -1.,  0.,  3., -1.,  0.,  2.,  0.,  0.,\n",
       "       -1.,  0., -1.,  0.,  0.,  0.,  0.,  0.,  0., -1., -1., -1.,  0.,\n",
       "       -1., -1., -1., -1.,  0., -1.,  0.,  0.,  0.,  0., -1.,  0., -1.,\n",
       "       -1., -1., -1., -1., -1.,  0., -1.,  0.,  0.,  0.,  0.,  0.,  0.,\n",
       "        0., -1.,  0.,  0.,  0.,  0.,  0.,  0.,  0., -1.,  0.,  0., -1.,\n",
       "        0., -1., -1.,  0., -1., -1., -1., -1.,  0.,  0.,  0.,  0.,  0.,\n",
       "       -1., -1.,  0., -1., -1., -1., -1., -1., -1.,  2., -1., -1.,  0.,\n",
       "       -1., -1., -1.,  0.,  0.,  0., -1., -1.,  0., -1.,  0., -1., -1.,\n",
       "        0., -1.,  0.,  0.,  0., -1., -1., -1.,  0., -1.,  0.,  0.,  0.,\n",
       "       -1.,  3.,  0., -1.,  0.,  0.,  0.,  0., -1., -1.,  0.,  0.,  2.,\n",
       "        0.,  0., -1., -1., -1., -1., -1.,  0.,  0.,  0., -1.,  0., -1.,\n",
       "        0.,  0.,  0., -1.,  0.,  0.,  0.,  0., -1., -1.,  0.,  0.,  0.,\n",
       "        0., -1., -1.,  0.,  0., -1.,  0.,  0.,  0.,  0., -1., -1.,  3.,\n",
       "        0.,  0., -1., -1.,  0., -1., -1.,  0.,  0., -1.,  0., -1., -1.,\n",
       "        0.,  0., -1., -1., -1.,  0., -1., -1., -1., -1., -1., -1.,  0.,\n",
       "       -1.,  0.,  0., -1.])"
      ]
     },
     "execution_count": 233,
     "metadata": {},
     "output_type": "execute_result"
    }
   ],
   "source": [
    "model_countries"
   ]
  },
  {
   "cell_type": "code",
   "execution_count": 235,
   "metadata": {},
   "outputs": [],
   "source": [
    "Clusters = list()\n",
    "for i in np.unique(model_countries):\n",
    "    clus = list()\n",
    "    for j in xrange(len(model_countries)):\n",
    "        if i == model_countries[j]:\n",
    "            clus.append(j)\n",
    "    Clusters.append(clus)"
   ]
  },
  {
   "cell_type": "code",
   "execution_count": 236,
   "metadata": {},
   "outputs": [],
   "source": [
    "countries_clustered = list()\n",
    "for i in xrange(len(Clusters)):\n",
    "    clus = list()\n",
    "    for j in Clusters[i]:\n",
    "        clus.append(countries[j])\n",
    "    countries_clustered.append(clus)"
   ]
  },
  {
   "cell_type": "markdown",
   "metadata": {},
   "source": [
    "Массив, элемент i которого содержит страны, лежащие в (i - 1) кластере"
   ]
  },
  {
   "cell_type": "code",
   "execution_count": 230,
   "metadata": {},
   "outputs": [
    {
     "data": {
      "text/plain": [
       "[['Armenia',\n",
       "  'Bermuda',\n",
       "  'Bosnia and Herzegovina',\n",
       "  'Brazil',\n",
       "  'Burkina Faso',\n",
       "  'Colombia',\n",
       "  'Comoros',\n",
       "  'Congo, Rep.',\n",
       "  'Czech Republic',\n",
       "  'Dominican Republic',\n",
       "  'Ecuador',\n",
       "  'Estonia',\n",
       "  'Ethiopia',\n",
       "  'Europe & Central Asia (IDA & IBRD countries)',\n",
       "  'France',\n",
       "  'Greece',\n",
       "  'Greenland',\n",
       "  'Guam',\n",
       "  'IDA & IBRD total',\n",
       "  'IDA blend',\n",
       "  'IDA only',\n",
       "  'Iceland',\n",
       "  'Jordan',\n",
       "  'Latvia',\n",
       "  'Lesotho',\n",
       "  'Liberia',\n",
       "  'Libya',\n",
       "  'Macao SAR, China',\n",
       "  'Malawi',\n",
       "  'Mali',\n",
       "  'Mauritania',\n",
       "  'Micronesia, Fed. Sts.',\n",
       "  'Middle East & North Africa',\n",
       "  'Middle East & North Africa (IDA & IBRD countries)',\n",
       "  'Mongolia',\n",
       "  'Morocco',\n",
       "  'Namibia',\n",
       "  'Nigeria',\n",
       "  'Northern Mariana Islands',\n",
       "  'Peru',\n",
       "  'Rwanda',\n",
       "  'Senegal',\n",
       "  'Seychelles',\n",
       "  'Slovak Republic',\n",
       "  'South Asia',\n",
       "  'St. Kitts and Nevis',\n",
       "  'St. Lucia',\n",
       "  'Sub-Saharan Africa',\n",
       "  'Tanzania',\n",
       "  'Thailand',\n",
       "  'Tonga',\n",
       "  'Turks and Caicos Islands',\n",
       "  'Uruguay',\n",
       "  'Uzbekistan',\n",
       "  'Virgin Islands (U.S.)',\n",
       "  'World',\n",
       "  'Zimbabwe'],\n",
       " ['Afghanistan',\n",
       "  'Albania',\n",
       "  'Algeria',\n",
       "  'American Samoa',\n",
       "  'Andorra',\n",
       "  'Angola',\n",
       "  'Antigua and Barbuda',\n",
       "  'Arab World',\n",
       "  'Argentina',\n",
       "  'Aruba',\n",
       "  'Australia',\n",
       "  'Austria',\n",
       "  'Azerbaijan',\n",
       "  'Bahamas, The',\n",
       "  'Bahrain',\n",
       "  'Bangladesh',\n",
       "  'Barbados',\n",
       "  'Belarus',\n",
       "  'Belgium',\n",
       "  'Belize',\n",
       "  'Benin',\n",
       "  'Bhutan',\n",
       "  'Bolivia',\n",
       "  'Botswana',\n",
       "  'British Virgin Islands',\n",
       "  'Brunei Darussalam',\n",
       "  'Bulgaria',\n",
       "  'Burundi',\n",
       "  'Cabo Verde',\n",
       "  'Cambodia',\n",
       "  'Cameroon',\n",
       "  'Canada',\n",
       "  'Caribbean small states',\n",
       "  'Cayman Islands',\n",
       "  'Central African Republic',\n",
       "  'Central Europe and the Baltics',\n",
       "  'Chad',\n",
       "  'Channel Islands',\n",
       "  'Chile',\n",
       "  'China',\n",
       "  'Congo, Dem. Rep.',\n",
       "  'Costa Rica',\n",
       "  \"Cote d'Ivoire\",\n",
       "  'Croatia',\n",
       "  'Cuba',\n",
       "  'Curacao',\n",
       "  'Cyprus',\n",
       "  'Denmark',\n",
       "  'Djibouti',\n",
       "  'Dominica',\n",
       "  'Early-demographic dividend',\n",
       "  'East Asia & Pacific',\n",
       "  'East Asia & Pacific (IDA & IBRD countries)',\n",
       "  'East Asia & Pacific (excluding high income)',\n",
       "  'Egypt, Arab Rep.',\n",
       "  'El Salvador',\n",
       "  'Equatorial Guinea',\n",
       "  'Eritrea',\n",
       "  'Euro area',\n",
       "  'Europe & Central Asia',\n",
       "  'Europe & Central Asia (excluding high income)',\n",
       "  'European Union',\n",
       "  'Faroe Islands',\n",
       "  'Fiji',\n",
       "  'Finland',\n",
       "  'Fragile and conflict affected situations',\n",
       "  'French Polynesia',\n",
       "  'Gabon',\n",
       "  'Gambia, The',\n",
       "  'Georgia',\n",
       "  'Germany',\n",
       "  'Ghana',\n",
       "  'Grenada',\n",
       "  'Guatemala',\n",
       "  'Guinea-Bissau',\n",
       "  'Guyana',\n",
       "  'Haiti',\n",
       "  'Heavily indebted poor countries (HIPC)',\n",
       "  'High income',\n",
       "  'Honduras',\n",
       "  'Hong Kong SAR, China',\n",
       "  'Hungary',\n",
       "  'IBRD only',\n",
       "  'IDA total',\n",
       "  'India',\n",
       "  'Indonesia',\n",
       "  'Iran, Islamic Rep.',\n",
       "  'Iraq',\n",
       "  'Ireland',\n",
       "  'Isle of Man',\n",
       "  'Israel',\n",
       "  'Italy',\n",
       "  'Jamaica',\n",
       "  'Japan',\n",
       "  'Kazakhstan',\n",
       "  'Kenya',\n",
       "  'Kiribati',\n",
       "  'Korea, Dem. People\\xe2\\x80\\x99s Rep.',\n",
       "  'Korea, Rep.',\n",
       "  'Kosovo',\n",
       "  'Kuwait',\n",
       "  'Kyrgyz Republic',\n",
       "  'Lao PDR',\n",
       "  'Late-demographic dividend',\n",
       "  'Latin America & Caribbean',\n",
       "  'Latin America & Caribbean (excluding high income)',\n",
       "  'Latin America & the Caribbean (IDA & IBRD countries)',\n",
       "  'Least developed countries: UN classification',\n",
       "  'Lebanon',\n",
       "  'Liechtenstein',\n",
       "  'Lithuania',\n",
       "  'Low & middle income',\n",
       "  'Low income',\n",
       "  'Lower middle income',\n",
       "  'Luxembourg',\n",
       "  'Macedonia, FYR',\n",
       "  'Madagascar',\n",
       "  'Malaysia',\n",
       "  'Maldives',\n",
       "  'Malta',\n",
       "  'Marshall Islands',\n",
       "  'Mauritius',\n",
       "  'Mexico',\n",
       "  'Middle East & North Africa (excluding high income)',\n",
       "  'Middle income',\n",
       "  'Moldova',\n",
       "  'Monaco',\n",
       "  'Montenegro',\n",
       "  'Mozambique',\n",
       "  'Myanmar',\n",
       "  'Nauru',\n",
       "  'Nepal',\n",
       "  'Netherlands',\n",
       "  'New Caledonia',\n",
       "  'New Zealand',\n",
       "  'Nicaragua',\n",
       "  'Niger',\n",
       "  'North America',\n",
       "  'Norway',\n",
       "  'Not classified',\n",
       "  'OECD members',\n",
       "  'Oman',\n",
       "  'Other small states',\n",
       "  'Pacific island small states',\n",
       "  'Pakistan',\n",
       "  'Palau',\n",
       "  'Panama',\n",
       "  'Papua New Guinea',\n",
       "  'Paraguay',\n",
       "  'Philippines',\n",
       "  'Poland',\n",
       "  'Portugal',\n",
       "  'Post-demographic dividend',\n",
       "  'Pre-demographic dividend',\n",
       "  'Puerto Rico',\n",
       "  'Qatar',\n",
       "  'Romania',\n",
       "  'Russian Federation',\n",
       "  'Samoa',\n",
       "  'San Marino',\n",
       "  'Sao Tome and Principe',\n",
       "  'Saudi Arabia',\n",
       "  'Serbia',\n",
       "  'Sierra Leone',\n",
       "  'Singapore',\n",
       "  'Sint Maarten (Dutch part)',\n",
       "  'Slovenia',\n",
       "  'Small states',\n",
       "  'Solomon Islands',\n",
       "  'Somalia',\n",
       "  'South Africa',\n",
       "  'South Asia (IDA & IBRD)',\n",
       "  'South Sudan',\n",
       "  'Spain',\n",
       "  'Sri Lanka',\n",
       "  'St. Martin (French part)',\n",
       "  'St. Vincent and the Grenadines',\n",
       "  'Sub-Saharan Africa (IDA & IBRD countries)',\n",
       "  'Sub-Saharan Africa (excluding high income)',\n",
       "  'Sudan',\n",
       "  'Suriname',\n",
       "  'Swaziland',\n",
       "  'Sweden',\n",
       "  'Switzerland',\n",
       "  'Syrian Arab Republic',\n",
       "  'Tajikistan',\n",
       "  'Timor-Leste',\n",
       "  'Togo',\n",
       "  'Trinidad and Tobago',\n",
       "  'Tunisia',\n",
       "  'Turkey',\n",
       "  'Turkmenistan',\n",
       "  'Tuvalu',\n",
       "  'Uganda',\n",
       "  'Ukraine',\n",
       "  'United Arab Emirates',\n",
       "  'United Kingdom',\n",
       "  'United States',\n",
       "  'Upper middle income',\n",
       "  'Vanuatu',\n",
       "  'Venezuela, RB',\n",
       "  'Vietnam',\n",
       "  'West Bank and Gaza',\n",
       "  'Yemen, Rep.',\n",
       "  'Zambia'],\n",
       " ['Gibraltar', 'Guinea']]"
      ]
     },
     "execution_count": 230,
     "metadata": {},
     "output_type": "execute_result"
    }
   ],
   "source": [
    "countries_clustered"
   ]
  },
  {
   "cell_type": "code",
   "execution_count": 199,
   "metadata": {
    "collapsed": true
   },
   "outputs": [],
   "source": [
    "countries_tsne = sm.TSNE(n_components = 2).fit_transform(x_countries)"
   ]
  },
  {
   "cell_type": "code",
   "execution_count": 234,
   "metadata": {},
   "outputs": [
    {
     "data": {
      "text/plain": [
       "<matplotlib.collections.PathCollection at 0x7f93e4908c10>"
      ]
     },
     "execution_count": 234,
     "metadata": {},
     "output_type": "execute_result"
    },
    {
     "data": {
      "image/png": "[encoded data removed]",
      "text/plain": [
       "<matplotlib.figure.Figure at 0x7f93e496c110>"
      ]
     },
     "metadata": {},
     "output_type": "display_data"
    }
   ],
   "source": [
    "pl.scatter(countries_tsne[:,0], countries_tsne[:,1], c = model_countries)"
   ]
  },
  {
   "cell_type": "code",
   "execution_count": null,
   "metadata": {
    "collapsed": true
   },
   "outputs": [],
   "source": [
    "## Задание 4"
   ]
  },
  {
   "cell_type": "markdown",
   "metadata": {},
   "source": [
    "Много раз пробовал запустить кластеризацию, всегда получается что то довольно странное. Но основной результат в том, что страны разделяются на более и менее развитые."
   ]
  },
  {
   "cell_type": "markdown",
   "metadata": {},
   "source": [
    "Поздравляем, Вы завершили домашние задания по модулю \"Алгоритмы кластеризации\". Надеемся, что это было интересно."
   ]
  }
 ],
 "metadata": {
  "kernelspec": {
   "display_name": "Python 2",
   "language": "python",
   "name": "python2"
  },
  "language_info": {
   "codemirror_mode": {
    "name": "ipython",
    "version": 2
   },
   "file_extension": ".py",
   "mimetype": "text/x-python",
   "name": "python",
   "nbconvert_exporter": "python",
   "pygments_lexer": "ipython2",
   "version": "2.7.13"
  }
 },
 "nbformat": 4,
 "nbformat_minor": 1
}
